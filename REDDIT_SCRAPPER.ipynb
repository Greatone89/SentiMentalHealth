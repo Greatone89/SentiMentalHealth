{
 "cells": [
  {
   "cell_type": "markdown",
   "metadata": {},
   "source": [
    "# **Reddit Scrapper**"
   ]
  },
  {
   "cell_type": "markdown",
   "metadata": {},
   "source": [
    "Doesn't work as well on Google Colab. We recommend running this locally and then exporting the files."
   ]
  },
  {
   "cell_type": "code",
   "execution_count": null,
   "metadata": {},
   "outputs": [],
   "source": [
    "import os\n",
    "SUBREDDITS = ['Anxiety','bipolar','depression','SuicideWatch'] \n",
    "DATADIR = os.getcwd() + \"/data/\"\n",
    "print(DATADIR)\n",
    "if \"data\" not in os.listdir():\n",
    "    os.makedirs(os.getcwd() + \"/data/\")\n",
    "assert \"src\" in os.listdir()\n",
    "\n",
    "for subreddit in SUBREDDITS:\n",
    "    os.system(f\"python scraper.py --subreddit {subreddit}\")\n",
    "    "
   ]
  }
 ],
 "metadata": {
  "colab": {
   "collapsed_sections": [],
   "name": "RedditCrawler_v2 REPLACE BY v3.ipynb",
   "provenance": []
  },
  "kernelspec": {
   "display_name": "Python 3",
   "language": "python",
   "name": "python3"
  },
  "language_info": {
   "codemirror_mode": {
    "name": "ipython",
    "version": 3
   },
   "file_extension": ".py",
   "mimetype": "text/x-python",
   "name": "python",
   "nbconvert_exporter": "python",
   "pygments_lexer": "ipython3",
   "version": "3.9.4"
  }
 },
 "nbformat": 4,
 "nbformat_minor": 1
}
