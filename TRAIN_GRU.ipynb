{
 "cells": [
  {
   "cell_type": "markdown",
   "metadata": {
    "id": "OKpd9gQqT1Z-"
   },
   "source": [
    "#**0**. Get node specs"
   ]
  },
  {
   "cell_type": "code",
   "execution_count": 31,
   "metadata": {
    "colab": {
     "base_uri": "https://localhost:8080/"
    },
    "executionInfo": {
     "elapsed": 587,
     "status": "ok",
     "timestamp": 1618966838173,
     "user": {
      "displayName": "Henrique Silva",
      "photoUrl": "https://lh3.googleusercontent.com/a-/AOh14Gh0sTZzx8mKsKV9-j3HdK09d6njRJoJnyBA8jbau1I=s64",
      "userId": "15429421149160718308"
     },
     "user_tz": 180
    },
    "id": "4LLP4aXguwcr",
    "outputId": "72221240-4fcf-4799-daeb-299523662a14"
   },
   "outputs": [
    {
     "name": "stdout",
     "output_type": "stream",
     "text": [
      "GPU 0: NVIDIA GeForce RTX 2060 (UUID: GPU-c5ab3c3f-bb9c-1f56-7d2f-ef2d3211e013)\n"
     ]
    }
   ],
   "source": [
    "#GPU count and name\n",
    "!nvidia-smi -L"
   ]
  },
  {
   "cell_type": "code",
   "execution_count": 32,
   "metadata": {
    "colab": {
     "base_uri": "https://localhost:8080/"
    },
    "executionInfo": {
     "elapsed": 915,
     "status": "ok",
     "timestamp": 1618966838509,
     "user": {
      "displayName": "Henrique Silva",
      "photoUrl": "https://lh3.googleusercontent.com/a-/AOh14Gh0sTZzx8mKsKV9-j3HdK09d6njRJoJnyBA8jbau1I=s64",
      "userId": "15429421149160718308"
     },
     "user_tz": 180
    },
    "id": "Y4h8vspluxx7",
    "outputId": "ff7a1061-5f80-4dbe-cf51-5e04384b886d"
   },
   "outputs": [
    {
     "name": "stdout",
     "output_type": "stream",
     "text": [
      "Thu Jun 10 18:19:21 2021       \n",
      "+-----------------------------------------------------------------------------+\n",
      "| NVIDIA-SMI 466.27       Driver Version: 466.27       CUDA Version: 11.3     |\n",
      "|-------------------------------+----------------------+----------------------+\n",
      "| GPU  Name            TCC/WDDM | Bus-Id        Disp.A | Volatile Uncorr. ECC |\n",
      "| Fan  Temp  Perf  Pwr:Usage/Cap|         Memory-Usage | GPU-Util  Compute M. |\n",
      "|                               |                      |               MIG M. |\n",
      "|===============================+======================+======================|\n",
      "|   0  NVIDIA GeForce ... WDDM  | 00000000:01:00.0  On |                  N/A |\n",
      "| 42%   32C    P8    22W / 160W |   1331MiB /  6144MiB |      2%      Default |\n",
      "|                               |                      |                  N/A |\n",
      "+-------------------------------+----------------------+----------------------+\n",
      "                                                                               \n",
      "+-----------------------------------------------------------------------------+\n",
      "| Processes:                                                                  |\n",
      "|  GPU   GI   CI        PID   Type   Process name                  GPU Memory |\n",
      "|        ID   ID                                                   Usage      |\n",
      "|=============================================================================|\n",
      "|    0   N/A  N/A      1124    C+G   Insufficient Permissions        N/A      |\n",
      "|    0   N/A  N/A      2904    C+G   ...ekyb3d8bbwe\\YourPhone.exe    N/A      |\n",
      "|    0   N/A  N/A      3080    C+G   ...kyb3d8bbwe\\Calculator.exe    N/A      |\n",
      "|    0   N/A  N/A      3808    C+G   D:\\Origin\\Origin.exe            N/A      |\n",
      "|    0   N/A  N/A      4704    C+G   ...\\app-1.0.9002\\Discord.exe    N/A      |\n",
      "|    0   N/A  N/A      5452    C+G   ...lPanel\\SystemSettings.exe    N/A      |\n",
      "|    0   N/A  N/A      6288    C+G   ...b3d8bbwe\\WinStore.App.exe    N/A      |\n",
      "|    0   N/A  N/A      6608    C+G   C:\\Windows\\explorer.exe         N/A      |\n",
      "|    0   N/A  N/A      7552    C+G   ...perience\\NVIDIA Share.exe    N/A      |\n",
      "|    0   N/A  N/A      8184    C+G   ...perience\\NVIDIA Share.exe    N/A      |\n",
      "|    0   N/A  N/A      8788    C+G   ...artMenuExperienceHost.exe    N/A      |\n",
      "|    0   N/A  N/A      9048    C+G   ...5n1h2txyewy\\SearchApp.exe    N/A      |\n",
      "|    0   N/A  N/A      9200    C+G   ...bbwe\\HxCalendarAppImm.exe    N/A      |\n",
      "|    0   N/A  N/A      9372    C+G   ...wekyb3d8bbwe\\Video.UI.exe    N/A      |\n",
      "|    0   N/A  N/A      9476    C+G   ...y\\ShellExperienceHost.exe    N/A      |\n",
      "|    0   N/A  N/A     11032    C+G   ...me\\Application\\chrome.exe    N/A      |\n",
      "|    0   N/A  N/A     11524    C+G   ...t\\Teams\\current\\Teams.exe    N/A      |\n",
      "|    0   N/A  N/A     11696    C+G   ...nputApp\\TextInputHost.exe    N/A      |\n",
      "|    0   N/A  N/A     12024    C+G   ...Roaming\\Zoom\\bin\\Zoom.exe    N/A      |\n",
      "|    0   N/A  N/A     14472    C+G   ...bbwe\\Microsoft.Photos.exe    N/A      |\n",
      "|    0   N/A  N/A     15016    C+G   ...zpdnekdrzrea0\\Spotify.exe    N/A      |\n",
      "|    0   N/A  N/A     17084    C+G   ...t\\Teams\\current\\Teams.exe    N/A      |\n",
      "|    0   N/A  N/A     17216    C+G   ...in7x64\\steamwebhelper.exe    N/A      |\n",
      "|    0   N/A  N/A     17648    C+G   ...5n1h2txyewy\\SearchApp.exe    N/A      |\n",
      "+-----------------------------------------------------------------------------+\n"
     ]
    }
   ],
   "source": [
    "#use this command to see GPU activity while doing Deep Learning tasks, for this command 'nvidia-smi' and for above one to work, go to 'Runtime > change runtime type > Hardware Accelerator > GPU'\n",
    "!nvidia-smi"
   ]
  },
  {
   "cell_type": "code",
   "execution_count": 33,
   "metadata": {
    "colab": {
     "base_uri": "https://localhost:8080/"
    },
    "executionInfo": {
     "elapsed": 908,
     "status": "ok",
     "timestamp": 1618966838509,
     "user": {
      "displayName": "Henrique Silva",
      "photoUrl": "https://lh3.googleusercontent.com/a-/AOh14Gh0sTZzx8mKsKV9-j3HdK09d6njRJoJnyBA8jbau1I=s64",
      "userId": "15429421149160718308"
     },
     "user_tz": 180
    },
    "id": "5g0gqZODu08K",
    "outputId": "57c3a0e8-5f8f-4f88-b15f-eec72e97e486"
   },
   "outputs": [
    {
     "name": "stderr",
     "output_type": "stream",
     "text": [
      "'lscpu' is not recognized as an internal or external command,\n",
      "operable program or batch file.\n"
     ]
    }
   ],
   "source": [
    "!lscpu |grep 'Model name'"
   ]
  },
  {
   "cell_type": "code",
   "execution_count": 34,
   "metadata": {
    "colab": {
     "base_uri": "https://localhost:8080/"
    },
    "executionInfo": {
     "elapsed": 902,
     "status": "ok",
     "timestamp": 1618966838510,
     "user": {
      "displayName": "Henrique Silva",
      "photoUrl": "https://lh3.googleusercontent.com/a-/AOh14Gh0sTZzx8mKsKV9-j3HdK09d6njRJoJnyBA8jbau1I=s64",
      "userId": "15429421149160718308"
     },
     "user_tz": 180
    },
    "id": "uBm8shfMu2eG",
    "outputId": "b76f44dc-5b6a-4a6b-da6a-74cf20313a24"
   },
   "outputs": [
    {
     "name": "stderr",
     "output_type": "stream",
     "text": [
      "'lscpu' is not recognized as an internal or external command,\n",
      "operable program or batch file.\n"
     ]
    }
   ],
   "source": [
    "#no.of sockets i.e available slots for physical processors\n",
    "!lscpu | grep 'Socket(s):'"
   ]
  },
  {
   "cell_type": "code",
   "execution_count": 35,
   "metadata": {
    "colab": {
     "base_uri": "https://localhost:8080/"
    },
    "executionInfo": {
     "elapsed": 1267,
     "status": "ok",
     "timestamp": 1618966838881,
     "user": {
      "displayName": "Henrique Silva",
      "photoUrl": "https://lh3.googleusercontent.com/a-/AOh14Gh0sTZzx8mKsKV9-j3HdK09d6njRJoJnyBA8jbau1I=s64",
      "userId": "15429421149160718308"
     },
     "user_tz": 180
    },
    "id": "77ql63Exu4Yd",
    "outputId": "abb2b6fd-4558-40b1-ef81-c55a30ae6653"
   },
   "outputs": [
    {
     "name": "stderr",
     "output_type": "stream",
     "text": [
      "'lscpu' is not recognized as an internal or external command,\n",
      "operable program or batch file.\n"
     ]
    }
   ],
   "source": [
    "#no.of cores each processor is having \n",
    "!lscpu | grep 'Core(s) per socket:'"
   ]
  },
  {
   "cell_type": "code",
   "execution_count": 36,
   "metadata": {
    "colab": {
     "base_uri": "https://localhost:8080/"
    },
    "executionInfo": {
     "elapsed": 1260,
     "status": "ok",
     "timestamp": 1618966838882,
     "user": {
      "displayName": "Henrique Silva",
      "photoUrl": "https://lh3.googleusercontent.com/a-/AOh14Gh0sTZzx8mKsKV9-j3HdK09d6njRJoJnyBA8jbau1I=s64",
      "userId": "15429421149160718308"
     },
     "user_tz": 180
    },
    "id": "1315k8Z5u55t",
    "outputId": "633b25d6-96a9-4b51-d112-ed1ed8bf0db6"
   },
   "outputs": [
    {
     "name": "stderr",
     "output_type": "stream",
     "text": [
      "'lscpu' is not recognized as an internal or external command,\n",
      "operable program or batch file.\n"
     ]
    }
   ],
   "source": [
    "#no.of threads each core is having\n",
    "!lscpu | grep 'Thread(s) per core'"
   ]
  },
  {
   "cell_type": "code",
   "execution_count": 37,
   "metadata": {
    "colab": {
     "base_uri": "https://localhost:8080/"
    },
    "executionInfo": {
     "elapsed": 1254,
     "status": "ok",
     "timestamp": 1618966838883,
     "user": {
      "displayName": "Henrique Silva",
      "photoUrl": "https://lh3.googleusercontent.com/a-/AOh14Gh0sTZzx8mKsKV9-j3HdK09d6njRJoJnyBA8jbau1I=s64",
      "userId": "15429421149160718308"
     },
     "user_tz": 180
    },
    "id": "pSpTGGK9u7gg",
    "outputId": "d8cc9edc-4fe8-46f7-cab9-ba8ce8790b29"
   },
   "outputs": [
    {
     "name": "stderr",
     "output_type": "stream",
     "text": [
      "'lscpu' is not recognized as an internal or external command,\n",
      "operable program or batch file.\n"
     ]
    }
   ],
   "source": [
    "!lscpu | grep \"L3 cache\" "
   ]
  },
  {
   "cell_type": "code",
   "execution_count": null,
   "metadata": {
    "colab": {
     "base_uri": "https://localhost:8080/"
    },
    "executionInfo": {
     "elapsed": 1579,
     "status": "ok",
     "timestamp": 1618966839215,
     "user": {
      "displayName": "Henrique Silva",
      "photoUrl": "https://lh3.googleusercontent.com/a-/AOh14Gh0sTZzx8mKsKV9-j3HdK09d6njRJoJnyBA8jbau1I=s64",
      "userId": "15429421149160718308"
     },
     "user_tz": 180
    },
    "id": "6ugHeKu_u9Yd",
    "outputId": "be7f4fb0-0606-46f6-81b6-0319925ef62c"
   },
   "outputs": [
    {
     "name": "stdout",
     "output_type": "stream",
     "text": [
      "CPU MHz:             2299.998\n"
     ]
    }
   ],
   "source": [
    "#if it had turbo boost it would've shown Min and Max MHz also but it is only showing current frequency this means it always operates at 2.3GHz\n",
    "!lscpu | grep \"MHz\""
   ]
  },
  {
   "cell_type": "code",
   "execution_count": null,
   "metadata": {
    "colab": {
     "base_uri": "https://localhost:8080/"
    },
    "executionInfo": {
     "elapsed": 1572,
     "status": "ok",
     "timestamp": 1618966839215,
     "user": {
      "displayName": "Henrique Silva",
      "photoUrl": "https://lh3.googleusercontent.com/a-/AOh14Gh0sTZzx8mKsKV9-j3HdK09d6njRJoJnyBA8jbau1I=s64",
      "userId": "15429421149160718308"
     },
     "user_tz": 180
    },
    "id": "GIbhcdNhu_FF",
    "outputId": "d6ceb564-d000-4e81-9da0-2a4aa4350a94"
   },
   "outputs": [
    {
     "name": "stdout",
     "output_type": "stream",
     "text": [
      "              total        used        free      shared  buff/cache   available\n",
      "Mem:            37G        1.0G         34G        1.0M        2.0G         35G\n",
      "Swap:            0B          0B          0B\n"
     ]
    }
   ],
   "source": [
    "#memory that we can use\n",
    "# !free -h --si | awk  '/Mem:/{print $2}'\n",
    "!free -h --si "
   ]
  },
  {
   "cell_type": "markdown",
   "metadata": {
    "id": "SsOAZVkmTCUT"
   },
   "source": [
    "## **1**. Imports"
   ]
  },
  {
   "cell_type": "code",
   "execution_count": 7,
   "metadata": {
    "executionInfo": {
     "elapsed": 1644,
     "status": "ok",
     "timestamp": 1619043221554,
     "user": {
      "displayName": "Henrique Silva",
      "photoUrl": "https://lh3.googleusercontent.com/a-/AOh14Gh0sTZzx8mKsKV9-j3HdK09d6njRJoJnyBA8jbau1I=s64",
      "userId": "15429421149160718308"
     },
     "user_tz": 180
    },
    "id": "2zP0oI7j9s6F"
   },
   "outputs": [],
   "source": [
    "import os\n",
    "BASEDIR = os.getcwd() + \"/\"\n",
    "dirs = [\"src\",\"results\",\"model\",\"data\"]\n",
    "for dirc in dirs:\n",
    "\tif dirc not in os.listdir(): \n",
    "\t\tos.makedirs(os.path.join(BASEDIR,dirc))\n",
    "PYTHONDIR=BASEDIR+'src/'\n",
    "RESULTSDIR=BASEDIR+'results/'\n",
    "MODELSDIR=BASEDIR+'model/'\n",
    "DATADIR=BASEDIR+'data/'\n",
    "subreddit2title = {'depression':'DEP','suicidewatch':'SUI','anxiety':'ANX','bipolar':'BIP'}"
   ]
  },
  {
   "cell_type": "code",
   "execution_count": 8,
   "metadata": {
    "executionInfo": {
     "elapsed": 1643,
     "status": "ok",
     "timestamp": 1619043221555,
     "user": {
      "displayName": "Henrique Silva",
      "photoUrl": "https://lh3.googleusercontent.com/a-/AOh14Gh0sTZzx8mKsKV9-j3HdK09d6njRJoJnyBA8jbau1I=s64",
      "userId": "15429421149160718308"
     },
     "user_tz": 180
    },
    "id": "W4zubEqFtB4l"
   },
   "outputs": [],
   "source": [
    "# TODO: explain each of the variables below \n",
    "\n",
    "EXTENSION = '.pkl'\n",
    "STRATIFIED = True  # If true, will apply a stratified K-fold cross-validation to the dataset.\n",
    "TRAIN = True # If true, will train the models\n",
    "\n",
    "USE_GRU = True # If true, will use the GRU RNN model in training\n",
    "USE_XGB = False # If true, will use the XGBoost model in training\n",
    "\n",
    "GRID_SEARCH_XGB = False # If true, will do a grid search for the XGBoost model\n",
    "PLOT_XGB = False # If true, will plot the results found by the XGBoost model(Only available if TRAIN = True)\n",
    "\n",
    "TEST  = False # If true, will test the models\n",
    "\n",
    "ZNORMALIZE = False # If true, will apply a z-normalization to the dataset\n",
    "\n",
    "\n",
    "KEEP_TEXT = True # If true, allow to visualize content from posts and comments\n",
    "\n",
    "# SUBREDDITS  = ['Anxiety','bipolar','depression','SuicideWatch'] \n",
    "SUBREDDITS  = ['Anxiety'] \n",
    "\n",
    "assert TRAIN ^ TEST # either TRAIN or TEST\n",
    "\n",
    "FILTERED=True # If true\n",
    "BIN_WIDTH=0.2 # Controls the width of the bins used to calculate the weighted L1 loss\n",
    "MIN_VALUE = -1 # Controls the minimum output value(set to -1)\n",
    "\n",
    "\n",
    "INCLUDE_TARGET = 0\n",
    "INCLUDE_THREAD_COMMENTS = 0\n",
    "\n",
    "\n",
    "MAX_BRANCH_LEN = 16   # not including authors' last comment\n",
    "MAX_THREAD_LEN = 64   # not including authors' last comment"
   ]
  },
  {
   "cell_type": "code",
   "execution_count": 9,
   "metadata": {
    "colab": {
     "base_uri": "https://localhost:8080/"
    },
    "executionInfo": {
     "elapsed": 4594,
     "status": "ok",
     "timestamp": 1619043224518,
     "user": {
      "displayName": "Henrique Silva",
      "photoUrl": "https://lh3.googleusercontent.com/a-/AOh14Gh0sTZzx8mKsKV9-j3HdK09d6njRJoJnyBA8jbau1I=s64",
      "userId": "15429421149160718308"
     },
     "user_tz": 180
    },
    "id": "KfJCklnZc63x",
    "outputId": "37c9fefc-77a4-4ee0-8ccf-29e06730bf53"
   },
   "outputs": [
    {
     "name": "stdout",
     "output_type": "stream",
     "text": [
      "Device successfully set to cuda\n",
      "1.8.1+cu111\n"
     ]
    }
   ],
   "source": [
    "import torch\n",
    "device = torch.device('cuda' if torch.cuda.is_available() else 'cpu')\n",
    "if device == torch.device('cuda'):\n",
    "    print(f\"Device successfully set to cuda\")\n",
    "else:\n",
    "    print(\"WARNING! DEVICE IS NOT SET TO CUDA\")\n",
    "\n",
    "print(torch.__version__)"
   ]
  },
  {
   "cell_type": "code",
   "execution_count": 10,
   "metadata": {
    "executionInfo": {
     "elapsed": 6913,
     "status": "ok",
     "timestamp": 1619043226841,
     "user": {
      "displayName": "Henrique Silva",
      "photoUrl": "https://lh3.googleusercontent.com/a-/AOh14Gh0sTZzx8mKsKV9-j3HdK09d6njRJoJnyBA8jbau1I=s64",
      "userId": "15429421149160718308"
     },
     "user_tz": 180
    },
    "id": "sKyjZsDKKrPY"
   },
   "outputs": [],
   "source": [
    "import sys\n",
    "# sys.path.append(PYTHONDIR)\n",
    "\n",
    "import random\n",
    "import pickle\n",
    "import time\n",
    "import pdb\n",
    "import importlib\n",
    "import itertools\n",
    "import pprint\n",
    "import copy\n",
    "import os\n",
    "\n",
    "import numpy as np\n",
    "import pandas as pd\n",
    "import matplotlib as mpl\n",
    "import matplotlib.pyplot as plt\n",
    "from sklearn.model_selection import GridSearchCV,train_test_split\n",
    "from sklearn.metrics import mean_squared_error\n",
    "\n",
    "from tqdm.notebook import tqdm\n",
    "from scipy import stats\n",
    "\n",
    "import torch.optim as optim\n",
    "import torch.nn as nn\n",
    "import torch.nn.functional as F\n",
    "\n",
    "from xgboost import XGBRegressor, Booster, DMatrix\n",
    "\n",
    "# imports from src package\n",
    "from src import models\n",
    "from src import pytorchtools"
   ]
  },
  {
   "cell_type": "code",
   "execution_count": 11,
   "metadata": {
    "executionInfo": {
     "elapsed": 8105,
     "status": "ok",
     "timestamp": 1619043228035,
     "user": {
      "displayName": "Henrique Silva",
      "photoUrl": "https://lh3.googleusercontent.com/a-/AOh14Gh0sTZzx8mKsKV9-j3HdK09d6njRJoJnyBA8jbau1I=s64",
      "userId": "15429421149160718308"
     },
     "user_tz": 180
    },
    "id": "5J5-QpkT175q"
   },
   "outputs": [],
   "source": [
    "from src.utils import reset_seeds, count_parameters, evaluate, train_over_nepochs, createTensorDataset\n",
    "from src.training_functions import load_df, compute_bin_weights, save_stats_tensors, load_stats_tensors, get_znorm_params, get_subreddit_range, split_indices, get_subreddit_weights, get_baselines_df, WeightedL1Loss, WeightedMSELoss, grid_search_train\n",
    "from torch.utils.data import Dataset, TensorDataset, DataLoader, random_split, Sampler, SubsetRandomSampler, Subset\n",
    "\n"
   ]
  },
  {
   "cell_type": "markdown",
   "metadata": {
    "id": "qfiTmnNDV367"
   },
   "source": [
    "#**2**. Creating a RedditDataset or TensorDataset instance\n",
    "\n",
    "Instead of using a custom Dataset class (former ```RedditDataset```), we store the data required by the experiments in a ```TensorDataset``` to speed up the retrieval of the batchs.\n",
    "\n",
    "```set_threads``` is a list of indexes containing the threads to be used as a dataset."
   ]
  },
  {
   "cell_type": "markdown",
   "metadata": {
    "id": "CdCFbGprpA5s"
   },
   "source": [
    "## **2.1** Choose strategy to build the source data\n",
    "\n",
    "* Strategy 1: Predict based on specific branch within a discussion tree\n",
    "* Strategy 2: Predict based on the sequence of comments in a thread\n",
    "* Strategy 3: Predict based on specific branch, but use all the sequence of comments in a thread up to that point in time as side information"
   ]
  },
  {
   "cell_type": "code",
   "execution_count": 12,
   "metadata": {
    "colab": {
     "base_uri": "https://localhost:8080/"
    },
    "executionInfo": {
     "elapsed": 102691,
     "status": "ok",
     "timestamp": 1619020752729,
     "user": {
      "displayName": "Henrique Silva",
      "photoUrl": "https://lh3.googleusercontent.com/a-/AOh14Gh0sTZzx8mKsKV9-j3HdK09d6njRJoJnyBA8jbau1I=s64",
      "userId": "15429421149160718308"
     },
     "user_tz": 180
    },
    "id": "wv1F_eR3El09",
    "outputId": "2f26453a-968a-4d4b-d220-82c0138189fc"
   },
   "outputs": [
    {
     "name": "stdout",
     "output_type": "stream",
     "text": [
      "Loading D:\\FGCS/data/Anxiety_distilbert_filtered_posts.pkl...\n"
     ]
    }
   ],
   "source": [
    "suffix='_distilbert_filtered_posts' + EXTENSION\n",
    "df_list = {subreddit:load_df(DATADIR+subreddit+suffix, MAX_THREAD_LEN) \\\n",
    "           for subreddit in SUBREDDITS}\n",
    "\n",
    "post_df = pd.concat((df_list[subreddit] for subreddit in SUBREDDITS), keys=SUBREDDITS)\n",
    "del df_list"
   ]
  },
  {
   "cell_type": "code",
   "execution_count": 13,
   "metadata": {
    "colab": {
     "base_uri": "https://localhost:8080/"
    },
    "executionInfo": {
     "elapsed": 102679,
     "status": "ok",
     "timestamp": 1619020752731,
     "user": {
      "displayName": "Henrique Silva",
      "photoUrl": "https://lh3.googleusercontent.com/a-/AOh14Gh0sTZzx8mKsKV9-j3HdK09d6njRJoJnyBA8jbau1I=s64",
      "userId": "15429421149160718308"
     },
     "user_tz": 180
    },
    "id": "MyZzK_aB6YHJ",
    "outputId": "d800a3a6-9fc4-4bde-f570-9f17f726a46d"
   },
   "outputs": [
    {
     "name": "stdout",
     "output_type": "stream",
     "text": [
      "Fraction of threads that had to be truncated: 0.002425560388089662\n"
     ]
    }
   ],
   "source": [
    "# TODO: it seems that we are keeping everything if KEEP_TEXT. is this really necessary?\n",
    "if not KEEP_TEXT:\n",
    "  post_df = post_df[['created_utc', 'seq_len','score', 'features', 'filtered_seqlen','valid_branches']]\n",
    "\n",
    "# new strategy to construct observations: follow branches of every discussion tree \n",
    "#post_df.drop(columns=['valid_branches'],inplace=True)\n",
    "\n",
    "if FILTERED:\n",
    "    # dropna on filtered_seqlen, then replace seq_len by filtered_seqlen\n",
    "    post_df.dropna(subset=['filtered_seqlen'], inplace=True)\n",
    "    post_df.filtered_seqlen = post_df.filtered_seqlen.astype(int)\n",
    "\n",
    "    post_df.drop(columns='seq_len',inplace=True)\n",
    "    post_df.rename(columns={'filtered_seqlen':'seq_len'},inplace=True)\n",
    "else:\n",
    "    post_df.drop(columns='filtered_seqlen',inplace=True)\n",
    "\n",
    "print(f'Fraction of threads that had to be truncated: {(post_df.seq_len>(MAX_THREAD_LEN+1)).mean()}')\n"
   ]
  },
  {
   "cell_type": "code",
   "execution_count": 14,
   "metadata": {
    "colab": {
     "base_uri": "https://localhost:8080/"
    },
    "executionInfo": {
     "elapsed": 106633,
     "status": "ok",
     "timestamp": 1619020756692,
     "user": {
      "displayName": "Henrique Silva",
      "photoUrl": "https://lh3.googleusercontent.com/a-/AOh14Gh0sTZzx8mKsKV9-j3HdK09d6njRJoJnyBA8jbau1I=s64",
      "userId": "15429421149160718308"
     },
     "user_tz": 180
    },
    "id": "vt5koa7q5QVF",
    "outputId": "ba005eb6-ef00-4588-ae06-c3c46efcc377"
   },
   "outputs": [
    {
     "name": "stdout",
     "output_type": "stream",
     "text": [
      "Average score in dataset is 0.0\n",
      "slice(0, 11956, None)\n",
      "{'all': tensor([42.7000, 17.7126,  7.0123,  3.0040,  1.3743,  0.7531,  0.8850,  1.2454,\n",
      "         2.8535,  9.4514], device='cuda:0'), 'Anxiety': tensor([42.7000, 17.7126,  7.0123,  3.0040,  1.3743,  0.7531,  0.8850,  1.2454,\n",
      "         2.8535,  9.4514], device='cuda:0')}\n"
     ]
    }
   ],
   "source": [
    "# TODO: define constants upfront\n",
    "if ZNORMALIZE:\n",
    "  prefix = ''\n",
    "else:\n",
    "  prefix = 'unnorm_'\n",
    "\n",
    "# TODO: place z-normalization in a new function and explain what it does\n",
    "\n",
    "if TRAIN:\n",
    "  if ZNORMALIZE:\n",
    "    src_m, src_s = get_znorm_params(post_df)\n",
    "  else:\n",
    "    shape = [1,post_df.iloc[0].features.shape[-1]]\n",
    "    src_m = torch.zeros(shape)\n",
    "    src_s = torch.ones(shape)\n",
    "\n",
    "  save_stats_tensors(src_m,src_s,f'{BASEDIR}data/{prefix}')\n",
    "  \n",
    "if TEST:\n",
    "  src_m, src_s = load_stats_tensors(f'{BASEDIR}data/{prefix}')\n",
    "\n",
    "score_m = float(src_m[0,-2])\n",
    "score_s = float(src_s[0,-2])\n",
    "\n",
    "print(f'Average score in dataset is {score_m}')\n",
    "\n",
    "subreddit2range = get_subreddit_range(post_df)\n",
    "print(subreddit2range[SUBREDDITS[0]])\n",
    "\n",
    "# TODO: define constants upfront\n",
    "suffix = \"random\"\n",
    "if STRATIFIED:\n",
    "  suffix += '_strat'\n",
    "\n",
    "# TODO: place indexing in a new function and explain what it does\n",
    "# get indices\n",
    "if TRAIN:\n",
    "  if len(SUBREDDITS) == 4:\n",
    "      train_inds, valid_inds, test_inds  = split_indices(post_df)\n",
    "  else:\n",
    "    subreddit = SUBREDDITS[0]\n",
    "    with open(f'{DATADIR}{subreddit}_{suffix}_splits.pkl','rb') as infile:\n",
    "      splits = pickle.load(infile)\n",
    "      train_locs =  [(subreddit,loc) for loc in splits[0]]\n",
    "      valid_locs =  [(subreddit,loc) for loc in splits[1]]\n",
    "      test_locs  =  [(subreddit,loc) for loc in splits[2]]\n",
    "\n",
    "    train_inds = post_df.index.get_indexer_for(train_locs)\n",
    "    valid_inds = post_df.index.get_indexer_for(valid_locs)\n",
    "    test_inds  = post_df.index.get_indexer_for(test_locs)\n",
    "\n",
    "\n",
    "if TEST:\n",
    "  train_locs = []\n",
    "  valid_locs = []\n",
    "  test_locs  = []\n",
    "  for subreddit in SUBREDDITS:\n",
    "      with open(f'{DATADIR}{subreddit}_{suffix}_splits.pkl','rb') as infile:\n",
    "        splits = pickle.load(infile)\n",
    "        test_locs += [(subreddit,loc) for loc in splits[2]]\n",
    "\n",
    "  # extract instances\n",
    "  print(len(post_df))\n",
    "  post_df = post_df.loc[test_locs]\n",
    "  print(len(post_df))\n",
    "\n",
    "# compute weights for Weighted L1 Loss\n",
    "subreddit2weights = get_subreddit_weights(post_df, BIN_WIDTH,MIN_VALUE,device)\n",
    "print(subreddit2weights)\n"
   ]
  },
  {
   "cell_type": "code",
   "execution_count": 15,
   "metadata": {
    "colab": {
     "base_uri": "https://localhost:8080/"
    },
    "executionInfo": {
     "elapsed": 115044,
     "status": "ok",
     "timestamp": 1619020765124,
     "user": {
      "displayName": "Henrique Silva",
      "photoUrl": "https://lh3.googleusercontent.com/a-/AOh14Gh0sTZzx8mKsKV9-j3HdK09d6njRJoJnyBA8jbau1I=s64",
      "userId": "15429421149160718308"
     },
     "user_tz": 180
    },
    "id": "heaO2d6xcAvh",
    "outputId": "b91da058-dba9-46e7-a2d4-34b0e31f1b41"
   },
   "outputs": [
    {
     "name": "stdout",
     "output_type": "stream",
     "text": [
      "Creating src\n",
      "Creating y\n",
      "Creating src_len_series\n",
      "GRU src tensor size: torch.Size([11956, 64, 770])\n",
      "y tensor size: torch.Size([11956])\n",
      "Creating dataset\n",
      "Wall time: 1.4 s\n"
     ]
    }
   ],
   "source": [
    "%%time\n",
    "\n",
    "# TODO: place the dataset generation in a function\n",
    "\n",
    "\n",
    "print('Creating src')\n",
    "\n",
    "print('Creating y')\n",
    "y = torch.Tensor(post_df.apply(lambda p: p.score[p.seq_len-1], axis=1).values)\n",
    "\n",
    "print('Creating src_len_series')\n",
    "src_len_series = post_df.seq_len-1\n",
    "max_length=MAX_THREAD_LEN\n",
    "\n",
    "if USE_GRU:\n",
    "    src = nn.utils.rnn.pad_sequence(\n",
    "    [ p.features[:min(MAX_THREAD_LEN,p.seq_len-1),:] for index, p in post_df.iterrows()], batch_first=True)\n",
    "    # src = nn.utils.rnn.pad_sequence(\n",
    "    # [ (p.features[:min(MAX_THREAD_LEN,p.seq_len-1),:]-src_m)/src_s for index, p in post_df.iterrows()], batch_first=True)\n",
    "    print(f\"GRU src tensor size: {src.size()}\")\n",
    "\n",
    "if USE_XGB:      \n",
    "    src_xgb = torch.cat((\n",
    "        torch.cat([torch.mean((p.features[:min(MAX_THREAD_LEN,p.seq_len-1),:]-src_m)/src_s,keepdims=True,dim=0) for index, p in post_df.iterrows()],axis=0),\n",
    "        torch.cat([torch.max((p.features[:min(MAX_THREAD_LEN,p.seq_len-1),:]-src_m)/src_s,keepdims=True,dim=0)[0] for index, p in post_df.iterrows()],axis=0)\n",
    "        ),1)\n",
    "    print(f\"XGB src tensor size: {src_xgb.size()}\")\n",
    "\n",
    "\n",
    "print(f'y tensor size: {y.size()}')\n",
    "\n",
    "\n",
    "if INCLUDE_TARGET:\n",
    "  tgt = nn.utils.rnn.pad_sequence(\n",
    "    [(p.features[b[-2]]-src_m)/src_s for index, p in post_df.iterrows() for b in p.valid_branches],\n",
    "  batch_first=True)\n",
    "else:\n",
    "  tgt = None\n",
    "\n",
    "  # clean up memory\n",
    "  #if (not TEST) and (not KEEP_TEXT):\n",
    "  if (not KEEP_TEXT):\n",
    "    del post_df\n",
    "\n",
    "  print('Creating dataset')\n",
    "  if USE_GRU:\n",
    "    #dataset = createTensorDataset(src, src_len_series, y, tgt=tgt, max_length=max_length) # all threads, lim 63 comments\n",
    "    dataset = createTensorDataset(src, src_len_series, y, max_length=max_length) # all threads, lim 63 comments\n",
    "    del src\n",
    "  if USE_XGB:\n",
    "    dataset_xgb = createTensorDataset(src_xgb, src_len_series, y, max_length=max_length)\n",
    "    del src_xgb\n",
    "  \n",
    "  del src_len_series, tgt, y"
   ]
  },
  {
   "cell_type": "code",
   "execution_count": 16,
   "metadata": {
    "colab": {
     "base_uri": "https://localhost:8080/"
    },
    "executionInfo": {
     "elapsed": 115037,
     "status": "ok",
     "timestamp": 1619020765124,
     "user": {
      "displayName": "Henrique Silva",
      "photoUrl": "https://lh3.googleusercontent.com/a-/AOh14Gh0sTZzx8mKsKV9-j3HdK09d6njRJoJnyBA8jbau1I=s64",
      "userId": "15429421149160718308"
     },
     "user_tz": 180
    },
    "id": "6MLMLb6LAidE",
    "outputId": "5c277d0a-7c5b-416a-a289-2e17bec8c37e"
   },
   "outputs": [
    {
     "name": "stdout",
     "output_type": "stream",
     "text": [
      "embedding dimension for GRU: 770\n"
     ]
    }
   ],
   "source": [
    "# TODO: can we get EMBEDDING_DIM earlier, from post_df?\n",
    "\n",
    "if USE_GRU:\n",
    "  batch = dataset[0]\n",
    "  EMBEDDING_DIM = batch[0].shape[-1]\n",
    "  print(f\"embedding dimension for GRU: {EMBEDDING_DIM}\")\n",
    "if USE_XGB:\n",
    "  batch = dataset_xgb[0]\n",
    "  EMBEDDING_DIM_XGB = batch[0].shape[-1]\n",
    "  print(f\"embedding dimension for XGB: {EMBEDDING_DIM_XGB}\")"
   ]
  },
  {
   "cell_type": "markdown",
   "metadata": {
    "id": "39QaZ0BUpLeO"
   },
   "source": [
    "##**2.2** Create training, validation and test sets"
   ]
  },
  {
   "cell_type": "code",
   "execution_count": 17,
   "metadata": {
    "colab": {
     "base_uri": "https://localhost:8080/"
    },
    "executionInfo": {
     "elapsed": 115030,
     "status": "ok",
     "timestamp": 1619020765125,
     "user": {
      "displayName": "Henrique Silva",
      "photoUrl": "https://lh3.googleusercontent.com/a-/AOh14Gh0sTZzx8mKsKV9-j3HdK09d6njRJoJnyBA8jbau1I=s64",
      "userId": "15429421149160718308"
     },
     "user_tz": 180
    },
    "id": "5LGqkeO8916A",
    "outputId": "95127a0d-07be-4883-9af5-69c364265cf7"
   },
   "outputs": [
    {
     "name": "stdout",
     "output_type": "stream",
     "text": [
      "Creating dataloaders...\n"
     ]
    }
   ],
   "source": [
    "#%%time\n",
    "\n",
    "print(\"Creating dataloaders...\")\n",
    "if TRAIN:\n",
    "  if USE_XGB:\n",
    "    train_loader_xgb = DataLoader(Subset(dataset_xgb,train_inds), batch_size=len(train_inds), shuffle=True, num_workers=0)\n",
    "    valid_loader_xgb = DataLoader(Subset(dataset_xgb,valid_inds), batch_size=len(valid_inds), shuffle=False, num_workers=0)\n",
    "    test_loader_xgb  = DataLoader(Subset(dataset_xgb, test_inds), batch_size=len(test_inds), shuffle=False, num_workers=1) \n",
    "\n",
    "  if USE_GRU: \n",
    "      train_loader = DataLoader(Subset(dataset,train_inds), batch_size=32, shuffle=True, num_workers=1)\n",
    "      valid_loader = DataLoader(Subset(dataset,valid_inds), batch_size=len(valid_inds), shuffle=False, num_workers=1)\n",
    "      test_loader  = DataLoader(Subset(dataset, test_inds), batch_size=len(test_inds), shuffle=False, num_workers=1)\n",
    "\n",
    "\n",
    "if TEST:\n",
    "  if USE_GRU:\n",
    "   test_loader  = DataLoader(dataset, batch_size=len(dataset), shuffle=False, num_workers=1)\n",
    "  if USE_XGB:\n",
    "    test_loader_xgb  = DataLoader(dataset_xgb, batch_size=len(dataset_xgb), shuffle=False, num_workers=1)\n"
   ]
  },
  {
   "cell_type": "markdown",
   "metadata": {
    "id": "9UimhhZOUkm_"
   },
   "source": [
    "#**3**. Training the models"
   ]
  },
  {
   "cell_type": "markdown",
   "metadata": {
    "id": "6k5SkAKY8IIO"
   },
   "source": [
    "## **3.1** (Stacked) (Bi-) GRU model\n",
    "\n",
    "Takes one source sequence as input."
   ]
  },
  {
   "cell_type": "markdown",
   "metadata": {
    "id": "3PEaxt-rU5I4"
   },
   "source": [
    "Example of how to run the model."
   ]
  },
  {
   "cell_type": "code",
   "execution_count": 18,
   "metadata": {
    "colab": {
     "base_uri": "https://localhost:8080/"
    },
    "executionInfo": {
     "elapsed": 396,
     "status": "ok",
     "timestamp": 1619020801356,
     "user": {
      "displayName": "Henrique Silva",
      "photoUrl": "https://lh3.googleusercontent.com/a-/AOh14Gh0sTZzx8mKsKV9-j3HdK09d6njRJoJnyBA8jbau1I=s64",
      "userId": "15429421149160718308"
     },
     "user_tz": 180
    },
    "id": "f4X21d2JN1j8",
    "outputId": "dd239396-6a4d-48bc-b637-88d952b2d13a"
   },
   "outputs": [
    {
     "name": "stdout",
     "output_type": "stream",
     "text": [
      "Results file is D:\\FGCS/results/random_strat_Anxiety_b10_fTrue_n20_p3_mGRUv1.pkl\n"
     ]
    }
   ],
   "source": [
    "# TODO: define the constants upfront; explain what this cell does\n",
    "N_EPOCHS=20 # maximum number of epochs to train the model\n",
    "PATIENCE=3 # constant that controls the Early Stopping mechanism of the grid search for the GRU model\n",
    "\n",
    "# make sure it is a list\n",
    "if type(SUBREDDITS) != list:\n",
    "  SUBREDDITS = list(SUBREDDITS)\n",
    "\n",
    "if TRAIN:\n",
    "  if len(SUBREDDITS) == 4:\n",
    "    SRC_DATASET='all'\n",
    "  if len(SUBREDDITS) == 1:\n",
    "    SRC_DATASET=SUBREDDITS[0]\n",
    "\n",
    "if TEST:\n",
    "  SRC_DATASET='all'\n",
    "  #SRC_DATASET='whatisthisthing'  \n",
    "  # SRC_DATASET=SUBREDDITS[0] # use model trained with own dataset\n",
    "\n",
    "PREFIX ='random'\n",
    "if STRATIFIED:\n",
    "  PREFIX += '_strat'\n",
    "\n",
    "results_filename=f'{RESULTSDIR}{PREFIX}_{SRC_DATASET}_b{int(2./BIN_WIDTH):02}_f{FILTERED}_n{N_EPOCHS}_p{PATIENCE}_mGRUv1.pkl'\n",
    "\n",
    "#results_filename=f'{DATADIR}{PREFIX}_{SRC_DATASET}_b{int(2./BIN_WIDTH):02}_f{FILTERED}_n{N_EPOCHS}_p{PATIENCE}_mGRUv1.pkl'\n",
    "print(f'Results file is {results_filename}')"
   ]
  },
  {
   "cell_type": "code",
   "execution_count": 19,
   "metadata": {
    "colab": {
     "base_uri": "https://localhost:8080/",
     "height": 1000,
     "referenced_widgets": [
      "55d1f3b86d8340569bae6a15b41aec03",
      "39628f0a8a194d3a9ee3444855cb6f74",
      "3316b0f32b55459b935d26e6c48e7ee4",
      "c6c2f2e7d58b4dadb4f74634026258dd",
      "7795ad26f8ea41ffaa3c594368366f19",
      "85a7151619b24a2fab13311fa9aa9d9a",
      "6502b37cbea84f7caa46809835f87df6",
      "41759595873a4053b9989b65b87d9877",
      "c00efd99693d493380ed14311ba9e60c",
      "52f51fa792864e0ea8e8e19ad305cc17",
      "ce7f42e2ebbb47c6a833373ca9cf3bc1",
      "2c652df58ecf444aa8674b7d85bd22a1",
      "e68fdc498d36479fbc8eddc33072d2d1",
      "93481f22f8ef4f5dafb8163c10e8548a",
      "e7678cf453504b2abbdc9248c2321eac",
      "a78c0fe71c5c43149aea5054fcda6acc",
      "e933ea33c0794790bdd61898adca5f36",
      "376b1768105e416fa0288d763c7e24c5",
      "ff25d80f657c420ab67b73a09e7c93aa",
      "28d291d02eae48ce9db267d818f01643",
      "807b5764492646ea9d85d1e1fcfae51e",
      "3cc198966c94474f852cb61a1b8e5b19",
      "1ab015a4bab24295905e7762bc0c8e1a",
      "900d3201900e463e9359b01252a56821",
      "a68f26679c0243159d9233a2c38b6579",
      "8beb51b17bb34c80a8a494d1115a279b",
      "ed9401335ebf482185b42d096dfcd665",
      "723fd87edfa74e4299ae5078735d081e",
      "012c427cbd34484dbccfcc17859486b3",
      "6d298d1b1af4407897041958d2d7cdee",
      "629eb24f8c204a029a4af0b3ff2fe7aa",
      "1981e9b6e2b94fbbb706c0a106d642cd",
      "7fb1a5b471974905946d1f95110600d1",
      "df97ed292e8c4b70aee9b3632ec63a12",
      "67dfec88be88456499b20bfe6e295a9f",
      "7e14b73da03742599230d92cf1ec0ad4",
      "2330c93336ee4093a3e5667247de5551",
      "3ba97b1cee714239adad8e2f2cd9bdf1",
      "11fbf9e4df024e73957206c43984487d",
      "d9bb357dbd5f473983df2f4bad28ccc6"
     ]
    },
    "executionInfo": {
     "elapsed": 1598,
     "status": "ok",
     "timestamp": 1619020807799,
     "user": {
      "displayName": "Henrique Silva",
      "photoUrl": "https://lh3.googleusercontent.com/a-/AOh14Gh0sTZzx8mKsKV9-j3HdK09d6njRJoJnyBA8jbau1I=s64",
      "userId": "15429421149160718308"
     },
     "user_tz": 180
    },
    "id": "xZcTVAmavrWq",
    "outputId": "f9527cdd-454f-4a75-a4e2-cd12e070aaeb"
   },
   "outputs": [
    {
     "name": "stderr",
     "output_type": "stream",
     "text": [
      "L0: criterion: 0it [00:00, ?it/s]\n",
      "L1: hidden_size: 0it [00:00, ?it/s]\u001b[A\n",
      "\n",
      "L2: bidirectional: 0it [00:00, ?it/s]\u001b[A\u001b[A"
     ]
    },
    {
     "name": "stdout",
     "output_type": "stream",
     "text": [
      "{'input_size': 770, 'output_size': 1, 'uses_two_series_as_input': False, 'dropout_out': 0.0, 'hidden_size': 4, 'num_layers': 1, 'dropout_rnn': 0.0, 'bidirectional': False}\n"
     ]
    },
    {
     "name": "stderr",
     "output_type": "stream",
     "text": [
      "L2: bidirectional: 0it [00:09, ?it/s]\n",
      "L1: hidden_size: 0it [00:09, ?it/s]\n",
      "L0: criterion: 0it [00:09, ?it/s]\n"
     ]
    },
    {
     "ename": "RuntimeError",
     "evalue": "expected scalar type Half but found Float",
     "output_type": "error",
     "traceback": [
      "\u001b[1;31m---------------------------------------------------------------------------\u001b[0m",
      "\u001b[1;31mRuntimeError\u001b[0m                              Traceback (most recent call last)",
      "\u001b[1;32m<timed exec>\u001b[0m in \u001b[0;36m<module>\u001b[1;34m\u001b[0m\n",
      "\u001b[1;32mD:\\FGCS\\src\\training_functions.py\u001b[0m in \u001b[0;36mgrid_search_train\u001b[1;34m(train_loader, valid_loader, hidden_size_list, bidirectional_list, nlayers_dropout_list, train_criteria, test_criteria, results_filename, EMBEDDING_DIM, device, PLOT, N_EPOCHS, PATIENCE)\u001b[0m\n\u001b[0;32m    202\u001b[0m \u001b[1;33m\u001b[0m\u001b[0m\n\u001b[0;32m    203\u001b[0m             \u001b[1;31m# train until early stopping\u001b[0m\u001b[1;33m\u001b[0m\u001b[1;33m\u001b[0m\u001b[1;33m\u001b[0m\u001b[0m\n\u001b[1;32m--> 204\u001b[1;33m             _, valid_loss, epoch_time_list = train_over_nepochs(\n\u001b[0m\u001b[0;32m    205\u001b[0m                 \u001b[0mmodel\u001b[0m\u001b[1;33m,\u001b[0m \u001b[0mtrain_loader\u001b[0m\u001b[1;33m,\u001b[0m \u001b[0mvalid_loader\u001b[0m\u001b[1;33m,\u001b[0m \u001b[0mcriterion\u001b[0m\u001b[1;33m=\u001b[0m\u001b[0mtrain_criterion\u001b[0m\u001b[1;33m,\u001b[0m\u001b[1;33m\u001b[0m\u001b[1;33m\u001b[0m\u001b[0m\n\u001b[0;32m    206\u001b[0m                 device=device, patience=PATIENCE, n_epochs=N_EPOCHS)\n",
      "\u001b[1;32mD:\\FGCS\\src\\utils.py\u001b[0m in \u001b[0;36mtrain_over_nepochs\u001b[1;34m(model, train_loader, valid_loader, criterion, device, patience, n_epochs, best_valid_loss, filename, use_tune)\u001b[0m\n\u001b[0;32m    134\u001b[0m     \u001b[0mstart_time\u001b[0m \u001b[1;33m=\u001b[0m \u001b[0mtime\u001b[0m\u001b[1;33m.\u001b[0m\u001b[0mtime\u001b[0m\u001b[1;33m(\u001b[0m\u001b[1;33m)\u001b[0m\u001b[1;33m\u001b[0m\u001b[1;33m\u001b[0m\u001b[0m\n\u001b[0;32m    135\u001b[0m \u001b[1;33m\u001b[0m\u001b[0m\n\u001b[1;32m--> 136\u001b[1;33m     \u001b[0mtrain_loss\u001b[0m \u001b[1;33m=\u001b[0m \u001b[0mtrain\u001b[0m\u001b[1;33m(\u001b[0m\u001b[0mmodel\u001b[0m\u001b[1;33m,\u001b[0m \u001b[0mtrain_iterator\u001b[0m\u001b[1;33m,\u001b[0m \u001b[0moptimizer\u001b[0m\u001b[1;33m,\u001b[0m \u001b[0mcriterion\u001b[0m\u001b[1;33m,\u001b[0m \u001b[0mdevice\u001b[0m\u001b[1;33m)\u001b[0m\u001b[1;33m\u001b[0m\u001b[1;33m\u001b[0m\u001b[0m\n\u001b[0m\u001b[0;32m    137\u001b[0m     \u001b[0mvalid_loss\u001b[0m \u001b[1;33m=\u001b[0m \u001b[0mevaluate\u001b[0m\u001b[1;33m(\u001b[0m\u001b[0mmodel\u001b[0m\u001b[1;33m,\u001b[0m \u001b[0mvalid_iterator\u001b[0m\u001b[1;33m,\u001b[0m \u001b[0mcriterion\u001b[0m\u001b[1;33m,\u001b[0m \u001b[0mdevice\u001b[0m\u001b[1;33m)\u001b[0m\u001b[1;33m\u001b[0m\u001b[1;33m\u001b[0m\u001b[0m\n\u001b[0;32m    138\u001b[0m \u001b[1;33m\u001b[0m\u001b[0m\n",
      "\u001b[1;32mD:\\FGCS\\src\\utils.py\u001b[0m in \u001b[0;36mtrain\u001b[1;34m(model, loader, optimizer, criterion, device)\u001b[0m\n\u001b[0;32m     62\u001b[0m             \u001b[0mpredictions\u001b[0m \u001b[1;33m=\u001b[0m \u001b[0mpredictions\u001b[0m\u001b[1;33m[\u001b[0m\u001b[1;33m:\u001b[0m\u001b[1;33m,\u001b[0m\u001b[1;33m:\u001b[0m\u001b[1;33m,\u001b[0m\u001b[1;36m0\u001b[0m\u001b[1;33m]\u001b[0m\u001b[1;33m.\u001b[0m\u001b[0mtranspose\u001b[0m\u001b[1;33m(\u001b[0m\u001b[1;36m0\u001b[0m\u001b[1;33m,\u001b[0m\u001b[1;36m1\u001b[0m\u001b[1;33m)\u001b[0m\u001b[1;33m\u001b[0m\u001b[1;33m\u001b[0m\u001b[0m\n\u001b[0;32m     63\u001b[0m           \u001b[1;32melse\u001b[0m\u001b[1;33m:\u001b[0m\u001b[1;33m\u001b[0m\u001b[1;33m\u001b[0m\u001b[0m\n\u001b[1;32m---> 64\u001b[1;33m             \u001b[0mpredictions\u001b[0m\u001b[1;33m,\u001b[0m \u001b[0m_\u001b[0m \u001b[1;33m=\u001b[0m \u001b[0mmodel\u001b[0m\u001b[1;33m(\u001b[0m\u001b[0mx1\u001b[0m\u001b[1;33m.\u001b[0m\u001b[0mto\u001b[0m\u001b[1;33m(\u001b[0m\u001b[0mdevice\u001b[0m\u001b[1;33m)\u001b[0m\u001b[1;33m,\u001b[0m \u001b[0mlen_x1\u001b[0m\u001b[1;33m.\u001b[0m\u001b[0mto\u001b[0m\u001b[1;33m(\u001b[0m\u001b[0mdevice\u001b[0m\u001b[1;33m)\u001b[0m\u001b[1;33m)\u001b[0m\u001b[1;33m\u001b[0m\u001b[1;33m\u001b[0m\u001b[0m\n\u001b[0m\u001b[0;32m     65\u001b[0m \u001b[1;33m\u001b[0m\u001b[0m\n\u001b[0;32m     66\u001b[0m         \u001b[1;32mif\u001b[0m \u001b[0misinstance\u001b[0m\u001b[1;33m(\u001b[0m\u001b[0mpredictions\u001b[0m\u001b[1;33m,\u001b[0m\u001b[0mtuple\u001b[0m\u001b[1;33m)\u001b[0m\u001b[1;33m:\u001b[0m\u001b[1;33m\u001b[0m\u001b[1;33m\u001b[0m\u001b[0m\n",
      "\u001b[1;32md:\\python39\\lib\\site-packages\\torch\\nn\\modules\\module.py\u001b[0m in \u001b[0;36m_call_impl\u001b[1;34m(self, *input, **kwargs)\u001b[0m\n\u001b[0;32m    887\u001b[0m             \u001b[0mresult\u001b[0m \u001b[1;33m=\u001b[0m \u001b[0mself\u001b[0m\u001b[1;33m.\u001b[0m\u001b[0m_slow_forward\u001b[0m\u001b[1;33m(\u001b[0m\u001b[1;33m*\u001b[0m\u001b[0minput\u001b[0m\u001b[1;33m,\u001b[0m \u001b[1;33m**\u001b[0m\u001b[0mkwargs\u001b[0m\u001b[1;33m)\u001b[0m\u001b[1;33m\u001b[0m\u001b[1;33m\u001b[0m\u001b[0m\n\u001b[0;32m    888\u001b[0m         \u001b[1;32melse\u001b[0m\u001b[1;33m:\u001b[0m\u001b[1;33m\u001b[0m\u001b[1;33m\u001b[0m\u001b[0m\n\u001b[1;32m--> 889\u001b[1;33m             \u001b[0mresult\u001b[0m \u001b[1;33m=\u001b[0m \u001b[0mself\u001b[0m\u001b[1;33m.\u001b[0m\u001b[0mforward\u001b[0m\u001b[1;33m(\u001b[0m\u001b[1;33m*\u001b[0m\u001b[0minput\u001b[0m\u001b[1;33m,\u001b[0m \u001b[1;33m**\u001b[0m\u001b[0mkwargs\u001b[0m\u001b[1;33m)\u001b[0m\u001b[1;33m\u001b[0m\u001b[1;33m\u001b[0m\u001b[0m\n\u001b[0m\u001b[0;32m    890\u001b[0m         for hook in itertools.chain(\n\u001b[0;32m    891\u001b[0m                 \u001b[0m_global_forward_hooks\u001b[0m\u001b[1;33m.\u001b[0m\u001b[0mvalues\u001b[0m\u001b[1;33m(\u001b[0m\u001b[1;33m)\u001b[0m\u001b[1;33m,\u001b[0m\u001b[1;33m\u001b[0m\u001b[1;33m\u001b[0m\u001b[0m\n",
      "\u001b[1;32mD:\\FGCS\\src\\models.py\u001b[0m in \u001b[0;36mforward\u001b[1;34m(self, input, src_len)\u001b[0m\n\u001b[0;32m    235\u001b[0m \u001b[1;33m\u001b[0m\u001b[0m\n\u001b[0;32m    236\u001b[0m         \u001b[1;31m#embedded = [batch size, sent len, emb dim]\u001b[0m\u001b[1;33m\u001b[0m\u001b[1;33m\u001b[0m\u001b[1;33m\u001b[0m\u001b[0m\n\u001b[1;32m--> 237\u001b[1;33m         \u001b[0membedded\u001b[0m \u001b[1;33m=\u001b[0m \u001b[0mself\u001b[0m\u001b[1;33m.\u001b[0m\u001b[0mfc\u001b[0m\u001b[1;33m(\u001b[0m\u001b[0minput\u001b[0m\u001b[1;33m[\u001b[0m\u001b[1;33m:\u001b[0m\u001b[1;33m,\u001b[0m\u001b[1;33m:\u001b[0m\u001b[1;33m,\u001b[0m\u001b[1;33m:\u001b[0m\u001b[1;33m-\u001b[0m\u001b[1;36m2\u001b[0m\u001b[1;33m]\u001b[0m\u001b[1;33m)\u001b[0m\u001b[1;33m\u001b[0m\u001b[1;33m\u001b[0m\u001b[0m\n\u001b[0m\u001b[0;32m    238\u001b[0m         \u001b[0membedded\u001b[0m \u001b[1;33m=\u001b[0m \u001b[0mtorch\u001b[0m\u001b[1;33m.\u001b[0m\u001b[0mcat\u001b[0m\u001b[1;33m(\u001b[0m\u001b[1;33m[\u001b[0m\u001b[0membedded\u001b[0m\u001b[1;33m,\u001b[0m\u001b[0minput\u001b[0m\u001b[1;33m[\u001b[0m\u001b[1;33m:\u001b[0m\u001b[1;33m,\u001b[0m\u001b[1;33m:\u001b[0m\u001b[1;33m,\u001b[0m\u001b[1;33m-\u001b[0m\u001b[1;36m2\u001b[0m\u001b[1;33m:\u001b[0m\u001b[1;33m]\u001b[0m\u001b[1;33m]\u001b[0m\u001b[1;33m,\u001b[0m \u001b[0maxis\u001b[0m\u001b[1;33m=\u001b[0m\u001b[1;36m2\u001b[0m\u001b[1;33m)\u001b[0m\u001b[1;33m\u001b[0m\u001b[1;33m\u001b[0m\u001b[0m\n\u001b[0;32m    239\u001b[0m         \u001b[0moutputs\u001b[0m\u001b[1;33m,\u001b[0m \u001b[0mhidden\u001b[0m \u001b[1;33m=\u001b[0m \u001b[0mself\u001b[0m\u001b[1;33m.\u001b[0m\u001b[0mrnn\u001b[0m\u001b[1;33m(\u001b[0m\u001b[0membedded\u001b[0m\u001b[1;33m)\u001b[0m\u001b[1;33m\u001b[0m\u001b[1;33m\u001b[0m\u001b[0m\n",
      "\u001b[1;32md:\\python39\\lib\\site-packages\\torch\\nn\\modules\\module.py\u001b[0m in \u001b[0;36m_call_impl\u001b[1;34m(self, *input, **kwargs)\u001b[0m\n\u001b[0;32m    887\u001b[0m             \u001b[0mresult\u001b[0m \u001b[1;33m=\u001b[0m \u001b[0mself\u001b[0m\u001b[1;33m.\u001b[0m\u001b[0m_slow_forward\u001b[0m\u001b[1;33m(\u001b[0m\u001b[1;33m*\u001b[0m\u001b[0minput\u001b[0m\u001b[1;33m,\u001b[0m \u001b[1;33m**\u001b[0m\u001b[0mkwargs\u001b[0m\u001b[1;33m)\u001b[0m\u001b[1;33m\u001b[0m\u001b[1;33m\u001b[0m\u001b[0m\n\u001b[0;32m    888\u001b[0m         \u001b[1;32melse\u001b[0m\u001b[1;33m:\u001b[0m\u001b[1;33m\u001b[0m\u001b[1;33m\u001b[0m\u001b[0m\n\u001b[1;32m--> 889\u001b[1;33m             \u001b[0mresult\u001b[0m \u001b[1;33m=\u001b[0m \u001b[0mself\u001b[0m\u001b[1;33m.\u001b[0m\u001b[0mforward\u001b[0m\u001b[1;33m(\u001b[0m\u001b[1;33m*\u001b[0m\u001b[0minput\u001b[0m\u001b[1;33m,\u001b[0m \u001b[1;33m**\u001b[0m\u001b[0mkwargs\u001b[0m\u001b[1;33m)\u001b[0m\u001b[1;33m\u001b[0m\u001b[1;33m\u001b[0m\u001b[0m\n\u001b[0m\u001b[0;32m    890\u001b[0m         for hook in itertools.chain(\n\u001b[0;32m    891\u001b[0m                 \u001b[0m_global_forward_hooks\u001b[0m\u001b[1;33m.\u001b[0m\u001b[0mvalues\u001b[0m\u001b[1;33m(\u001b[0m\u001b[1;33m)\u001b[0m\u001b[1;33m,\u001b[0m\u001b[1;33m\u001b[0m\u001b[1;33m\u001b[0m\u001b[0m\n",
      "\u001b[1;32md:\\python39\\lib\\site-packages\\torch\\nn\\modules\\linear.py\u001b[0m in \u001b[0;36mforward\u001b[1;34m(self, input)\u001b[0m\n\u001b[0;32m     92\u001b[0m \u001b[1;33m\u001b[0m\u001b[0m\n\u001b[0;32m     93\u001b[0m     \u001b[1;32mdef\u001b[0m \u001b[0mforward\u001b[0m\u001b[1;33m(\u001b[0m\u001b[0mself\u001b[0m\u001b[1;33m,\u001b[0m \u001b[0minput\u001b[0m\u001b[1;33m:\u001b[0m \u001b[0mTensor\u001b[0m\u001b[1;33m)\u001b[0m \u001b[1;33m->\u001b[0m \u001b[0mTensor\u001b[0m\u001b[1;33m:\u001b[0m\u001b[1;33m\u001b[0m\u001b[1;33m\u001b[0m\u001b[0m\n\u001b[1;32m---> 94\u001b[1;33m         \u001b[1;32mreturn\u001b[0m \u001b[0mF\u001b[0m\u001b[1;33m.\u001b[0m\u001b[0mlinear\u001b[0m\u001b[1;33m(\u001b[0m\u001b[0minput\u001b[0m\u001b[1;33m,\u001b[0m \u001b[0mself\u001b[0m\u001b[1;33m.\u001b[0m\u001b[0mweight\u001b[0m\u001b[1;33m,\u001b[0m \u001b[0mself\u001b[0m\u001b[1;33m.\u001b[0m\u001b[0mbias\u001b[0m\u001b[1;33m)\u001b[0m\u001b[1;33m\u001b[0m\u001b[1;33m\u001b[0m\u001b[0m\n\u001b[0m\u001b[0;32m     95\u001b[0m \u001b[1;33m\u001b[0m\u001b[0m\n\u001b[0;32m     96\u001b[0m     \u001b[1;32mdef\u001b[0m \u001b[0mextra_repr\u001b[0m\u001b[1;33m(\u001b[0m\u001b[0mself\u001b[0m\u001b[1;33m)\u001b[0m \u001b[1;33m->\u001b[0m \u001b[0mstr\u001b[0m\u001b[1;33m:\u001b[0m\u001b[1;33m\u001b[0m\u001b[1;33m\u001b[0m\u001b[0m\n",
      "\u001b[1;32md:\\python39\\lib\\site-packages\\torch\\nn\\functional.py\u001b[0m in \u001b[0;36mlinear\u001b[1;34m(input, weight, bias)\u001b[0m\n\u001b[0;32m   1751\u001b[0m     \u001b[1;32mif\u001b[0m \u001b[0mhas_torch_function_variadic\u001b[0m\u001b[1;33m(\u001b[0m\u001b[0minput\u001b[0m\u001b[1;33m,\u001b[0m \u001b[0mweight\u001b[0m\u001b[1;33m)\u001b[0m\u001b[1;33m:\u001b[0m\u001b[1;33m\u001b[0m\u001b[1;33m\u001b[0m\u001b[0m\n\u001b[0;32m   1752\u001b[0m         \u001b[1;32mreturn\u001b[0m \u001b[0mhandle_torch_function\u001b[0m\u001b[1;33m(\u001b[0m\u001b[0mlinear\u001b[0m\u001b[1;33m,\u001b[0m \u001b[1;33m(\u001b[0m\u001b[0minput\u001b[0m\u001b[1;33m,\u001b[0m \u001b[0mweight\u001b[0m\u001b[1;33m)\u001b[0m\u001b[1;33m,\u001b[0m \u001b[0minput\u001b[0m\u001b[1;33m,\u001b[0m \u001b[0mweight\u001b[0m\u001b[1;33m,\u001b[0m \u001b[0mbias\u001b[0m\u001b[1;33m=\u001b[0m\u001b[0mbias\u001b[0m\u001b[1;33m)\u001b[0m\u001b[1;33m\u001b[0m\u001b[1;33m\u001b[0m\u001b[0m\n\u001b[1;32m-> 1753\u001b[1;33m     \u001b[1;32mreturn\u001b[0m \u001b[0mtorch\u001b[0m\u001b[1;33m.\u001b[0m\u001b[0m_C\u001b[0m\u001b[1;33m.\u001b[0m\u001b[0m_nn\u001b[0m\u001b[1;33m.\u001b[0m\u001b[0mlinear\u001b[0m\u001b[1;33m(\u001b[0m\u001b[0minput\u001b[0m\u001b[1;33m,\u001b[0m \u001b[0mweight\u001b[0m\u001b[1;33m,\u001b[0m \u001b[0mbias\u001b[0m\u001b[1;33m)\u001b[0m\u001b[1;33m\u001b[0m\u001b[1;33m\u001b[0m\u001b[0m\n\u001b[0m\u001b[0;32m   1754\u001b[0m \u001b[1;33m\u001b[0m\u001b[0m\n\u001b[0;32m   1755\u001b[0m \u001b[1;33m\u001b[0m\u001b[0m\n",
      "\u001b[1;31mRuntimeError\u001b[0m: expected scalar type Half but found Float"
     ]
    }
   ],
   "source": [
    "%%time\n",
    "\n",
    "# TODO: explain what this cell does\n",
    "\n",
    "if TRAIN:\n",
    "\n",
    "  # test_params\n",
    "  hidden_size_list     = [4, 16, 64]\n",
    "  bidirectional_list   = [False, True]\n",
    "  nlayers_dropout_list = [(1,0.)] + [(2,prob) for prob in [0., .1, .2, .5]]\n",
    "\n",
    "#   hidden_size_list     = [64]\n",
    "#   bidirectional_list   = [True]\n",
    "#   nlayers_dropout_list = [(1,0.)]\n",
    "\n",
    "  # train and test criteria\n",
    "  # train_criteria=[nn.L1Loss(),nn.MSELoss(),WeightedL1Loss(),WeightedMSELoss()]\n",
    "  train_criteria=[WeightedL1Loss( subreddit2weights['all'],BIN_WIDTH, MIN_VALUE)]\n",
    "  test_criteria =[WeightedL1Loss( subreddit2weights['all'],BIN_WIDTH, MIN_VALUE),\n",
    "                  WeightedMSELoss(subreddit2weights['all'],BIN_WIDTH, MIN_VALUE),\n",
    "                  nn.L1Loss(), nn.MSELoss()]\n",
    "\n",
    "  results_df = grid_search_train(train_loader,valid_loader,hidden_size_list, bidirectional_list, nlayers_dropout_list, train_criteria, test_criteria, results_filename,EMBEDDING_DIM=EMBEDDING_DIM, PLOT=False,N_EPOCHS=N_EPOCHS,PATIENCE=PATIENCE)"
   ]
  },
  {
   "cell_type": "code",
   "execution_count": null,
   "metadata": {
    "id": "hzZIZg5106Re"
   },
   "outputs": [],
   "source": [
    "!rm '/content/drive/My Drive/MentalHealthShared/results/random_strat_Anxiety_b10_fTrue_n20_p3_mGRUv1.pkl'"
   ]
  },
  {
   "cell_type": "code",
   "execution_count": null,
   "metadata": {
    "id": "4W8B25MF1lHf"
   },
   "outputs": [],
   "source": [
    "!mv '/content/drive/My Drive/MentalHealthShared/results/random_strat_Anxiety_b10_fTrue_n20_p3_mGRUv1.pkl' '/content/drive/My Drive/MentalHealthShared/results/random_strat_Anxiety_b10_fTrue_n20_p3_mGRUv1.pkl.bkp'"
   ]
  },
  {
   "cell_type": "code",
   "execution_count": 25,
   "metadata": {
    "colab": {
     "base_uri": "https://localhost:8080/",
     "height": 736
    },
    "executionInfo": {
     "elapsed": 781,
     "status": "ok",
     "timestamp": 1619043965779,
     "user": {
      "displayName": "Henrique Silva",
      "photoUrl": "https://lh3.googleusercontent.com/a-/AOh14Gh0sTZzx8mKsKV9-j3HdK09d6njRJoJnyBA8jbau1I=s64",
      "userId": "15429421149160718308"
     },
     "user_tz": 180
    },
    "id": "djNhmv3gmcAD",
    "outputId": "cc78614f-50e9-45d4-a525-485f4a2a7cd5"
   },
   "outputs": [
    {
     "name": "stdout",
     "output_type": "stream",
     "text": [
      "Loading /content/drive/My Drive/MentalHealthShared/results/random_strat_all_b10_fTrue_n20_p3_mGRUv1.pkl...\n"
     ]
    },
    {
     "data": {
      "text/html": [
       "<div>\n",
       "<style scoped>\n",
       "    .dataframe tbody tr th:only-of-type {\n",
       "        vertical-align: middle;\n",
       "    }\n",
       "\n",
       "    .dataframe tbody tr th {\n",
       "        vertical-align: top;\n",
       "    }\n",
       "\n",
       "    .dataframe thead th {\n",
       "        text-align: right;\n",
       "    }\n",
       "</style>\n",
       "<table border=\"1\" class=\"dataframe\">\n",
       "  <thead>\n",
       "    <tr style=\"text-align: right;\">\n",
       "      <th></th>\n",
       "      <th>train_criterion</th>\n",
       "      <th>L1Loss</th>\n",
       "      <th>L1Loss_best</th>\n",
       "      <th>MSELoss</th>\n",
       "      <th>MSELoss_best</th>\n",
       "      <th>WeightedL1Loss</th>\n",
       "      <th>WeightedL1Loss_best</th>\n",
       "      <th>WeightedMSELoss</th>\n",
       "      <th>WeightedMSELoss_best</th>\n",
       "      <th>epochs_time</th>\n",
       "      <th>hidden_size</th>\n",
       "      <th>num_layers</th>\n",
       "      <th>dropout_rnn</th>\n",
       "      <th>bidirectional</th>\n",
       "    </tr>\n",
       "  </thead>\n",
       "  <tbody>\n",
       "    <tr>\n",
       "      <th>21</th>\n",
       "      <td>WeightedL1Loss</td>\n",
       "      <td>0.309965</td>\n",
       "      <td>0.310073</td>\n",
       "      <td>0.154602</td>\n",
       "      <td>0.157788</td>\n",
       "      <td>0.746428</td>\n",
       "      <td>0.746304</td>\n",
       "      <td>0.451734</td>\n",
       "      <td>0.456046</td>\n",
       "      <td>[19.800943613052368, 19.778636693954468, 20.44...</td>\n",
       "      <td>64</td>\n",
       "      <td>2</td>\n",
       "      <td>0.0</td>\n",
       "      <td>False</td>\n",
       "    </tr>\n",
       "    <tr>\n",
       "      <th>22</th>\n",
       "      <td>WeightedL1Loss</td>\n",
       "      <td>0.299651</td>\n",
       "      <td>0.292719</td>\n",
       "      <td>0.149283</td>\n",
       "      <td>0.139945</td>\n",
       "      <td>0.765826</td>\n",
       "      <td>0.758937</td>\n",
       "      <td>0.473838</td>\n",
       "      <td>0.458149</td>\n",
       "      <td>[21.53398847579956, 21.746498584747314, 20.930...</td>\n",
       "      <td>64</td>\n",
       "      <td>2</td>\n",
       "      <td>0.1</td>\n",
       "      <td>False</td>\n",
       "    </tr>\n",
       "    <tr>\n",
       "      <th>20</th>\n",
       "      <td>WeightedL1Loss</td>\n",
       "      <td>0.304089</td>\n",
       "      <td>0.303121</td>\n",
       "      <td>0.148889</td>\n",
       "      <td>0.148673</td>\n",
       "      <td>0.766150</td>\n",
       "      <td>0.756450</td>\n",
       "      <td>0.455808</td>\n",
       "      <td>0.448698</td>\n",
       "      <td>[16.832592248916626, 17.05102038383484, 17.088...</td>\n",
       "      <td>64</td>\n",
       "      <td>1</td>\n",
       "      <td>0.0</td>\n",
       "      <td>False</td>\n",
       "    </tr>\n",
       "    <tr>\n",
       "      <th>23</th>\n",
       "      <td>WeightedL1Loss</td>\n",
       "      <td>0.304525</td>\n",
       "      <td>0.304525</td>\n",
       "      <td>0.153514</td>\n",
       "      <td>0.153514</td>\n",
       "      <td>0.766996</td>\n",
       "      <td>0.766996</td>\n",
       "      <td>0.468070</td>\n",
       "      <td>0.468070</td>\n",
       "      <td>[21.025933742523193, 21.182936429977417, 21.36...</td>\n",
       "      <td>64</td>\n",
       "      <td>2</td>\n",
       "      <td>0.2</td>\n",
       "      <td>False</td>\n",
       "    </tr>\n",
       "    <tr>\n",
       "      <th>17</th>\n",
       "      <td>WeightedL1Loss</td>\n",
       "      <td>0.333314</td>\n",
       "      <td>0.333314</td>\n",
       "      <td>0.180215</td>\n",
       "      <td>0.180215</td>\n",
       "      <td>0.781199</td>\n",
       "      <td>0.781199</td>\n",
       "      <td>0.498379</td>\n",
       "      <td>0.498379</td>\n",
       "      <td>[29.557349920272827, 29.8043270111084, 29.6092...</td>\n",
       "      <td>16</td>\n",
       "      <td>2</td>\n",
       "      <td>0.1</td>\n",
       "      <td>True</td>\n",
       "    </tr>\n",
       "    <tr>\n",
       "      <th>18</th>\n",
       "      <td>WeightedL1Loss</td>\n",
       "      <td>0.313809</td>\n",
       "      <td>0.313809</td>\n",
       "      <td>0.161765</td>\n",
       "      <td>0.161765</td>\n",
       "      <td>0.781546</td>\n",
       "      <td>0.781546</td>\n",
       "      <td>0.489083</td>\n",
       "      <td>0.489083</td>\n",
       "      <td>[29.318816423416138, 29.2275173664093, 29.5180...</td>\n",
       "      <td>16</td>\n",
       "      <td>2</td>\n",
       "      <td>0.2</td>\n",
       "      <td>True</td>\n",
       "    </tr>\n",
       "    <tr>\n",
       "      <th>26</th>\n",
       "      <td>WeightedL1Loss</td>\n",
       "      <td>0.337613</td>\n",
       "      <td>0.313334</td>\n",
       "      <td>0.184130</td>\n",
       "      <td>0.158976</td>\n",
       "      <td>0.781559</td>\n",
       "      <td>0.780176</td>\n",
       "      <td>0.495191</td>\n",
       "      <td>0.488150</td>\n",
       "      <td>[27.908698320388794, 28.17424511909485, 27.610...</td>\n",
       "      <td>64</td>\n",
       "      <td>2</td>\n",
       "      <td>0.0</td>\n",
       "      <td>True</td>\n",
       "    </tr>\n",
       "    <tr>\n",
       "      <th>28</th>\n",
       "      <td>WeightedL1Loss</td>\n",
       "      <td>0.300546</td>\n",
       "      <td>0.300089</td>\n",
       "      <td>0.150657</td>\n",
       "      <td>0.148563</td>\n",
       "      <td>0.789707</td>\n",
       "      <td>0.775263</td>\n",
       "      <td>0.494066</td>\n",
       "      <td>0.476204</td>\n",
       "      <td>[30.303483247756958, 29.79135513305664, 29.830...</td>\n",
       "      <td>64</td>\n",
       "      <td>2</td>\n",
       "      <td>0.2</td>\n",
       "      <td>True</td>\n",
       "    </tr>\n",
       "    <tr>\n",
       "      <th>12</th>\n",
       "      <td>WeightedL1Loss</td>\n",
       "      <td>0.340920</td>\n",
       "      <td>0.319919</td>\n",
       "      <td>0.189795</td>\n",
       "      <td>0.164757</td>\n",
       "      <td>0.791669</td>\n",
       "      <td>0.788773</td>\n",
       "      <td>0.505571</td>\n",
       "      <td>0.487368</td>\n",
       "      <td>[20.687926292419434, 21.09835934638977, 21.116...</td>\n",
       "      <td>16</td>\n",
       "      <td>2</td>\n",
       "      <td>0.1</td>\n",
       "      <td>False</td>\n",
       "    </tr>\n",
       "    <tr>\n",
       "      <th>15</th>\n",
       "      <td>WeightedL1Loss</td>\n",
       "      <td>0.301929</td>\n",
       "      <td>0.301929</td>\n",
       "      <td>0.146809</td>\n",
       "      <td>0.146809</td>\n",
       "      <td>0.793545</td>\n",
       "      <td>0.793545</td>\n",
       "      <td>0.492267</td>\n",
       "      <td>0.492267</td>\n",
       "      <td>[19.700330018997192, 19.673784732818604, 19.45...</td>\n",
       "      <td>16</td>\n",
       "      <td>1</td>\n",
       "      <td>0.0</td>\n",
       "      <td>True</td>\n",
       "    </tr>\n",
       "  </tbody>\n",
       "</table>\n",
       "</div>"
      ],
      "text/plain": [
       "   train_criterion    L1Loss  ...  dropout_rnn  bidirectional\n",
       "21  WeightedL1Loss  0.309965  ...          0.0          False\n",
       "22  WeightedL1Loss  0.299651  ...          0.1          False\n",
       "20  WeightedL1Loss  0.304089  ...          0.0          False\n",
       "23  WeightedL1Loss  0.304525  ...          0.2          False\n",
       "17  WeightedL1Loss  0.333314  ...          0.1           True\n",
       "18  WeightedL1Loss  0.313809  ...          0.2           True\n",
       "26  WeightedL1Loss  0.337613  ...          0.0           True\n",
       "28  WeightedL1Loss  0.300546  ...          0.2           True\n",
       "12  WeightedL1Loss  0.340920  ...          0.1          False\n",
       "15  WeightedL1Loss  0.301929  ...          0.0           True\n",
       "\n",
       "[10 rows x 14 columns]"
      ]
     },
     "execution_count": 25,
     "metadata": {
      "tags": []
     },
     "output_type": "execute_result"
    }
   ],
   "source": [
    "\n",
    "# TODO: explain what this cell does\n",
    "# show best results\n",
    "print(f'Loading {results_filename}...')\n",
    "results_df = pd.read_pickle(results_filename)\n",
    "\n",
    "results_df_view = pd.concat((results_df,results_df['params'].apply(pd.Series)), axis=1).drop(\n",
    "    columns=['params','dropout_out','input_size','output_size','uses_two_series_as_input','para','para_best'])\n",
    "\n",
    "results_df_view.sort_values('WeightedL1Loss').head(10)"
   ]
  },
  {
   "cell_type": "code",
   "execution_count": null,
   "metadata": {
    "colab": {
     "base_uri": "https://localhost:8080/",
     "height": 297
    },
    "executionInfo": {
     "elapsed": 859,
     "status": "ok",
     "timestamp": 1619004266692,
     "user": {
      "displayName": "Fabricio Murai",
      "photoUrl": "https://lh3.googleusercontent.com/a-/AOh14Gg5cssoFD3bf2OVCNPF9ZU6hPGXYZtax8bHszJ-Rgc=s64",
      "userId": "04196534601882645786"
     },
     "user_tz": 180
    },
    "id": "vNC-65BYqJF7",
    "outputId": "67c57948-4b6f-47d6-cf8d-f5dd2ef831bb"
   },
   "outputs": [
    {
     "data": {
      "text/plain": [
       "<matplotlib.axes._subplots.AxesSubplot at 0x7f9e5ae01810>"
      ]
     },
     "execution_count": 23,
     "metadata": {
      "tags": []
     },
     "output_type": "execute_result"
    },
    {
     "data": {
      "image/png": "[encoded data removed]",
      "text/plain": [
       "<Figure size 432x288 with 1 Axes>"
      ]
     },
     "metadata": {
      "tags": []
     },
     "output_type": "display_data"
    }
   ],
   "source": [
    "# plot relationship between losses\n",
    "results_df.plot.scatter('WeightedL1Loss_best', 'WeightedL1Loss')"
   ]
  },
  {
   "cell_type": "markdown",
   "metadata": {
    "id": "eeXtnOdUhDbO"
   },
   "source": [
    "### Duplicate functions\n",
    "\n",
    "These functions have been copied here to avoid the importlib.reload shenanigans."
   ]
  },
  {
   "cell_type": "code",
   "execution_count": null,
   "metadata": {
    "colab": {
     "base_uri": "https://localhost:8080/"
    },
    "executionInfo": {
     "elapsed": 1812,
     "status": "ok",
     "timestamp": 1619020604822,
     "user": {
      "displayName": "Henrique Silva",
      "photoUrl": "https://lh3.googleusercontent.com/a-/AOh14Gh0sTZzx8mKsKV9-j3HdK09d6njRJoJnyBA8jbau1I=s64",
      "userId": "15429421149160718308"
     },
     "user_tz": 180
    },
    "id": "VvpF3I6hQKBr",
    "outputId": "06003c16-9524-4fe1-cea7-b9ecd9e44873"
   },
   "outputs": [
    {
     "name": "stdout",
     "output_type": "stream",
     "text": [
      "\n",
      "\n",
      "\n"
     ]
    }
   ],
   "source": [
    "def evaluate(model, loader, criterion, device, return_predictions=False):    \n",
    "    epoch_loss = 0\n",
    "    epoch_acc = 0\n",
    "    model.eval()\n",
    "    if return_predictions:\n",
    "      list_predictions = []\n",
    "    with torch.no_grad():\n",
    "      for batch_idx, batch in enumerate(loader):\n",
    "        if type(batch) is list:\n",
    "          if len(batch) == 4:\n",
    "            x1, len_x1, y, index = batch\n",
    "          if len(batch) == 5:\n",
    "            x1, len_x1, x2, y, index = batch\n",
    "        else:\n",
    "          x1, x2, len_x1, len_x2, y, index = (batch['X_b'],batch['X_t'],batch['b_len'],batch['t_len'],batch['y'],batch['ID'])\n",
    "\n",
    "        if getattr(model,'uses_two_series_as_input',False) == True:\n",
    "          predictions, _ = model(x1.to(device), len_x1.to(device), x2.to(device), len_x2.to(device))\n",
    "        else:\n",
    "          if isinstance(model,nn.modules.transformer.Transformer):\n",
    "            # sz = x1.size(1)\n",
    "            # src_mask = _generate_square_subsequent_mask(sz)\n",
    "            x1 = x1.permute(1,0,2)\n",
    "            x2 = x2.unsqueeze(0)\n",
    "            predictions = model(x1.to(device), x2.to(device))\n",
    "            predictions = predictions[:,:,0].transpose(0,1)\n",
    "          else:  \n",
    "            predictions, _ = model(x1.float().to(device), len_x1.to(device))\n",
    "\n",
    "        #predictions = (predictions-.5)*2\n",
    "        if return_predictions:\n",
    "          list_predictions.append((predictions,y,index))\n",
    "\n",
    "        if isinstance(predictions,tuple):\n",
    "          predictions = predictions[0]\n",
    "\n",
    "        loss = criterion(predictions.squeeze(1), y.to(device))\n",
    "        epoch_loss += loss.item()\n",
    "\n",
    "    if return_predictions:\n",
    "      return epoch_loss / len(loader), list_predictions\n",
    "    else:\n",
    "      return epoch_loss / len(loader)\n",
    "\n",
    "\n",
    "class EarlyStopping:\n",
    "    \"\"\"Early stops the training if validation loss doesn't improve after a given patience.\"\"\"\n",
    "    def __init__(self, patience=7, verbose=False, delta=0):\n",
    "        \"\"\"\n",
    "        Args:\n",
    "            patience (int): How long to wait after last time validation loss improved.\n",
    "                            Default: 7\n",
    "            verbose (bool): If True, prints a message for each validation loss improvement. \n",
    "                            Default: False\n",
    "            delta (float): Minimum change in the monitored quantity to qualify as an improvement.\n",
    "                            Default: 0\n",
    "        \"\"\"\n",
    "        self.patience = patience\n",
    "        self.verbose = verbose\n",
    "        self.counter = 0\n",
    "        self.best_score = None\n",
    "        self.early_stop = False\n",
    "        self.val_loss_min = np.Inf\n",
    "        self.delta = delta\n",
    "\n",
    "    def __call__(self, val_loss, model):\n",
    "\n",
    "        score = -val_loss\n",
    "\n",
    "        if self.best_score is None:\n",
    "            self.best_score = score\n",
    "            self.save_checkpoint(val_loss, model)\n",
    "        elif score < self.best_score + self.delta:\n",
    "            self.counter += 1\n",
    "            print(f'EarlyStopping counter: {self.counter} out of {self.patience}')\n",
    "            if self.counter >= self.patience:\n",
    "                self.early_stop = True\n",
    "        else:\n",
    "            self.best_score = score\n",
    "            self.save_checkpoint(val_loss, model)\n",
    "            self.counter = 0\n",
    "\n",
    "    def save_checkpoint(self, val_loss, model):\n",
    "        '''Saves model when validation loss decrease.'''\n",
    "        if self.verbose:\n",
    "            print(f'Validation loss decreased ({self.val_loss_min:.6f} --> {val_loss:.6f}).  Saving model ...')\n",
    "        torch.save(model.state_dict(), 'checkpoint.pt')\n",
    "        self.val_loss_min = val_loss\n",
    "\n",
    "def epoch_time(start_time, end_time):\n",
    "    elapsed_time = end_time - start_time\n",
    "    elapsed_mins = int(elapsed_time / 60)\n",
    "    elapsed_secs = int(elapsed_time - (elapsed_mins * 60))\n",
    "    return elapsed_mins, elapsed_secs\n",
    "\n",
    "\n",
    "def train(model, loader, optimizer, criterion, device):\n",
    "    epoch_loss = 0\n",
    "    epoch_acc = 0\n",
    "    model.train()\n",
    "    for batch_idx, batch in enumerate(loader):\n",
    "        if type(batch) is list:\n",
    "          if len(batch) == 4:\n",
    "            x1, len_x1, y, index = batch\n",
    "            x1 = x1.float()\n",
    "          if len(batch) == 5:\n",
    "            x1, len_x1, x2, y, index = batch\n",
    "        else:\n",
    "          x1, x2, len_x1, len_x2, y, index = (batch['X_b'],batch['X_t'],batch['b_len'],batch['t_len'],batch['y'],batch['ID'])\n",
    "\n",
    "        optimizer.zero_grad()\n",
    "        if getattr(model,'uses_two_series_as_input',False) == True:\n",
    "          predictions, _ = model(x1.to(device), len_x1.to(device), x2.to(device), len_x2.to(device))\n",
    "        else:\n",
    "          if isinstance(model,nn.modules.transformer.Transformer):\n",
    "            # sz = x1.size(1)\n",
    "            # src_mask = _generate_square_subsequent_mask(sz)\n",
    "            x1 = x1.permute(1,0,2)\n",
    "            x2 = x2.unsqueeze(0)\n",
    "            predictions = model(x1.to(device), x2.to(device))\n",
    "            predictions = predictions[:,:,0].transpose(0,1)\n",
    "          else:  \n",
    "            predictions, _ = model(x1.to(device), len_x1.to(device))\n",
    "\n",
    "        if isinstance(predictions,tuple):\n",
    "            predictions = predictions[0]\n",
    "\n",
    "        loss = criterion(predictions.squeeze(1), y.to(device))\n",
    "        loss.backward()\n",
    "        optimizer.step()\n",
    "        epoch_loss += loss.item()\n",
    "        \n",
    "    return epoch_loss / len(loader)\n",
    "\n",
    "def train_over_nepochs(model, train_loader, valid_loader, criterion, device, patience=20, n_epochs=5, best_valid_loss=float('inf'),\n",
    "                       filename=None, use_tune=False):\n",
    "  if use_tune:\n",
    "    from ray import tune\n",
    "\n",
    "  model = model.to(device)\n",
    "  optimizer = optim.Adam(model.parameters())\n",
    "  criterion = criterion.to(device)\n",
    "  # initialize the early_stopping object\n",
    "  epoch_time_list = []\n",
    "  early_stopping = EarlyStopping(patience=patience, verbose=True)\n",
    "  for epoch in range(n_epochs):\n",
    "    train_iterator, valid_iterator = (iter(train_loader),iter(valid_loader))\n",
    "    \n",
    "    start_time = time.time()\n",
    "    \n",
    "    train_loss = train(model, train_iterator, optimizer, criterion, device)\n",
    "    valid_loss = evaluate(model, valid_iterator, criterion, device)\n",
    "        \n",
    "    end_time = time.time()\n",
    "        \n",
    "    epoch_mins, epoch_secs = epoch_time(start_time, end_time)\n",
    "    epoch_time_list.append(end_time-start_time)\n",
    "\n",
    "    if use_tune:\n",
    "      with tune.checkpoint_dir(epoch) as checkpoint_dir:\n",
    "        path = os.path.join(checkpoint_dir, \"checkpoint\")\n",
    "        torch.save((model.state_dict(), optimizer.state_dict()), path)\n",
    "      tune.report(train_loss=train_loss,val_loss=val_loss)\n",
    "    else:\n",
    "      if valid_loss < best_valid_loss:\n",
    "          best_valid_loss = valid_loss\n",
    "          if filename is not None:\n",
    "            torch.save(model.state_dict(), filename)\n",
    "\n",
    "    if (epoch%2 == 0) or (epoch == n_epochs-1):    \n",
    "      print(f'Epoch: {epoch+1:02} | Epoch Time: {epoch_mins}m {epoch_secs}s')\n",
    "      print(f'\\tTrain Loss: {train_loss:.3f}')\n",
    "      print(f'\\t Val. Loss: {valid_loss:.3f}')\n",
    "\n",
    "    early_stopping(valid_loss, model)\n",
    "    if early_stopping.early_stop:\n",
    "      print(\"Early stopping\")\n",
    "      break\n",
    "\n",
    "  # model.load_state_dict(torch.load('checkpoint.pt', map_location=lambda storage, loc: storage))\n",
    "\n",
    "  return model, best_valid_loss, epoch_time_list"
   ]
  },
  {
   "cell_type": "markdown",
   "metadata": {
    "id": "_GmJY2KaDGAn"
   },
   "source": [
    "### Load the best model\n"
   ]
  },
  {
   "cell_type": "code",
   "execution_count": null,
   "metadata": {
    "colab": {
     "base_uri": "https://localhost:8080/"
    },
    "executionInfo": {
     "elapsed": 4191,
     "status": "ok",
     "timestamp": 1619020830217,
     "user": {
      "displayName": "Henrique Silva",
      "photoUrl": "https://lh3.googleusercontent.com/a-/AOh14Gh0sTZzx8mKsKV9-j3HdK09d6njRJoJnyBA8jbau1I=s64",
      "userId": "15429421149160718308"
     },
     "user_tz": 180
    },
    "id": "S2kTb4nxnKR0",
    "outputId": "70bf0675-0261-4439-cd25-07b18b47ce42"
   },
   "outputs": [
    {
     "name": "stdout",
     "output_type": "stream",
     "text": [
      "{'input_size': 770, 'output_size': 1, 'uses_two_series_as_input': False, 'dropout_out': 0.0, 'hidden_size': 64, 'num_layers': 2, 'dropout_rnn': 0.0, 'bidirectional': False}\n",
      "Test loss: 0.718\n"
     ]
    }
   ],
   "source": [
    "# load best model\n",
    "\n",
    "RETRAIN = False\n",
    "USE_LOSS_BEST = False\n",
    "USE_BEST_VALIDATION = True\n",
    "criterion = WeightedL1Loss(subreddit2weights['all'], BIN_WIDTH, MIN_VALUE)\n",
    "#criterion = nn.MSELoss()\n",
    "criterion_name = lambda x: x.__class__.__name__.split('.')[-1]\n",
    "\n",
    "\n",
    "# see if the file with best params is available\n",
    "# results_df = pd.read_pickle(results_filename)\n",
    "\n",
    "if USE_LOSS_BEST:\n",
    "  best_result = results_df.loc[results_df[criterion_name(criterion)+'_best'].argmin()]\n",
    "else:\n",
    "  best_result = results_df.loc[results_df[criterion_name(criterion)].argmin()]\n",
    "\n",
    "# uncomment to load specific model instead\n",
    "# best_result = results_df.iloc[0]\n",
    "if RETRAIN:\n",
    "    reset_seeds()\n",
    "    model = models.GRUSentiment(best_result.params)\n",
    "    _, valid_loss, _ = train_over_nepochs( model, train_loader, valid_loader,\n",
    "                                        criterion=criterion, device=device,\n",
    "                                        patience=3, n_epochs=N_EPOCHS)\n",
    "\n",
    "    if USE_BEST_VALIDATION:\n",
    "        model.load_state_dict(torch.load('checkpoint.pt', map_location=lambda storage, loc: storage))\n",
    "\n",
    "else:\n",
    "    model = models.GRUSentiment(best_result.params)\n",
    "    if USE_BEST_VALIDATION:\n",
    "        model.load_state_dict(best_result.para)\n",
    "    else:\n",
    "        model.load_state_dict(best_result.para_best)\n",
    "\n",
    "model.to(device)\n",
    "\n",
    "test_loss, outputs = evaluate(model, iter(test_loader), criterion=criterion, device=device, return_predictions=True)\n",
    "model_yhat = outputs[0][0].cpu().numpy() # extract data from outputs\n",
    "ilocs = outputs[0][2].cpu().numpy()\n",
    "model_series = pd.Series(model_yhat.ravel(),index=ilocs)\n",
    "del outputs\n",
    "\n",
    "# print model params\n",
    "print(best_result.params)\n",
    "print(f'Test loss: {test_loss:.3f}')"
   ]
  },
  {
   "cell_type": "code",
   "execution_count": null,
   "metadata": {
    "id": "SJPMs6SyvAgk"
   },
   "outputs": [],
   "source": [
    "tmp_df = get_baselines_df(test_loader)\n",
    "tmp_df['model'] = model_series\n",
    "tmp_df.head()"
   ]
  },
  {
   "cell_type": "markdown",
   "metadata": {
    "id": "R6OH-uXnVIyt"
   },
   "source": [
    "## **3.2** Training XGBoost Regressor as a baseline"
   ]
  },
  {
   "cell_type": "code",
   "execution_count": 28,
   "metadata": {},
   "outputs": [],
   "source": [
    "from src.xgb_utils import weightedl1_obj, weightedl1_loss_sklearn, weightedl1_loss_xgb, plot_model_error, hyperParameterTuning_xgb, getKeysByValue, grid_search_xgb  "
   ]
  },
  {
   "cell_type": "markdown",
   "metadata": {
    "id": "S7BaaVLuUDrG"
   },
   "source": [
    "### XGB optimization"
   ]
  },
  {
   "cell_type": "code",
   "execution_count": null,
   "metadata": {
    "id": "HNG79n01riaF"
   },
   "outputs": [],
   "source": [
    "GRIDS_MSE = False\n",
    "GRIDS_L1 = False\n",
    "if USE_XGB:\n",
    "    if TRAIN:\n",
    "        # LOADING DATA\n",
    "        print(\"Loading data...\")\n",
    "        batch_train = next(iter(train_loader_xgb))\n",
    "        batch_val   = next(iter(valid_loader_xgb))\n",
    "        batch_test  = next(iter(test_loader_xgb))\n",
    "\n",
    "        X_train,_,y_train,_ = batch_train\n",
    "        X_val,  _,y_val,  _ = batch_val\n",
    "        X_test, _,y_test, _ = batch_test\n",
    "\n",
    "        # CONVERTING TO NUMPY ARRAYS\n",
    "        X_train = X_train.to('cpu').numpy()\n",
    "        y_train = y_train.to('cpu').numpy()\n",
    "        X_val   = X_val.to('cpu').numpy()\n",
    "        y_val   = y_val.to('cpu').numpy()\n",
    "        X_test  = X_test.to('cpu').numpy()\n",
    "        y_test  = y_test.to('cpu').numpy()   \n",
    "\n",
    "        # DEFINING WEIGHTS\n",
    "        bin_weights = subreddit2weights['all'].cpu().numpy()\n",
    "        eval_set = [(X_train,y_train),(X_test,y_test),(X_val,y_val)]\n",
    "\n",
    "        if GRID_SEARCH_XGB:\n",
    "            param_tuning_xgb_l1 = {\n",
    "                'learning_rate': [0.001,0.01, 0.1],\n",
    "                'max_depth': [1, 3, 5],\n",
    "                'min_child_weight': [1, 3, 5],\n",
    "                'subsample': [0.5, 0.7],\n",
    "                'colsample_bytree': [0.5, 0.7],\n",
    "                'n_estimators' : [100, 200, 500],\n",
    "                'objective': [weighted_l1_loss]\n",
    "            }\n",
    "            param_tuning_xgb_mse = {\n",
    "                'learning_rate': [0.001,0.01, 0.1],\n",
    "                'max_depth': [1, 3, 5],\n",
    "                'min_child_weight': [1, 3, 5],\n",
    "                'subsample': [0.5, 0.7],\n",
    "                'colsample_bytree': [0.5, 0.7],\n",
    "                'n_estimators' : [100, 200, 500],\n",
    "                'objective': ['reg:squarederror']\n",
    "            }\n",
    "            if GRIDS_L1:\n",
    "                print(\"Starting grid search...\")\n",
    "                best_parameters_l1 = hyperParameterTuning_xgb(\n",
    "                    XGBRegressor(objective=weighted_l1_loss),\n",
    "                    param_tuning_xgb_l1,X_train,y_train,X_val=X_val,y_val=y_val,\n",
    "                    early_stop=3,eval_metric=WeightedL1Loss_calc)\n",
    "                print(f\"Best parameters for the L1 model found by grid search:{best_parameters_l1}\") \n",
    "                best_para_xgb = open(MODELSDIR + \"best_para_xgb_l1.pkl\", \"wb\")\n",
    "                pickle.dump(best_parameters_l1, best_para_xgb)\n",
    "                best_para_xgb.close()    \n",
    "\n",
    "                print(\"Fitting the model with WeightedL1Loss\")\n",
    "                xgb_model_l1 = XGBRegressor(**best_parameters_l1)\n",
    "                xgb_model_l1.n_jobs = 4\n",
    "                xgb_model_l1.fit(X_train,y_train,eval_set=eval_set,early_stopping_rounds=3,eval_metric = WeightedL1Loss_calc)\n",
    "                \n",
    "                print(f\"Best ntree_limit for the L1 model:{xgb_model_l1.best_ntree_limit}\")\n",
    "                f = open(MODELSDIR + \"best_ntree_l1.txt\", \"w\")\n",
    "                f.write(str(xgb_model_l1.best_ntree_limit))\n",
    "                f.close()\n",
    "\n",
    "                xgb_model_l1.save_model(MODELSDIR + \"xgb_l1.model\")    \n",
    "\n",
    "                if PLOT_XGB:\n",
    "                    #WL1 MODEL\n",
    "                    plot_model_error(xgb_model_l1,'WeightedL1')   \n",
    "\n",
    "                #EVAL\n",
    "                print(\"Evaluating model...\")\n",
    "                test_criteria =[WeightedL1Loss( subreddit2weights['all'],BIN_WIDTH,MIN_VALUE),\n",
    "                                nn.L1Loss(), nn.MSELoss()] \n",
    "\n",
    "                print(\"L1Loss Model test error:\")\n",
    "                for criterion in test_criteria:\n",
    "                    test_error = criterion(torch.FloatTensor(xgb_model_l1.predict(X_test)).to(device),torch.FloatTensor(y_test).to(device))\n",
    "                    print(criterion.__class__.__name__,test_error)   \n",
    "\n",
    "            if GRIDS_MSE:\n",
    "\n",
    "                print(\"Starting grid search...\")\n",
    "                best_parameters_mse = grid_search_xgb(early_stop=3,X_train=X_train,y_train=y_train,X_val=X_val,y_val=y_val,n_jobs=4)\n",
    "                print(f\"Best parameters for the MSE model found by grid search:{best_parameters_mse[0]}\") \n",
    "                best_para_xgb = open(MODELSDIR + \"best_para_xgb_mse.pkl\", \"wb\")\n",
    "                pickle.dump(best_parameters_mse, best_para_xgb)\n",
    "                best_para_xgb.close()\n",
    "\n",
    "                print(\"Fitting the model with MSE\")\n",
    "                xgb_model_mse = XGBRegressor(**best_parameters_mse)\n",
    "                xgb_model_mse.n_jobs = 4\n",
    "\n",
    "                xgb_model_mse.fit(X_train,y_train,eval_set=eval_set,early_stopping_rounds=3)\n",
    "                print(f\"Best ntree_limit for the MSE model:{xgb_model_mse.best_ntree_limit}\")\n",
    "                f = open(MODELSDIR + \"best_ntree_mse.txt\", \"w\")\n",
    "                f.write(str(xgb_model_mse.best_ntree_limit))\n",
    "                f.close()\n",
    "\n",
    "                xgb_model_mse.save_model(MODELSDIR + \"xgb_mse.model\")    \n",
    "\n",
    "                if PLOT_XGB:\n",
    "                    #MSE MODEL\n",
    "                    plot_model_error(xgb_model_mse,'rmse')      \n",
    "\n",
    "                #EVAL\n",
    "                print(\"Evaluating model...\")\n",
    "                test_criteria =[WeightedL1Loss( subreddit2weights['all'],BIN_WIDTH,MIN_VALUE),\n",
    "                                nn.L1Loss(), nn.MSELoss()] \n",
    "\n",
    "                print(\"MSE Model test error:\")\n",
    "                for criterion in test_criteria:\n",
    "                    test_error = criterion(torch.FloatTensor(xgb_model_mse.predict(X_test)).to(device),torch.FloatTensor(y_test).to(device))\n",
    "                    print(criterion.__class__.__name__,test_error)\n",
    "            \n",
    "        else:\n",
    "            print(\"Loading best parameters...\")\n",
    "            try:\n",
    "                best_parameters_l1 = open(MODELSDIR + \"best_para_xgb_l1.pkl\", \"rb\")\n",
    "                best_parameters_l1 = pickle.load(best_parameters_l1)\n",
    "                print(\"Successfully loaded best parameters for the L1 model\")\n",
    "            except:\n",
    "                print(\"L1 model parameters file not found, using standard ones instead\")\n",
    "                best_parameters_l1 = {\n",
    "            'learning_rate': 0.1,\n",
    "            'max_depth':  5,\n",
    "            'min_child_weight': 3,\n",
    "            'subsample': 0.5,\n",
    "            'colsample_bytree': 0.5,\n",
    "            'n_estimators' :  200,\n",
    "            'objective': WeightedL1Loss_grad}\n",
    "\n",
    "            try:\n",
    "                best_parameters_mse = open(MODELSDIR + \"best_para_xgb_mse.pkl\", \"rb\")\n",
    "                best_parameters_mse = pickle.load(best_parameters_mse)\n",
    "                print(\"Successfully loaded best parameters for the MSE model\")\n",
    "            except:\n",
    "                print(\"MSE model parameters file not found, using standard ones instead\")\n",
    "                best_parameters_mse = {\n",
    "            'learning_rate': 0.1,\n",
    "            'max_depth':  5,\n",
    "            'min_child_weight': 3,\n",
    "            'subsample': 0.5,\n",
    "            'colsample_bytree': 0.5,\n",
    "            'n_estimators' :  200,\n",
    "            'objective': 'reg:squarederror'}            \n",
    "\n",
    "\n",
    "            print(\"Fitting the model with WeightedL1Loss\")\n",
    "            xgb_model_l1 = XGBRegressor(**best_parameters_l1, n_jobs = 4)\n",
    "            xgb_model_l1.fit(X_train,y_train,eval_set=eval_set,early_stopping_rounds=3)#,eval_metric = WeightedL1Loss_calc)\n",
    "\n",
    "            print(f\"Best ntree_limit for the model:{xgb_model_l1.best_ntree_limit}\")\n",
    "            f = open(MODELSDIR + \"best_ntree_l1.txt\", \"w\")\n",
    "            f.write(str(xgb_model_l1.best_ntree_limit))\n",
    "            f.close()\n",
    "\n",
    "            xgb_model_l1.save_model(MODELSDIR + \"xgb_l1.model\")\n",
    "\n",
    "            print(\"Fitting the model with MSE\")\n",
    "            xgb_model_mse = XGBRegressor(**best_parameters_mse, n_jobs=4)\n",
    "            xgb_model_mse.fit(X_train,y_train,eval_set=eval_set,early_stopping_rounds=3)\n",
    "\n",
    "            print(f\"Best ntree_limit for the model:{xgb_model_mse.best_ntree_limit}\")\n",
    "            f = open(MODELSDIR + \"best_ntree_mse.txt\", \"w\")\n",
    "            f.write(str(xgb_model_mse.best_ntree_limit))\n",
    "            f.close()\n",
    "\n",
    "            xgb_model_mse.save_model(MODELSDIR + \"xgb_mse.model\")     \n",
    "\n",
    "            if PLOT_XGB:\n",
    "                #WL1 MODEL\n",
    "                plot_model_error(xgb_model_l1,'WeightedL1Loss') \n",
    "\n",
    "                #MSE MODEL\n",
    "                plot_model_error(xgb_model_mse,'rmse')\n",
    "\n",
    "            #EVAL\n",
    "            print(\"Evaluating model...\")\n",
    "            print(\"-------------------------\")\n",
    "            test_criteria =[WeightedL1Loss( subreddit2weights['all'],BIN_WIDTH,MIN_VALUE),\n",
    "                            nn.L1Loss(), nn.MSELoss()] \n",
    "                            \n",
    "            print(\"MSE Model test error:\")\n",
    "            for criterion in test_criteria:\n",
    "                test_error = criterion(torch.FloatTensor(xgb_model_mse.predict(X_test)).to(device),torch.FloatTensor(y_test).to(device))\n",
    "                print(criterion.__class__.__name__,test_error)\n",
    "\n",
    "            print(\"-------------------------\")\n",
    "            print(\"L1Loss Model test error:\")\n",
    "            for criterion in test_criteria:\n",
    "                test_error = criterion(torch.FloatTensor(xgb_model_l1.predict(X_test)).to(device),torch.FloatTensor(y_test).to(device))\n",
    "                print(criterion.__class__.__name__,test_error)\n",
    "\n",
    "\n",
    "    if TEST:\n",
    "        # LOADING DATA\n",
    "        batch_test = next(iter(test_loader_xgb))\n",
    "        X_test,_,y_test,_ = batch_test\n",
    "        # CONVERTING TO NUMPY ARRAYS\n",
    "        X_test = X_test.to('cpu').numpy()\n",
    "        y_test = y_test.to('cpu').numpy() \n",
    "        \n",
    "        #LOADING MODELS\n",
    "        print(\"Loading trained xgb model...\")\n",
    "        xgb_model_l1 = XGBRegressor()\n",
    "        xgb_model_mse = XGBRegressor()\n",
    "        xgb_model_l1.load_model(MODELSDIR + \"xgb_l1.model\")\n",
    "        xgb_model_mse.load_model(MODELSDIR + \"xgb_mse.model\")\n",
    "        \n",
    "        \n",
    "        best_ntree_l1 = open(MODELSDIR + \"best_ntree_l1.txt\", \"r\")\n",
    "        best_ntree_l1 = int(best_ntree_l1.read())\n",
    "        best_ntree_mse = open(MODELSDIR + \"best_ntree_mse.txt\", \"r\")\n",
    "        best_ntree_mse = int(best_ntree_mse.read())  \n",
    "\n",
    "        print(\"Model and parameters loaded\")\n",
    "        print(\"-------------------------\")\n",
    "\n",
    "        #EVAL\n",
    "        print(\"Evaluating model...\")\n",
    "        print(\"-------------------------\")\n",
    "        test_criteria =[WeightedL1Loss( subreddit2weights['all'],BIN_WIDTH,MIN_VALUE),\n",
    "                        nn.L1Loss(), nn.MSELoss()] \n",
    "                        \n",
    "        print(\"MSE Model test error:\")\n",
    "        for criterion in test_criteria:\n",
    "            test_error = criterion(torch.FloatTensor(xgb_model_mse.predict(X_test)).to(device),torch.FloatTensor(y_test).to(device))\n",
    "            print(criterion.__class__.__name__,test_error)\n",
    "\n",
    "        print(\"-------------------------\")\n",
    "        print(\"L1Loss Model test error:\")\n",
    "        for criterion in test_criteria:\n",
    "            test_error = criterion(torch.FloatTensor(xgb_model_l1.predict(X_test)).to(device),torch.FloatTensor(y_test).to(device))\n",
    "            print(criterion.__class__.__name__,test_error)\n"
   ]
  },
  {
   "cell_type": "markdown",
   "metadata": {
    "id": "ZUgz6Zj8WFgW"
   },
   "source": [
    "## **4**. Comparing the results with simple baselines"
   ]
  },
  {
   "cell_type": "code",
   "execution_count": null,
   "metadata": {
    "id": "8q9E4c8HRQqG"
   },
   "outputs": [],
   "source": [
    "# TODO: add doc for this function\n",
    "def compute_error(results_df, pred_column_name, criteria, device):\n",
    "  return {criterion.__class__.__name__.split('.')[-1]:\n",
    "          float(criterion(\n",
    "              torch.Tensor(results_df[pred_column_name].values).to(device),\n",
    "              torch.Tensor(results_df['final score'].values).to(device))\n",
    "          ) for criterion in criteria}"
   ]
  },
  {
   "cell_type": "code",
   "execution_count": null,
   "metadata": {
    "colab": {
     "base_uri": "https://localhost:8080/",
     "height": 142
    },
    "executionInfo": {
     "elapsed": 502,
     "status": "ok",
     "timestamp": 1618601090693,
     "user": {
      "displayName": "Henrique Silva",
      "photoUrl": "https://lh3.googleusercontent.com/a-/AOh14Gh0sTZzx8mKsKV9-j3HdK09d6njRJoJnyBA8jbau1I=s64",
      "userId": "15429421149160718308"
     },
     "user_tz": 180
    },
    "id": "jMsAYYKxkcSX",
    "outputId": "de83e1eb-dabe-47f5-a0f9-78558acfbd76"
   },
   "outputs": [
    {
     "data": {
      "text/html": [
       "<div>\n",
       "<style scoped>\n",
       "    .dataframe tbody tr th:only-of-type {\n",
       "        vertical-align: middle;\n",
       "    }\n",
       "\n",
       "    .dataframe tbody tr th {\n",
       "        vertical-align: top;\n",
       "    }\n",
       "\n",
       "    .dataframe thead th {\n",
       "        text-align: right;\n",
       "    }\n",
       "</style>\n",
       "<table border=\"1\" class=\"dataframe\">\n",
       "  <thead>\n",
       "    <tr style=\"text-align: right;\">\n",
       "      <th></th>\n",
       "      <th>Weighted L1 Loss</th>\n",
       "    </tr>\n",
       "  </thead>\n",
       "  <tbody>\n",
       "    <tr>\n",
       "      <th>LAST</th>\n",
       "      <td>0.841203</td>\n",
       "    </tr>\n",
       "    <tr>\n",
       "      <th>MEAN</th>\n",
       "      <td>0.808278</td>\n",
       "    </tr>\n",
       "    <tr>\n",
       "      <th>UNCHANGED</th>\n",
       "      <td>0.888190</td>\n",
       "    </tr>\n",
       "  </tbody>\n",
       "</table>\n",
       "</div>"
      ],
      "text/plain": [
       "           Weighted L1 Loss\n",
       "LAST               0.841203\n",
       "MEAN               0.808278\n",
       "UNCHANGED          0.888190"
      ]
     },
     "execution_count": 26,
     "metadata": {
      "tags": []
     },
     "output_type": "execute_result"
    }
   ],
   "source": [
    "  # TODO: explain what this cell does\n",
    "  pred_column_names = ['unchanged', 'mean','last']\n",
    "  loss2title = {'L1Loss':'L1 Loss','MSELoss':'MSE Loss','WeightedL1Loss':'Weighted L1 Loss'}\n",
    "  subreddit='all'\n",
    "\n",
    "  criteria=[WeightedL1Loss(subreddit2weights[subreddit],BIN_WIDTH,MIN_VALUE)]\n",
    "  criteria_names = [criterion.__class__.__name__.split('.')[-1] for criterion in criteria]\n",
    "\n",
    "  test_loss = dict()\n",
    "  for pred_column_name in pred_column_names:\n",
    "    test_loss[pred_column_name] = compute_error(tmp_df, pred_column_name, criteria, device)\n",
    "\n",
    "  df = pd.DataFrame.from_dict(test_loss,orient='index')\n",
    "  df.columns = df.columns.map(loss2title)\n",
    "  df.index = df.index.map(str.upper)\n",
    "  df"
   ]
  },
  {
   "cell_type": "code",
   "execution_count": null,
   "metadata": {
    "id": "OdeoKblErwOn"
   },
   "outputs": [],
   "source": [
    "# fig, axs = plt.subplots(1,2, figsize=(6,3))\n",
    "# for ax,y_col in zip(axs,['score_noavg','score']):\n",
    "#   post_df.apply(lambda x: x[y_col][x.seq_len-1], axis=1).hist(ax=ax,bins=np.arange(.0,1.01,.05))\n",
    "#   ax.set_title(y_col)\n",
    "# plt.tight_layout()"
   ]
  },
  {
   "cell_type": "code",
   "execution_count": null,
   "metadata": {
    "colab": {
     "base_uri": "https://localhost:8080/",
     "height": 204
    },
    "executionInfo": {
     "elapsed": 964,
     "status": "ok",
     "timestamp": 1617813074833,
     "user": {
      "displayName": "Henrique Silva",
      "photoUrl": "https://lh3.googleusercontent.com/a-/AOh14Gh0sTZzx8mKsKV9-j3HdK09d6njRJoJnyBA8jbau1I=s64",
      "userId": "15429421149160718308"
     },
     "user_tz": 180
    },
    "id": "3qHIcVPVlgTP",
    "outputId": "508511b1-5c00-4040-9d69-a5159222e6b1"
   },
   "outputs": [
    {
     "data": {
      "text/html": [
       "<div>\n",
       "<style scoped>\n",
       "    .dataframe tbody tr th:only-of-type {\n",
       "        vertical-align: middle;\n",
       "    }\n",
       "\n",
       "    .dataframe tbody tr th {\n",
       "        vertical-align: top;\n",
       "    }\n",
       "\n",
       "    .dataframe thead th {\n",
       "        text-align: right;\n",
       "    }\n",
       "</style>\n",
       "<table border=\"1\" class=\"dataframe\">\n",
       "  <thead>\n",
       "    <tr style=\"text-align: right;\">\n",
       "      <th></th>\n",
       "      <th>unchanged</th>\n",
       "      <th>final score</th>\n",
       "      <th>thread ncom</th>\n",
       "      <th>mean</th>\n",
       "      <th>last</th>\n",
       "      <th>model</th>\n",
       "      <th>xgb-mse</th>\n",
       "    </tr>\n",
       "  </thead>\n",
       "  <tbody>\n",
       "    <tr>\n",
       "      <th>10</th>\n",
       "      <td>-0.130042</td>\n",
       "      <td>-0.467600</td>\n",
       "      <td>2</td>\n",
       "      <td>0.012204</td>\n",
       "      <td>0.154450</td>\n",
       "      <td>0.341191</td>\n",
       "      <td>0.149213</td>\n",
       "    </tr>\n",
       "    <tr>\n",
       "      <th>17</th>\n",
       "      <td>0.523211</td>\n",
       "      <td>0.072975</td>\n",
       "      <td>5</td>\n",
       "      <td>0.216017</td>\n",
       "      <td>0.137519</td>\n",
       "      <td>0.533828</td>\n",
       "      <td>0.235764</td>\n",
       "    </tr>\n",
       "    <tr>\n",
       "      <th>20</th>\n",
       "      <td>0.058143</td>\n",
       "      <td>-0.100950</td>\n",
       "      <td>3</td>\n",
       "      <td>0.062931</td>\n",
       "      <td>0.130650</td>\n",
       "      <td>0.427484</td>\n",
       "      <td>0.199862</td>\n",
       "    </tr>\n",
       "    <tr>\n",
       "      <th>34</th>\n",
       "      <td>-0.126900</td>\n",
       "      <td>0.036950</td>\n",
       "      <td>5</td>\n",
       "      <td>-0.025573</td>\n",
       "      <td>0.036950</td>\n",
       "      <td>0.241738</td>\n",
       "      <td>0.080362</td>\n",
       "    </tr>\n",
       "    <tr>\n",
       "      <th>46</th>\n",
       "      <td>-0.142029</td>\n",
       "      <td>-0.274950</td>\n",
       "      <td>4</td>\n",
       "      <td>0.020388</td>\n",
       "      <td>-0.136600</td>\n",
       "      <td>0.383980</td>\n",
       "      <td>0.202052</td>\n",
       "    </tr>\n",
       "  </tbody>\n",
       "</table>\n",
       "</div>"
      ],
      "text/plain": [
       "    unchanged  final score  thread ncom      mean      last     model   xgb-mse\n",
       "10  -0.130042    -0.467600            2  0.012204  0.154450  0.341191  0.149213\n",
       "17   0.523211     0.072975            5  0.216017  0.137519  0.533828  0.235764\n",
       "20   0.058143    -0.100950            3  0.062931  0.130650  0.427484  0.199862\n",
       "34  -0.126900     0.036950            5 -0.025573  0.036950  0.241738  0.080362\n",
       "46  -0.142029    -0.274950            4  0.020388 -0.136600  0.383980  0.202052"
      ]
     },
     "execution_count": 46,
     "metadata": {
      "tags": []
     },
     "output_type": "execute_result"
    }
   ],
   "source": [
    "# TODO: it seems that this file is used as a way to consolidate RNN and XGB predictions. Can we organize this code to do this automatically?\n",
    "# suggestion: most of the code in this notebook will go to either: (i) a .py containing functions shared by RNN and XGB; (ii) RNN-specific code; (iii) XGB-specific code\n",
    "# the notebook then basically calls functions such as\n",
    "# load_train_set()\n",
    "# load_test_set()\n",
    "# instantiate_data_loader(model)\n",
    "# grid_search_<MODEL>(<LISTS OF HYPERPARAMETERS>) -> (HARD) ideally this should be the same function for both models\n",
    "# load_best_<MODEL>\n",
    "# <MODEL>.predict()\n",
    "tmp_df = pd.read_csv(f'{RESULTSDIR}{PREFIX}_{SRC_DATASET}_predictions.csv',index_col=0)\n",
    "tmp_df.head()\n"
   ]
  },
  {
   "cell_type": "markdown",
   "metadata": {
    "id": "e90fuJJsGBpP"
   },
   "source": [
    "### Generate results table"
   ]
  },
  {
   "cell_type": "code",
   "execution_count": null,
   "metadata": {
    "colab": {
     "base_uri": "https://localhost:8080/"
    },
    "executionInfo": {
     "elapsed": 448,
     "status": "ok",
     "timestamp": 1617887807565,
     "user": {
      "displayName": "Henrique Silva",
      "photoUrl": "https://lh3.googleusercontent.com/a-/AOh14Gh0sTZzx8mKsKV9-j3HdK09d6njRJoJnyBA8jbau1I=s64",
      "userId": "15429421149160718308"
     },
     "user_tz": 180
    },
    "id": "uvGxRB7iEPW9",
    "outputId": "83593dfe-961a-42ad-b691-a6e0eec45adc"
   },
   "outputs": [
    {
     "name": "stdout",
     "output_type": "stream",
     "text": [
      "this\n"
     ]
    }
   ],
   "source": [
    "# TODO: explain each of the cells below\n",
    "subreddit2range2 = {}\n",
    "for subreddit,v in subreddit2range.items():\n",
    "  if type(v) == slice:\n",
    "    inds = [ind for ind in tmp_df.index if v.start <= ind < v.stop]\n",
    "  else:\n",
    "    inds = list(tmp_df.index)\n",
    "  subreddit2range2[subreddit] = inds\n",
    "# subreddit2range2\n",
    "\n",
    "pred_column_names = ['unchanged', 'mean','last','model']\n",
    "loss2title = {'L1Loss':'L1 Loss','MSELoss':'MSE Loss','WeightedL1Loss':'Weighted L1 Loss'}"
   ]
  },
  {
   "cell_type": "code",
   "execution_count": null,
   "metadata": {
    "colab": {
     "base_uri": "https://localhost:8080/"
    },
    "executionInfo": {
     "elapsed": 589,
     "status": "ok",
     "timestamp": 1617887874859,
     "user": {
      "displayName": "Henrique Silva",
      "photoUrl": "https://lh3.googleusercontent.com/a-/AOh14Gh0sTZzx8mKsKV9-j3HdK09d6njRJoJnyBA8jbau1I=s64",
      "userId": "15429421149160718308"
     },
     "user_tz": 180
    },
    "id": "_lbHW0YKob_Q",
    "outputId": "e83b9078-ca84-4900-b01c-2dd7ecf68ae4"
   },
   "outputs": [
    {
     "data": {
      "text/plain": [
       "{'Anxiety': slice(0, 13533, None),\n",
       " 'SuicideWatch': slice(86129, 101324, None),\n",
       " 'all': array([     0,      1,      2, ..., 101321, 101322, 101323]),\n",
       " 'bipolar': slice(13533, 23012, None),\n",
       " 'depression': slice(23012, 86129, None)}"
      ]
     },
     "execution_count": 78,
     "metadata": {
      "tags": []
     },
     "output_type": "execute_result"
    }
   ],
   "source": [
    "subreddit2range"
   ]
  },
  {
   "cell_type": "code",
   "execution_count": null,
   "metadata": {
    "colab": {
     "base_uri": "https://localhost:8080/"
    },
    "executionInfo": {
     "elapsed": 467,
     "status": "ok",
     "timestamp": 1617887864687,
     "user": {
      "displayName": "Henrique Silva",
      "photoUrl": "https://lh3.googleusercontent.com/a-/AOh14Gh0sTZzx8mKsKV9-j3HdK09d6njRJoJnyBA8jbau1I=s64",
      "userId": "15429421149160718308"
     },
     "user_tz": 180
    },
    "id": "pBlKZlUnoHrj",
    "outputId": "e9ab4fc0-e2e2-4e17-c10b-c7830a477d62"
   },
   "outputs": [
    {
     "data": {
      "text/plain": [
       "[13544,\n",
       " 13547,\n",
       " 13550,\n",
       " 13556,\n",
       " 13565,\n",
       " 13583,\n",
       " 13598,\n",
       " 13605,\n",
       " 13612,\n",
       " 13616,\n",
       " 13621,\n",
       " 13643,\n",
       " 13653,\n",
       " 13661,\n",
       " 13664,\n",
       " 13669,\n",
       " 13686,\n",
       " 13717,\n",
       " 13722,\n",
       " 13732,\n",
       " 13744,\n",
       " 13764,\n",
       " 13770,\n",
       " 13776,\n",
       " 13783,\n",
       " 13786,\n",
       " 13788,\n",
       " 13789,\n",
       " 13814,\n",
       " 13843,\n",
       " 13845,\n",
       " 13848,\n",
       " 13852,\n",
       " 13855,\n",
       " 13858,\n",
       " 13859,\n",
       " 13863,\n",
       " 13864,\n",
       " 13872,\n",
       " 13874,\n",
       " 13878,\n",
       " 13887,\n",
       " 13897,\n",
       " 13899,\n",
       " 13913,\n",
       " 13930,\n",
       " 13954,\n",
       " 13964,\n",
       " 13973,\n",
       " 13977,\n",
       " 13980,\n",
       " 13986,\n",
       " 13988,\n",
       " 13999,\n",
       " 14001,\n",
       " 14004,\n",
       " 14012,\n",
       " 14016,\n",
       " 14017,\n",
       " 14024,\n",
       " 14025,\n",
       " 14026,\n",
       " 14030,\n",
       " 14060,\n",
       " 14073,\n",
       " 14076,\n",
       " 14113,\n",
       " 14127,\n",
       " 14130,\n",
       " 14131,\n",
       " 14149,\n",
       " 14157,\n",
       " 14166,\n",
       " 14177,\n",
       " 14182,\n",
       " 14183,\n",
       " 14185,\n",
       " 14190,\n",
       " 14208,\n",
       " 14209,\n",
       " 14226,\n",
       " 14240,\n",
       " 14300,\n",
       " 14320,\n",
       " 14339,\n",
       " 14342,\n",
       " 14355,\n",
       " 14360,\n",
       " 14367,\n",
       " 14380,\n",
       " 14385,\n",
       " 14391,\n",
       " 14392,\n",
       " 14394,\n",
       " 14404,\n",
       " 14409,\n",
       " 14410,\n",
       " 14413,\n",
       " 14414,\n",
       " 14424,\n",
       " 14435,\n",
       " 14437,\n",
       " 14454,\n",
       " 14456,\n",
       " 14458,\n",
       " 14463,\n",
       " 14469,\n",
       " 14470,\n",
       " 14477,\n",
       " 14519,\n",
       " 14535,\n",
       " 14550,\n",
       " 14601,\n",
       " 14611,\n",
       " 14612,\n",
       " 14614,\n",
       " 14618,\n",
       " 14625,\n",
       " 14629,\n",
       " 14651,\n",
       " 14671,\n",
       " 14689,\n",
       " 14696,\n",
       " 14703,\n",
       " 14717,\n",
       " 14720,\n",
       " 14724,\n",
       " 14728,\n",
       " 14729,\n",
       " 14749,\n",
       " 14766,\n",
       " 14774,\n",
       " 14792,\n",
       " 14809,\n",
       " 14815,\n",
       " 14823,\n",
       " 14826,\n",
       " 14827,\n",
       " 14828,\n",
       " 14849,\n",
       " 14852,\n",
       " 14860,\n",
       " 14869,\n",
       " 14873,\n",
       " 14881,\n",
       " 14883,\n",
       " 14895,\n",
       " 14902,\n",
       " 14903,\n",
       " 14905,\n",
       " 14912,\n",
       " 14922,\n",
       " 14934,\n",
       " 14936,\n",
       " 14942,\n",
       " 14944,\n",
       " 14953,\n",
       " 14968,\n",
       " 14969,\n",
       " 14973,\n",
       " 14977,\n",
       " 14980,\n",
       " 14994,\n",
       " 15012,\n",
       " 15014,\n",
       " 15045,\n",
       " 15046,\n",
       " 15049,\n",
       " 15061,\n",
       " 15062,\n",
       " 15067,\n",
       " 15093,\n",
       " 15096,\n",
       " 15106,\n",
       " 15108,\n",
       " 15120,\n",
       " 15123,\n",
       " 15124,\n",
       " 15132,\n",
       " 15134,\n",
       " 15135,\n",
       " 15150,\n",
       " 15151,\n",
       " 15158,\n",
       " 15159,\n",
       " 15181,\n",
       " 15197,\n",
       " 15204,\n",
       " 15210,\n",
       " 15217,\n",
       " 15236,\n",
       " 15237,\n",
       " 15242,\n",
       " 15283,\n",
       " 15285,\n",
       " 15306,\n",
       " 15308,\n",
       " 15328,\n",
       " 15334,\n",
       " 15349,\n",
       " 15350,\n",
       " 15358,\n",
       " 15368,\n",
       " 15369,\n",
       " 15392,\n",
       " 15394,\n",
       " 15398,\n",
       " 15400,\n",
       " 15402,\n",
       " 15416,\n",
       " 15419,\n",
       " 15428,\n",
       " 15469,\n",
       " 15472,\n",
       " 15473,\n",
       " 15479,\n",
       " 15489,\n",
       " 15518,\n",
       " 15551,\n",
       " 15581,\n",
       " 15588,\n",
       " 15589,\n",
       " 15596,\n",
       " 15601,\n",
       " 15613,\n",
       " 15618,\n",
       " 15627,\n",
       " 15638,\n",
       " 15641,\n",
       " 15650,\n",
       " 15667,\n",
       " 15677,\n",
       " 15678,\n",
       " 15690,\n",
       " 15700,\n",
       " 15724,\n",
       " 15731,\n",
       " 15732,\n",
       " 15750,\n",
       " 15754,\n",
       " 15767,\n",
       " 15785,\n",
       " 15788,\n",
       " 15796,\n",
       " 15798,\n",
       " 15804,\n",
       " 15812,\n",
       " 15819,\n",
       " 15827,\n",
       " 15832,\n",
       " 15833,\n",
       " 15844,\n",
       " 15866,\n",
       " 15873,\n",
       " 15903,\n",
       " 15907,\n",
       " 15916,\n",
       " 15922,\n",
       " 15932,\n",
       " 15937,\n",
       " 15945,\n",
       " 15950,\n",
       " 15957,\n",
       " 15968,\n",
       " 15976,\n",
       " 15985,\n",
       " 16014,\n",
       " 16028,\n",
       " 16030,\n",
       " 16033,\n",
       " 16040,\n",
       " 16053,\n",
       " 16061,\n",
       " 16068,\n",
       " 16075,\n",
       " 16080,\n",
       " 16102,\n",
       " 16107,\n",
       " 16109,\n",
       " 16112,\n",
       " 16127,\n",
       " 16128,\n",
       " 16132,\n",
       " 16133,\n",
       " 16142,\n",
       " 16157,\n",
       " 16169,\n",
       " 16173,\n",
       " 16177,\n",
       " 16200,\n",
       " 16218,\n",
       " 16236,\n",
       " 16241,\n",
       " 16242,\n",
       " 16247,\n",
       " 16252,\n",
       " 16289,\n",
       " 16293,\n",
       " 16304,\n",
       " 16328,\n",
       " 16330,\n",
       " 16350,\n",
       " 16360,\n",
       " 16365,\n",
       " 16366,\n",
       " 16371,\n",
       " 16384,\n",
       " 16395,\n",
       " 16396,\n",
       " 16412,\n",
       " 16414,\n",
       " 16437,\n",
       " 16468,\n",
       " 16473,\n",
       " 16474,\n",
       " 16475,\n",
       " 16476,\n",
       " 16483,\n",
       " 16486,\n",
       " 16491,\n",
       " 16510,\n",
       " 16516,\n",
       " 16525,\n",
       " 16526,\n",
       " 16534,\n",
       " 16540,\n",
       " 16542,\n",
       " 16560,\n",
       " 16563,\n",
       " 16568,\n",
       " 16582,\n",
       " 16596,\n",
       " 16597,\n",
       " 16601,\n",
       " 16617,\n",
       " 16625,\n",
       " 16639,\n",
       " 16652,\n",
       " 16670,\n",
       " 16685,\n",
       " 16707,\n",
       " 16713,\n",
       " 16757,\n",
       " 16760,\n",
       " 16761,\n",
       " 16781,\n",
       " 16784,\n",
       " 16807,\n",
       " 16809,\n",
       " 16824,\n",
       " 16838,\n",
       " 16840,\n",
       " 16849,\n",
       " 16852,\n",
       " 16858,\n",
       " 16859,\n",
       " 16871,\n",
       " 16908,\n",
       " 16924,\n",
       " 16927,\n",
       " 16940,\n",
       " 16982,\n",
       " 16984,\n",
       " 17004,\n",
       " 17013,\n",
       " 17015,\n",
       " 17024,\n",
       " 17049,\n",
       " 17052,\n",
       " 17073,\n",
       " 17101,\n",
       " 17108,\n",
       " 17136,\n",
       " 17159,\n",
       " 17168,\n",
       " 17195,\n",
       " 17217,\n",
       " 17220,\n",
       " 17227,\n",
       " 17230,\n",
       " 17234,\n",
       " 17241,\n",
       " 17243,\n",
       " 17260,\n",
       " 17272,\n",
       " 17276,\n",
       " 17282,\n",
       " 17302,\n",
       " 17319,\n",
       " 17326,\n",
       " 17327,\n",
       " 17343,\n",
       " 17350,\n",
       " 17358,\n",
       " 17360,\n",
       " 17373,\n",
       " 17376,\n",
       " 17384,\n",
       " 17397,\n",
       " 17398,\n",
       " 17422,\n",
       " 17425,\n",
       " 17431,\n",
       " 17432,\n",
       " 17442,\n",
       " 17452,\n",
       " 17456,\n",
       " 17457,\n",
       " 17462,\n",
       " 17463,\n",
       " 17471,\n",
       " 17477,\n",
       " 17478,\n",
       " 17483,\n",
       " 17502,\n",
       " 17503,\n",
       " 17504,\n",
       " 17515,\n",
       " 17521,\n",
       " 17532,\n",
       " 17534,\n",
       " 17536,\n",
       " 17540,\n",
       " 17557,\n",
       " 17558,\n",
       " 17575,\n",
       " 17584,\n",
       " 17600,\n",
       " 17602,\n",
       " 17608,\n",
       " 17615,\n",
       " 17618,\n",
       " 17628,\n",
       " 17630,\n",
       " 17634,\n",
       " 17636,\n",
       " 17651,\n",
       " 17659,\n",
       " 17681,\n",
       " 17712,\n",
       " 17716,\n",
       " 17718,\n",
       " 17745,\n",
       " 17767,\n",
       " 17802,\n",
       " 17808,\n",
       " 17815,\n",
       " 17826,\n",
       " 17850,\n",
       " 17855,\n",
       " 17882,\n",
       " 17902,\n",
       " 17907,\n",
       " 17908,\n",
       " 17932,\n",
       " 17935,\n",
       " 17946,\n",
       " 17955,\n",
       " 17967,\n",
       " 17974,\n",
       " 17985,\n",
       " 17996,\n",
       " 18005,\n",
       " 18007,\n",
       " 18012,\n",
       " 18021,\n",
       " 18066,\n",
       " 18070,\n",
       " 18079,\n",
       " 18101,\n",
       " 18133,\n",
       " 18136,\n",
       " 18140,\n",
       " 18142,\n",
       " 18154,\n",
       " 18161,\n",
       " 18189,\n",
       " 18197,\n",
       " 18206,\n",
       " 18224,\n",
       " 18232,\n",
       " 18247,\n",
       " 18250,\n",
       " 18269,\n",
       " 18275,\n",
       " 18277,\n",
       " 18285,\n",
       " 18310,\n",
       " 18339,\n",
       " 18346,\n",
       " 18354,\n",
       " 18362,\n",
       " 18364,\n",
       " 18393,\n",
       " 18404,\n",
       " 18417,\n",
       " 18418,\n",
       " 18435,\n",
       " 18441,\n",
       " 18468,\n",
       " 18474,\n",
       " 18495,\n",
       " 18501,\n",
       " 18532,\n",
       " 18533,\n",
       " 18534,\n",
       " 18541,\n",
       " 18544,\n",
       " 18547,\n",
       " 18558,\n",
       " 18566,\n",
       " 18592,\n",
       " 18596,\n",
       " 18615,\n",
       " 18621,\n",
       " 18624,\n",
       " 18625,\n",
       " 18631,\n",
       " 18641,\n",
       " 18658,\n",
       " 18664,\n",
       " 18666,\n",
       " 18680,\n",
       " 18684,\n",
       " 18694,\n",
       " 18712,\n",
       " 18740,\n",
       " 18744,\n",
       " 18751,\n",
       " 18776,\n",
       " 18782,\n",
       " 18792,\n",
       " 18808,\n",
       " 18817,\n",
       " 18845,\n",
       " 18849,\n",
       " 18858,\n",
       " 18872,\n",
       " 18875,\n",
       " 18908,\n",
       " 18914,\n",
       " 18922,\n",
       " 18930,\n",
       " 18941,\n",
       " 18942,\n",
       " 18946,\n",
       " 18958,\n",
       " 18963,\n",
       " 18971,\n",
       " 18977,\n",
       " 18978,\n",
       " 18980,\n",
       " 18986,\n",
       " 18987,\n",
       " 18988,\n",
       " 18992,\n",
       " 18993,\n",
       " 18995,\n",
       " 19008,\n",
       " 19012,\n",
       " 19022,\n",
       " 19026,\n",
       " 19038,\n",
       " 19046,\n",
       " 19052,\n",
       " 19068,\n",
       " 19070,\n",
       " 19071,\n",
       " 19092,\n",
       " 19095,\n",
       " 19101,\n",
       " 19103,\n",
       " 19109,\n",
       " 19110,\n",
       " 19133,\n",
       " 19138,\n",
       " 19139,\n",
       " 19170,\n",
       " 19181,\n",
       " 19184,\n",
       " 19206,\n",
       " 19212,\n",
       " 19223,\n",
       " 19230,\n",
       " 19231,\n",
       " 19233,\n",
       " 19243,\n",
       " 19248,\n",
       " 19259,\n",
       " 19260,\n",
       " 19266,\n",
       " 19286,\n",
       " 19302,\n",
       " 19305,\n",
       " 19307,\n",
       " 19311,\n",
       " 19317,\n",
       " 19321,\n",
       " 19324,\n",
       " 19329,\n",
       " 19348,\n",
       " 19349,\n",
       " 19367,\n",
       " 19369,\n",
       " 19370,\n",
       " 19373,\n",
       " 19376,\n",
       " 19380,\n",
       " 19388,\n",
       " 19396,\n",
       " 19398,\n",
       " 19408,\n",
       " 19436,\n",
       " 19440,\n",
       " 19447,\n",
       " 19450,\n",
       " 19467,\n",
       " 19480,\n",
       " 19522,\n",
       " 19562,\n",
       " 19568,\n",
       " 19569,\n",
       " 19582,\n",
       " 19586,\n",
       " 19587,\n",
       " 19589,\n",
       " 19601,\n",
       " 19614,\n",
       " 19618,\n",
       " 19625,\n",
       " 19629,\n",
       " 19635,\n",
       " 19640,\n",
       " 19650,\n",
       " 19657,\n",
       " 19662,\n",
       " 19670,\n",
       " 19677,\n",
       " 19689,\n",
       " 19709,\n",
       " 19711,\n",
       " 19716,\n",
       " 19718,\n",
       " 19720,\n",
       " 19736,\n",
       " 19738,\n",
       " 19750,\n",
       " 19753,\n",
       " 19762,\n",
       " 19779,\n",
       " 19791,\n",
       " 19796,\n",
       " 19805,\n",
       " 19808,\n",
       " 19809,\n",
       " 19811,\n",
       " 19836,\n",
       " 19840,\n",
       " 19845,\n",
       " 19854,\n",
       " 19868,\n",
       " 19877,\n",
       " 19878,\n",
       " 19880,\n",
       " 19903,\n",
       " 19905,\n",
       " 19935,\n",
       " 19942,\n",
       " 19950,\n",
       " 19955,\n",
       " 19962,\n",
       " 20010,\n",
       " 20049,\n",
       " 20057,\n",
       " 20095,\n",
       " 20106,\n",
       " 20110,\n",
       " 20140,\n",
       " 20147,\n",
       " 20156,\n",
       " 20193,\n",
       " 20196,\n",
       " 20200,\n",
       " 20201,\n",
       " 20204,\n",
       " 20209,\n",
       " 20216,\n",
       " 20234,\n",
       " 20254,\n",
       " 20261,\n",
       " 20276,\n",
       " 20277,\n",
       " 20281,\n",
       " 20296,\n",
       " 20310,\n",
       " 20315,\n",
       " 20316,\n",
       " 20317,\n",
       " 20324,\n",
       " 20330,\n",
       " 20334,\n",
       " 20336,\n",
       " 20338,\n",
       " 20340,\n",
       " 20341,\n",
       " 20350,\n",
       " 20364,\n",
       " 20412,\n",
       " 20435,\n",
       " 20457,\n",
       " 20476,\n",
       " 20477,\n",
       " 20486,\n",
       " 20488,\n",
       " 20489,\n",
       " 20492,\n",
       " 20497,\n",
       " 20504,\n",
       " 20506,\n",
       " 20534,\n",
       " 20551,\n",
       " 20557,\n",
       " 20573,\n",
       " 20576,\n",
       " 20588,\n",
       " 20597,\n",
       " 20598,\n",
       " 20599,\n",
       " 20622,\n",
       " 20626,\n",
       " 20636,\n",
       " 20666,\n",
       " 20667,\n",
       " 20673,\n",
       " 20676,\n",
       " 20695,\n",
       " 20712,\n",
       " 20729,\n",
       " 20743,\n",
       " 20753,\n",
       " 20756,\n",
       " 20761,\n",
       " 20768,\n",
       " 20779,\n",
       " 20782,\n",
       " 20818,\n",
       " 20819,\n",
       " 20828,\n",
       " 20833,\n",
       " 20852,\n",
       " 20855,\n",
       " 20876,\n",
       " 20899,\n",
       " 20914,\n",
       " 20923,\n",
       " 20937,\n",
       " 20961,\n",
       " 20969,\n",
       " 20988,\n",
       " 21010,\n",
       " 21011,\n",
       " 21035,\n",
       " 21037,\n",
       " 21051,\n",
       " 21057,\n",
       " 21063,\n",
       " 21066,\n",
       " 21070,\n",
       " 21081,\n",
       " 21098,\n",
       " 21103,\n",
       " 21115,\n",
       " 21129,\n",
       " 21132,\n",
       " 21155,\n",
       " 21161,\n",
       " 21188,\n",
       " 21191,\n",
       " 21198,\n",
       " 21210,\n",
       " 21219,\n",
       " 21224,\n",
       " 21255,\n",
       " 21270,\n",
       " 21283,\n",
       " 21296,\n",
       " 21313,\n",
       " 21319,\n",
       " 21324,\n",
       " 21333,\n",
       " 21344,\n",
       " 21348,\n",
       " 21357,\n",
       " 21369,\n",
       " 21375,\n",
       " 21384,\n",
       " 21408,\n",
       " 21413,\n",
       " 21417,\n",
       " 21420,\n",
       " 21423,\n",
       " 21480,\n",
       " 21483,\n",
       " 21507,\n",
       " 21532,\n",
       " 21541,\n",
       " 21548,\n",
       " 21559,\n",
       " 21562,\n",
       " 21574,\n",
       " 21582,\n",
       " 21585,\n",
       " 21593,\n",
       " 21599,\n",
       " 21602,\n",
       " 21609,\n",
       " 21611,\n",
       " 21614,\n",
       " 21640,\n",
       " 21645,\n",
       " 21651,\n",
       " 21658,\n",
       " 21670,\n",
       " 21672,\n",
       " 21679,\n",
       " 21719,\n",
       " 21733,\n",
       " 21740,\n",
       " 21741,\n",
       " 21742,\n",
       " 21750,\n",
       " 21753,\n",
       " 21762,\n",
       " 21775,\n",
       " 21799,\n",
       " 21801,\n",
       " 21814,\n",
       " 21816,\n",
       " 21821,\n",
       " 21824,\n",
       " 21830,\n",
       " 21871,\n",
       " 21874,\n",
       " 21876,\n",
       " 21880,\n",
       " 21909,\n",
       " 21915,\n",
       " 21925,\n",
       " 21930,\n",
       " 21931,\n",
       " 21934,\n",
       " 21937,\n",
       " 21967,\n",
       " 21984,\n",
       " 21985,\n",
       " 21999,\n",
       " 22000,\n",
       " 22019,\n",
       " 22028,\n",
       " 22029,\n",
       " 22034,\n",
       " 22039,\n",
       " 22046,\n",
       " 22050,\n",
       " 22058,\n",
       " 22065,\n",
       " 22068,\n",
       " 22084,\n",
       " 22094,\n",
       " 22099,\n",
       " 22101,\n",
       " 22103,\n",
       " 22126,\n",
       " 22128,\n",
       " 22137,\n",
       " 22167,\n",
       " 22171,\n",
       " 22194,\n",
       " 22196,\n",
       " 22206,\n",
       " 22216,\n",
       " 22222,\n",
       " 22223,\n",
       " 22247,\n",
       " 22248,\n",
       " 22249,\n",
       " 22269,\n",
       " 22270,\n",
       " 22291,\n",
       " 22299,\n",
       " 22302,\n",
       " 22305,\n",
       " 22307,\n",
       " 22315,\n",
       " 22321,\n",
       " 22337,\n",
       " 22353,\n",
       " 22359,\n",
       " 22381,\n",
       " 22383,\n",
       " 22384,\n",
       " 22389,\n",
       " 22401,\n",
       " 22423,\n",
       " 22438,\n",
       " 22448,\n",
       " 22462,\n",
       " 22472,\n",
       " 22474,\n",
       " 22483,\n",
       " 22490,\n",
       " 22491,\n",
       " 22496,\n",
       " 22500,\n",
       " 22506,\n",
       " 22540,\n",
       " 22567,\n",
       " 22581,\n",
       " 22595,\n",
       " 22596,\n",
       " 22605,\n",
       " 22614,\n",
       " 22637,\n",
       " 22700,\n",
       " 22708,\n",
       " 22720,\n",
       " 22731,\n",
       " 22734,\n",
       " 22747,\n",
       " 22749,\n",
       " 22756,\n",
       " 22763,\n",
       " 22765,\n",
       " 22790,\n",
       " 22794,\n",
       " 22797,\n",
       " 22799,\n",
       " 22811,\n",
       " 22829,\n",
       " 22862,\n",
       " 22869,\n",
       " 22889,\n",
       " 22892,\n",
       " 22902,\n",
       " 22923,\n",
       " 22932,\n",
       " 22943,\n",
       " 22948,\n",
       " 22987,\n",
       " 22993,\n",
       " 22994,\n",
       " 23004,\n",
       " 23010]"
      ]
     },
     "execution_count": 77,
     "metadata": {
      "tags": []
     },
     "output_type": "execute_result"
    }
   ],
   "source": [
    "subreddit2range2['bipolar']"
   ]
  },
  {
   "cell_type": "code",
   "execution_count": null,
   "metadata": {
    "id": "dYIZVq_dH8JG"
   },
   "outputs": [],
   "source": [
    "# tmp_df['model'] = model_yhat\n",
    "# tmp_df['xgboost'] = xgb_model_l1.predict(X_test)\n",
    "# tmp_df['xgb-mse'] = xgb_model_mse.predict(X_test)\n",
    "\n",
    "\n",
    "df_list = []\n",
    "for subreddit in ['all']+SUBREDDITS:\n",
    "  criteria=[WeightedL1Loss(subreddit2weights[subreddit],BIN_WIDTH,MIN_VALUE)]\n",
    "  #criteria=[nn.L1Loss(),nn.MSELoss()]\n",
    "  criteria_names = [criterion.__class__.__name__.split('.')[-1] for criterion in criteria]\n",
    "\n",
    "  test_loss = dict()\n",
    "  for pred_column_name in pred_column_names:\n",
    "    test_loss[pred_column_name] = compute_error(tmp_df.loc[subreddit2range2[subreddit]], pred_column_name, criteria, device)\n",
    "\n",
    "  df = pd.DataFrame.from_dict(test_loss,orient='index')\n",
    "  df.columns = df.columns.map(loss2title)\n",
    "  df.index = df.index.map(str.upper)\n",
    "  df_list.append(df)\n",
    "\n",
    "test_df = pd.concat(df_list,keys=['ALL']+[subreddit2title[subreddit.lower()] for subreddit in SUBREDDITS],axis=1)\n",
    "test_df = test_df.swaplevel(0,1,axis=1).sort_index(1)\n",
    "n=len(SUBREDDITS)+1\n",
    "test_df = test_df.round(3)\n",
    "test_df = test_df.loc[['UNCHANGED','MEAN','LAST','MODEL'],:]\n",
    "test_df"
   ]
  },
  {
   "cell_type": "code",
   "execution_count": null,
   "metadata": {
    "colab": {
     "base_uri": "https://localhost:8080/"
    },
    "executionInfo": {
     "elapsed": 724,
     "status": "ok",
     "timestamp": 1617651565145,
     "user": {
      "displayName": "Henrique Silva",
      "photoUrl": "https://lh3.googleusercontent.com/a-/AOh14Gh0sTZzx8mKsKV9-j3HdK09d6njRJoJnyBA8jbau1I=s64",
      "userId": "15429421149160718308"
     },
     "user_tz": 180
    },
    "id": "oZTROBs2u-33",
    "outputId": "43a41e86-1867-491d-9257-e9ad240f51f0"
   },
   "outputs": [
    {
     "data": {
      "text/plain": [
       "[<function __main__.<lambda>>, <function __main__.<lambda>>]"
      ]
     },
     "execution_count": 39,
     "metadata": {
      "tags": []
     },
     "output_type": "execute_result"
    }
   ],
   "source": [
    "formatters = []\n",
    "for column in test_df.columns:\n",
    "  formatters.append(lambda x, column=column: '\\\\textbf{%s}'%( ('%.3f' % float(x)).lstrip('0') ) if float(x) == test_df[column].min() else ('%.3f'% float(x)).lstrip('0') )\n",
    "formatters"
   ]
  },
  {
   "cell_type": "code",
   "execution_count": null,
   "metadata": {
    "colab": {
     "base_uri": "https://localhost:8080/"
    },
    "executionInfo": {
     "elapsed": 442,
     "status": "ok",
     "timestamp": 1617651565989,
     "user": {
      "displayName": "Henrique Silva",
      "photoUrl": "https://lh3.googleusercontent.com/a-/AOh14Gh0sTZzx8mKsKV9-j3HdK09d6njRJoJnyBA8jbau1I=s64",
      "userId": "15429421149160718308"
     },
     "user_tz": 180
    },
    "id": "CaFLHseZqJPo",
    "outputId": "a3e28912-6f4a-4f7c-edd2-2a3875c71fd2"
   },
   "outputs": [
    {
     "name": "stdout",
     "output_type": "stream",
     "text": [
      "\\begin{table}\n",
      "\\centering\n",
      "\\caption{Results w.r.t.\\ L1, MSE and proposed Weighted L1 Loss, which gives more weight to more extreme responses. Model is trained on entire 2017 dataset whereas \\textsc{Model-Subreddit} is trained on target subreddit (column). \\textsc{Mean} yields lowest L1 and MSE, but Model outperforms baselines w.r.t.\\ Weighted L1 loss.}\n",
      "\\label{tab:test_loss}\n",
      "\\begin{tabular}{l|ccccc|ccccc|ccccc}\n",
      "\\toprule\n",
      "{} & \\multicolumn{2}{c}{Weighted L1 Loss} \\\\\n",
      "{} &              ALL &           WTT \\\\\n",
      "\\midrule\n",
      "UNCHANGED &             .974 &          .974 \\\\\n",
      "MEAN      &             .956 &          .956 \\\\\n",
      "LAST      &    \\textbf{.877} & \\textbf{.877} \\\\\n",
      "MODEL     &            1.013 &         1.013 \\\\\n",
      "\\bottomrule\n",
      "\\end{tabular}\n",
      "\\end{table}\n",
      "\n"
     ]
    }
   ],
   "source": [
    "print(test_df.to_latex(\n",
    "    escape=False,column_format='l|ccccc|ccccc|ccccc',multicolumn_format='c',\n",
    "    label='tab:test_loss', formatters=formatters,\n",
    "    caption='Results w.r.t.\\\\ L1, MSE and proposed Weighted L1 Loss, which gives more weight to more extreme responses. '+\n",
    "    'Model is trained on entire 2017 dataset whereas \\\\textsc{Model-Subreddit} is trained on target subreddit (column). '+\n",
    "    '\\\\textsc{Mean} yields lowest L1 and MSE, but Model outperforms baselines w.r.t.\\\\ Weighted L1 loss.'\n",
    "    ))"
   ]
  },
  {
   "cell_type": "code",
   "execution_count": null,
   "metadata": {
    "colab": {
     "base_uri": "https://localhost:8080/",
     "height": 227
    },
    "executionInfo": {
     "elapsed": 1251,
     "status": "ok",
     "timestamp": 1616437162358,
     "user": {
      "displayName": "Henrique Silva",
      "photoUrl": "https://lh3.googleusercontent.com/a-/AOh14Gh0sTZzx8mKsKV9-j3HdK09d6njRJoJnyBA8jbau1I=s64",
      "userId": "15429421149160718308"
     },
     "user_tz": 180
    },
    "id": "rckqwFtlu0-y",
    "outputId": "6ed75af2-7613-418d-d0d7-3d3eb455568c"
   },
   "outputs": [
    {
     "data": {
      "image/png": "[encoded data removed]",
      "text/plain": [
       "<Figure size 1080x216 with 5 Axes>"
      ]
     },
     "metadata": {
      "tags": []
     },
     "output_type": "display_data"
    }
   ],
   "source": [
    "pred_column_names2 = ['final score']+pred_column_names\n",
    "fig, axs = plt.subplots(1,len(pred_column_names2), figsize=(3*len(pred_column_names2),3))\n",
    "for ax, column_name in zip(axs,pred_column_names2):\n",
    "  ax = tmp_df[column_name].hist(ax=ax,bins=np.arange(-1.0,1.0,.1))\n",
    "  ax.set_xlim(-1,1)\n",
    "  ax.set_ylim(0,700)\n",
    "  ax.set_title(column_name)"
   ]
  },
  {
   "cell_type": "code",
   "execution_count": null,
   "metadata": {
    "id": "HKPCcJvilWpV"
   },
   "outputs": [],
   "source": [
    "# pred_column_names = ['unchanged', 'mean','last','model']\n",
    "\n",
    "# for subreddit in SUBREDDITS:\n",
    "#   print(subreddit)\n",
    "\n",
    "#   criteria=[nn.L1Loss(),nn.MSELoss(),WeightedL1Loss(subreddit2weights[subreddit],,BIN_WIDTH)]\n",
    "#   criteria_names = [criterion.__class__.__name__.split('.')[-1] for criterion in criteria]\n",
    "\n",
    "#   test_loss = dict()\n",
    "#   for pred_column_name in pred_column_names:\n",
    "#     test_loss[pred_column_name] = compute_error(tmp_df.loc[subreddit2range[subreddit]], pred_column_name, criteria, device)\n",
    "#   test_df = pd.DataFrame.from_dict(test_loss, orient='index').round(3)\n",
    "  \n",
    "#   print(test_df)"
   ]
  },
  {
   "cell_type": "code",
   "execution_count": null,
   "metadata": {
    "id": "D_XylWCLbqBJ"
   },
   "outputs": [],
   "source": [
    "# prob=bin_weights[np.floor(tmp_df['final score'].values/BIN_WIDTH).astype(int)].numpy()\n",
    "# prob=prob/prob.sum()"
   ]
  },
  {
   "cell_type": "code",
   "execution_count": null,
   "metadata": {
    "id": "ttSvUVz3fSXu"
   },
   "outputs": [],
   "source": [
    "# nz = np.nonzero((tmp_df['thread ncom']<64).values)\n",
    "# nz[0].shape"
   ]
  },
  {
   "cell_type": "markdown",
   "metadata": {
    "id": "EZ0qQnrfIN4V"
   },
   "source": [
    "# **5**. Plotting the results"
   ]
  },
  {
   "cell_type": "code",
   "execution_count": null,
   "metadata": {
    "id": "59ZyHgIm6V3b"
   },
   "outputs": [],
   "source": [
    "# remove \"initial score\" baseline\n",
    "# from mpl_toolkits.axes_grid1 import make_axes_locatable # TODO: REMOVE ALL COMMENTED CODE?\n",
    "\n",
    "# TODO: add doc to function\n",
    "def plot_prediction_density(tmp_df, pred_column_names, subreddit=None, axs=None, choice_inds=None, cmap=plt.cm.gist_earth_r, vmax=None):\n",
    "  if subreddit is not None:\n",
    "    tmp_df = tmp_df.loc[subreddit2range[subreddit]]\n",
    "\n",
    "  xmin = ymin = -1.\n",
    "  xmax = ymax =  1.\n",
    "\n",
    "  # deltaX = (max(x) - min(x))/10\n",
    "  # deltaY = (max(y) - min(y))/10\n",
    "  # xmin = min(x) - deltaX\n",
    "  # xmax = max(x) + deltaX\n",
    "  # ymin = min(y) - deltaY\n",
    "  # ymax = max(y) + deltaY\n",
    "  # xx, yy = np.mgrid[xmin:xmax:50j, ymin:ymax:50j]\n",
    "\n",
    "  xx, yy = np.mgrid[xmin:xmax:50j, ymin:ymax:50j]\n",
    "  positions = np.vstack([xx.ravel(), yy.ravel()])\n",
    "  reset_seeds()\n",
    "\n",
    "  if choice_inds is None:\n",
    "    choice_inds = np.random.choice(len(tmp_df), 100)\n",
    "  print(tmp_df.iloc[choice_inds]['thread ncom'].max())\n",
    "  # choice_inds = np.random.choice(nz[0], 100)\n",
    "\n",
    "  if axs is None:\n",
    "   fig, axs = plt.subplots(2,2,figsize=(3*2,3*2),sharex=True,sharey=True)\n",
    "   plt.subplots_adjust(wspace=.15,hspace=.15)\n",
    "\n",
    "  for idx, (ax, column_name) in enumerate(zip(axs.ravel(),pred_column_names)):\n",
    "    loss_array = tmp_df[['final score', column_name]].values\n",
    "    kernel = stats.gaussian_kde(loss_array.T)\n",
    "    Z = np.reshape(kernel(positions).T, xx.shape)\n",
    "    # print(subreddit,idx,Z.min(),Z.max())\n",
    "\n",
    "    if vmax is not None:\n",
    "      levels = np.linspace(vmax/8.,vmax,8)\n",
    "      # levels = np.insert(np.linspace(vmax*2/7.,vmax,7),0,0)\n",
    "      vmin=vmax/8.\n",
    "    else:\n",
    "      levels = 8\n",
    "      vmin=None\n",
    "\n",
    "    ax.plot([xmin, xmax], [ymin, ymax], ls='-', c='k',alpha=.5)#,transform=ax.transAxes)\n",
    "\n",
    "    # cfset = ax.contourf(xx, yy, Z, cmap=cmap, levels=levels)\n",
    "    hb = ax.imshow(np.rot90(Z), cmap=cmap, aspect='auto',\n",
    "              extent=[xmin, xmax, ymin, ymax], vmin=0,vmax=vmax)\n",
    "    # cset = ax.contour(xx, yy, Z, colors='k', linewidths=.25, levels=levels)\n",
    "    # plt.colorbar(hb, ax=ax)\n",
    "    # ax.clabel(cset, inline=1, fontsize=8)\n",
    "\n",
    "\n",
    "    ncom = tmp_df['branch ncom'].values if column_name.startswith('branch') else tmp_df['thread ncom'].values\n",
    "    ax.scatter(loss_array[choice_inds,0], loss_array[choice_inds,1], 2*ncom[choice_inds], 'gray', edgecolor='k')\n",
    "\n",
    "    ax.set_xlim([xmin, xmax])\n",
    "    ax.set_ylim([ymin, ymax])\n",
    "    # ax.yaxis.tick_right()\n",
    "    # ax.set_xticks(np.arange(-1.,1.,.5))\n",
    "    ax.set_yticks(np.arange(-1.,1.01,.5))\n",
    "    ax.grid(ls='--', c='gray', alpha=.5)\n",
    "\n",
    "    # ax.axhline((ymin+ymax)/2,color='k',alpha=.5)\n",
    "    # ax.axvline((xmin+xmax)/2,color='k',alpha=.5)\n",
    "    # x = np.array([xmin,xmax])\n",
    "    # ax.plot(x, 1.5*x, ls='--', c='k',alpha=.5)\n",
    "    # ax.plot(x, 0.5*x, ls='--', c='k',alpha=.5)\n",
    "    # ax.set_title(column_name)\n",
    "\n",
    "\n",
    "  # divider = make_axes_locatable(plt.gca())\n",
    "  # cax = divider.append_axes(\"right\", size=\"2%\", pad=0.00)\n",
    "  # cbar = fig.colorbar(hb, cax=cax)\n",
    "\n",
    "  # fig.text(0.5, 0.04, r'EmT($c_n$) (true value)', ha='center')\n",
    "  # fig.text(0.04, 0.5, 'prediction', va='center', rotation='vertical')\n",
    "\n",
    "  # plt.savefig(RESULTSDIR+subreddit+'.pdf')\n",
    "  return hb"
   ]
  },
  {
   "cell_type": "code",
   "execution_count": null,
   "metadata": {
    "colab": {
     "base_uri": "https://localhost:8080/",
     "height": 419
    },
    "executionInfo": {
     "elapsed": 572,
     "status": "ok",
     "timestamp": 1617888819847,
     "user": {
      "displayName": "Henrique Silva",
      "photoUrl": "https://lh3.googleusercontent.com/a-/AOh14Gh0sTZzx8mKsKV9-j3HdK09d6njRJoJnyBA8jbau1I=s64",
      "userId": "15429421149160718308"
     },
     "user_tz": 180
    },
    "id": "kRcgfl2tMXDn",
    "outputId": "36990659-c61e-4719-abec-6fd149cfe304"
   },
   "outputs": [
    {
     "data": {
      "text/html": [
       "<div>\n",
       "<style scoped>\n",
       "    .dataframe tbody tr th:only-of-type {\n",
       "        vertical-align: middle;\n",
       "    }\n",
       "\n",
       "    .dataframe tbody tr th {\n",
       "        vertical-align: top;\n",
       "    }\n",
       "\n",
       "    .dataframe thead th {\n",
       "        text-align: right;\n",
       "    }\n",
       "</style>\n",
       "<table border=\"1\" class=\"dataframe\">\n",
       "  <thead>\n",
       "    <tr style=\"text-align: right;\">\n",
       "      <th></th>\n",
       "      <th>unchanged</th>\n",
       "      <th>final score</th>\n",
       "      <th>thread ncom</th>\n",
       "      <th>mean</th>\n",
       "      <th>last</th>\n",
       "      <th>model</th>\n",
       "      <th>xgb-mse</th>\n",
       "      <th>xgb</th>\n",
       "    </tr>\n",
       "  </thead>\n",
       "  <tbody>\n",
       "    <tr>\n",
       "      <th>10</th>\n",
       "      <td>-0.130042</td>\n",
       "      <td>-0.467600</td>\n",
       "      <td>2</td>\n",
       "      <td>0.090412</td>\n",
       "      <td>0.154450</td>\n",
       "      <td>0.341191</td>\n",
       "      <td>0.177147</td>\n",
       "      <td>0.177147</td>\n",
       "    </tr>\n",
       "    <tr>\n",
       "      <th>17</th>\n",
       "      <td>0.523211</td>\n",
       "      <td>0.072975</td>\n",
       "      <td>5</td>\n",
       "      <td>0.504602</td>\n",
       "      <td>0.137519</td>\n",
       "      <td>0.533828</td>\n",
       "      <td>0.526253</td>\n",
       "      <td>0.526253</td>\n",
       "    </tr>\n",
       "    <tr>\n",
       "      <th>20</th>\n",
       "      <td>0.058143</td>\n",
       "      <td>-0.100950</td>\n",
       "      <td>3</td>\n",
       "      <td>0.193499</td>\n",
       "      <td>0.130650</td>\n",
       "      <td>0.427484</td>\n",
       "      <td>0.381440</td>\n",
       "      <td>0.381440</td>\n",
       "    </tr>\n",
       "    <tr>\n",
       "      <th>34</th>\n",
       "      <td>-0.126900</td>\n",
       "      <td>0.036950</td>\n",
       "      <td>5</td>\n",
       "      <td>0.013639</td>\n",
       "      <td>0.036950</td>\n",
       "      <td>0.241738</td>\n",
       "      <td>-0.100567</td>\n",
       "      <td>-0.100567</td>\n",
       "    </tr>\n",
       "    <tr>\n",
       "      <th>46</th>\n",
       "      <td>-0.142029</td>\n",
       "      <td>-0.274950</td>\n",
       "      <td>4</td>\n",
       "      <td>0.107043</td>\n",
       "      <td>-0.136600</td>\n",
       "      <td>0.383980</td>\n",
       "      <td>0.390274</td>\n",
       "      <td>0.390274</td>\n",
       "    </tr>\n",
       "    <tr>\n",
       "      <th>...</th>\n",
       "      <td>...</td>\n",
       "      <td>...</td>\n",
       "      <td>...</td>\n",
       "      <td>...</td>\n",
       "      <td>...</td>\n",
       "      <td>...</td>\n",
       "      <td>...</td>\n",
       "      <td>...</td>\n",
       "    </tr>\n",
       "    <tr>\n",
       "      <th>63083</th>\n",
       "      <td>0.088600</td>\n",
       "      <td>-0.076933</td>\n",
       "      <td>6</td>\n",
       "      <td>0.078371</td>\n",
       "      <td>-0.294600</td>\n",
       "      <td>-0.222280</td>\n",
       "      <td>-0.129750</td>\n",
       "      <td>-0.129750</td>\n",
       "    </tr>\n",
       "    <tr>\n",
       "      <th>63093</th>\n",
       "      <td>0.154550</td>\n",
       "      <td>0.000000</td>\n",
       "      <td>8</td>\n",
       "      <td>0.041031</td>\n",
       "      <td>-0.002800</td>\n",
       "      <td>-0.477948</td>\n",
       "      <td>-0.540553</td>\n",
       "      <td>-0.540553</td>\n",
       "    </tr>\n",
       "    <tr>\n",
       "      <th>63099</th>\n",
       "      <td>-0.190156</td>\n",
       "      <td>0.560600</td>\n",
       "      <td>3</td>\n",
       "      <td>0.374593</td>\n",
       "      <td>0.185833</td>\n",
       "      <td>-0.041443</td>\n",
       "      <td>0.199567</td>\n",
       "      <td>0.199567</td>\n",
       "    </tr>\n",
       "    <tr>\n",
       "      <th>63102</th>\n",
       "      <td>-0.275480</td>\n",
       "      <td>-0.284600</td>\n",
       "      <td>5</td>\n",
       "      <td>0.211514</td>\n",
       "      <td>0.202300</td>\n",
       "      <td>-0.512492</td>\n",
       "      <td>0.055188</td>\n",
       "      <td>0.055188</td>\n",
       "    </tr>\n",
       "    <tr>\n",
       "      <th>63104</th>\n",
       "      <td>-0.947600</td>\n",
       "      <td>-0.083638</td>\n",
       "      <td>16</td>\n",
       "      <td>-0.366783</td>\n",
       "      <td>-0.251340</td>\n",
       "      <td>0.050531</td>\n",
       "      <td>-0.542484</td>\n",
       "      <td>-0.542484</td>\n",
       "    </tr>\n",
       "  </tbody>\n",
       "</table>\n",
       "<p>6311 rows × 8 columns</p>\n",
       "</div>"
      ],
      "text/plain": [
       "       unchanged  final score  thread ncom  ...     model   xgb-mse       xgb\n",
       "10     -0.130042    -0.467600            2  ...  0.341191  0.177147  0.177147\n",
       "17      0.523211     0.072975            5  ...  0.533828  0.526253  0.526253\n",
       "20      0.058143    -0.100950            3  ...  0.427484  0.381440  0.381440\n",
       "34     -0.126900     0.036950            5  ...  0.241738 -0.100567 -0.100567\n",
       "46     -0.142029    -0.274950            4  ...  0.383980  0.390274  0.390274\n",
       "...          ...          ...          ...  ...       ...       ...       ...\n",
       "63083   0.088600    -0.076933            6  ... -0.222280 -0.129750 -0.129750\n",
       "63093   0.154550     0.000000            8  ... -0.477948 -0.540553 -0.540553\n",
       "63099  -0.190156     0.560600            3  ... -0.041443  0.199567  0.199567\n",
       "63102  -0.275480    -0.284600            5  ... -0.512492  0.055188  0.055188\n",
       "63104  -0.947600    -0.083638           16  ...  0.050531 -0.542484 -0.542484\n",
       "\n",
       "[6311 rows x 8 columns]"
      ]
     },
     "execution_count": 40,
     "metadata": {
      "tags": []
     },
     "output_type": "execute_result"
    }
   ],
   "source": [
    "tmp_df"
   ]
  },
  {
   "cell_type": "code",
   "execution_count": null,
   "metadata": {
    "id": "IAgX-KIBNCBx"
   },
   "outputs": [],
   "source": [
    "pred_column_names = ['mean', 'xgb']"
   ]
  },
  {
   "cell_type": "code",
   "execution_count": null,
   "metadata": {
    "colab": {
     "base_uri": "https://localhost:8080/",
     "height": 862
    },
    "executionInfo": {
     "elapsed": 4455,
     "status": "ok",
     "timestamp": 1617889040733,
     "user": {
      "displayName": "Henrique Silva",
      "photoUrl": "https://lh3.googleusercontent.com/a-/AOh14Gh0sTZzx8mKsKV9-j3HdK09d6njRJoJnyBA8jbau1I=s64",
      "userId": "15429421149160718308"
     },
     "user_tz": 180
    },
    "id": "8aFVmlL-b-cq",
    "outputId": "57bad078-aa88-4785-f580-1615e1630c2e"
   },
   "outputs": [
    {
     "name": "stdout",
     "output_type": "stream",
     "text": [
      "34\n",
      "64\n",
      "46\n",
      "58\n"
     ]
    },
    {
     "data": {
      "image/png": "[encoded data removed]",
      "text/plain": [
       "<Figure size 432x864 with 9 Axes>"
      ]
     },
     "metadata": {
      "tags": []
     },
     "output_type": "display_data"
    }
   ],
   "source": [
    "# plot density\n",
    "vmax_list = [2, 3.2, 2., 2.]\n",
    "vmax_list = [2.4, 2.4, 2.4, 2.4]\n",
    "\n",
    "choice_inds = None\n",
    "\n",
    "fig, axs = plt.subplots(4,4,figsize=(3*4,3*4),sharex=True,sharey=True)\n",
    "plt.subplots_adjust(wspace=.1,hspace=.1)\n",
    "\n",
    "for ix, subreddit in enumerate(SUBREDDITS):\n",
    "  hb = plot_prediction_density(tmp_df, pred_column_names[1:], subreddit, axs[ix,:], choice_inds=choice_inds, vmax=vmax_list[ix])\n",
    "\n",
    "fig.text(0.5 , 0.08, r'EmT($c_n$) (true value)', ha='center', fontsize='x-large')\n",
    "fig.text(0.0, 0.5 , 'prediction', va='center', rotation='vertical', fontsize='x-large')\n",
    "\n",
    "cbaxes = fig.add_axes([0.2, 0.93, .6, 0.01])\n",
    "\n",
    "for ax, col in zip(axs[0], pred_column_names[1:]):\n",
    "  ax.set_title(col.upper(), size='large')\n",
    "\n",
    "for ax, row in zip(axs[:,0], SUBREDDITS):\n",
    "  # ax.yaxis.set_label_position(\"right\")\n",
    "  ax.set_ylabel(subreddit2title[row.lower()], rotation=0, size='large', horizontalalignment='right')\n",
    "\n",
    "cb = plt.colorbar(hb, cax = cbaxes, orientation='horizontal')\n",
    "cb.ax.set_title('density', size='large')\n",
    "plt.savefig('heatmaps.pdf')\n",
    "\n",
    "# fig.colorbar(hb, ax=axs,location='bottom', shrink=.5)\n",
    "# plt.tight_layout()\n",
    "\n",
    "# divider = make_axes_locatable(plt.gca())\n",
    "# cax = divider.append_axes(\"right\", size=\"2%\", pad=0.00)\n",
    "# cbar = fig.colorbar(hb, cax=cax)\n"
   ]
  },
  {
   "cell_type": "markdown",
   "metadata": {
    "id": "DTiiIhnY3ZlH"
   },
   "source": [
    "# **6**. Case Study"
   ]
  },
  {
   "cell_type": "code",
   "execution_count": null,
   "metadata": {
    "id": "ToQJkqGNiTAQ"
   },
   "outputs": [],
   "source": [
    "# TODO: explain what we are reading\n",
    "REDDIT='SuicideWatch'\n",
    "suffix = '.p'\n",
    "with open(DATADIR+REDDIT+'_post2data'+suffix,'rb') as infile:\n",
    "  post2data = pickle.load(infile)\n",
    "\n",
    "with open(DATADIR+REDDIT+'_comment2data'+suffix,'rb') as infile:\n",
    "  comment2data = pickle.load(infile)"
   ]
  },
  {
   "cell_type": "code",
   "execution_count": null,
   "metadata": {
    "colab": {
     "base_uri": "https://localhost:8080/",
     "height": 80
    },
    "id": "k7zqUhb4y02d",
    "outputId": "cb5f0cea-bbef-4e02-8d4d-0294e52ce606"
   },
   "outputs": [
    {
     "data": {
      "text/html": [
       "<div>\n",
       "<style scoped>\n",
       "    .dataframe tbody tr th:only-of-type {\n",
       "        vertical-align: middle;\n",
       "    }\n",
       "\n",
       "    .dataframe tbody tr th {\n",
       "        vertical-align: top;\n",
       "    }\n",
       "\n",
       "    .dataframe thead th {\n",
       "        text-align: right;\n",
       "    }\n",
       "</style>\n",
       "<table border=\"1\" class=\"dataframe\">\n",
       "  <thead>\n",
       "    <tr style=\"text-align: right;\">\n",
       "      <th></th>\n",
       "      <th>unchanged</th>\n",
       "      <th>final score</th>\n",
       "      <th>thread ncom</th>\n",
       "      <th>mean</th>\n",
       "      <th>last</th>\n",
       "      <th>model</th>\n",
       "      <th>xgb-mse</th>\n",
       "    </tr>\n",
       "  </thead>\n",
       "  <tbody>\n",
       "    <tr>\n",
       "      <th>58762</th>\n",
       "      <td>-0.8004</td>\n",
       "      <td>0.875</td>\n",
       "      <td>7</td>\n",
       "      <td>-0.252438</td>\n",
       "      <td>-0.1761</td>\n",
       "      <td>-0.924048</td>\n",
       "      <td>0.020039</td>\n",
       "    </tr>\n",
       "  </tbody>\n",
       "</table>\n",
       "</div>"
      ],
      "text/plain": [
       "       unchanged  final score  thread ncom  ...    last     model   xgb-mse\n",
       "58762    -0.8004        0.875            7  ... -0.1761 -0.924048  0.020039\n",
       "\n",
       "[1 rows x 7 columns]"
      ]
     },
     "execution_count": 35,
     "metadata": {
      "tags": []
     },
     "output_type": "execute_result"
    }
   ],
   "source": [
    "# 58762\n",
    "z = tmp_df.loc[subreddit2range2['SuicideWatch']]\n",
    "z[(z['final score'] > 0.75) & (z['model'] < -0.75)].sort_values('final score',ascending=True).head(20)"
   ]
  },
  {
   "cell_type": "code",
   "execution_count": null,
   "metadata": {
    "colab": {
     "base_uri": "https://localhost:8080/",
     "height": 390
    },
    "id": "Nwn1vtGDpRwH",
    "outputId": "c7785207-0144-4886-9c59-a96d4ee21fed"
   },
   "outputs": [
    {
     "data": {
      "text/html": [
       "<div>\n",
       "<style scoped>\n",
       "    .dataframe tbody tr th:only-of-type {\n",
       "        vertical-align: middle;\n",
       "    }\n",
       "\n",
       "    .dataframe tbody tr th {\n",
       "        vertical-align: top;\n",
       "    }\n",
       "\n",
       "    .dataframe thead th {\n",
       "        text-align: right;\n",
       "    }\n",
       "</style>\n",
       "<table border=\"1\" class=\"dataframe\">\n",
       "  <thead>\n",
       "    <tr style=\"text-align: right;\">\n",
       "      <th></th>\n",
       "      <th>unchanged</th>\n",
       "      <th>final score</th>\n",
       "      <th>thread ncom</th>\n",
       "      <th>mean</th>\n",
       "      <th>last</th>\n",
       "      <th>model</th>\n",
       "      <th>xgb-mse</th>\n",
       "    </tr>\n",
       "  </thead>\n",
       "  <tbody>\n",
       "    <tr>\n",
       "      <th>4001</th>\n",
       "      <td>-0.064500</td>\n",
       "      <td>0.87575</td>\n",
       "      <td>2</td>\n",
       "      <td>0.019070</td>\n",
       "      <td>0.102640</td>\n",
       "      <td>0.738646</td>\n",
       "      <td>0.214676</td>\n",
       "    </tr>\n",
       "    <tr>\n",
       "      <th>6195</th>\n",
       "      <td>-0.069314</td>\n",
       "      <td>0.84765</td>\n",
       "      <td>2</td>\n",
       "      <td>0.074051</td>\n",
       "      <td>0.217417</td>\n",
       "      <td>0.670065</td>\n",
       "      <td>0.344125</td>\n",
       "    </tr>\n",
       "    <tr>\n",
       "      <th>11413</th>\n",
       "      <td>0.077006</td>\n",
       "      <td>0.86020</td>\n",
       "      <td>2</td>\n",
       "      <td>0.229403</td>\n",
       "      <td>0.381800</td>\n",
       "      <td>0.675269</td>\n",
       "      <td>0.274277</td>\n",
       "    </tr>\n",
       "    <tr>\n",
       "      <th>6468</th>\n",
       "      <td>-0.881900</td>\n",
       "      <td>0.76500</td>\n",
       "      <td>3</td>\n",
       "      <td>-0.291783</td>\n",
       "      <td>-0.116650</td>\n",
       "      <td>0.881442</td>\n",
       "      <td>0.075356</td>\n",
       "    </tr>\n",
       "    <tr>\n",
       "      <th>4296</th>\n",
       "      <td>0.238200</td>\n",
       "      <td>0.91360</td>\n",
       "      <td>4</td>\n",
       "      <td>0.132615</td>\n",
       "      <td>-0.050111</td>\n",
       "      <td>0.667807</td>\n",
       "      <td>0.249140</td>\n",
       "    </tr>\n",
       "    <tr>\n",
       "      <th>6265</th>\n",
       "      <td>-0.189891</td>\n",
       "      <td>0.84810</td>\n",
       "      <td>4</td>\n",
       "      <td>-0.007503</td>\n",
       "      <td>0.075833</td>\n",
       "      <td>0.623283</td>\n",
       "      <td>0.187164</td>\n",
       "    </tr>\n",
       "    <tr>\n",
       "      <th>1095</th>\n",
       "      <td>-0.081675</td>\n",
       "      <td>0.97360</td>\n",
       "      <td>6</td>\n",
       "      <td>0.301792</td>\n",
       "      <td>0.784500</td>\n",
       "      <td>0.759454</td>\n",
       "      <td>0.303918</td>\n",
       "    </tr>\n",
       "    <tr>\n",
       "      <th>4046</th>\n",
       "      <td>0.080025</td>\n",
       "      <td>0.87200</td>\n",
       "      <td>8</td>\n",
       "      <td>0.133222</td>\n",
       "      <td>0.678867</td>\n",
       "      <td>0.771944</td>\n",
       "      <td>0.220229</td>\n",
       "    </tr>\n",
       "    <tr>\n",
       "      <th>11193</th>\n",
       "      <td>0.067716</td>\n",
       "      <td>0.91180</td>\n",
       "      <td>10</td>\n",
       "      <td>0.356118</td>\n",
       "      <td>0.063900</td>\n",
       "      <td>0.685611</td>\n",
       "      <td>0.344369</td>\n",
       "    </tr>\n",
       "    <tr>\n",
       "      <th>10024</th>\n",
       "      <td>-0.251600</td>\n",
       "      <td>0.90420</td>\n",
       "      <td>13</td>\n",
       "      <td>0.094388</td>\n",
       "      <td>0.119744</td>\n",
       "      <td>0.701972</td>\n",
       "      <td>0.189217</td>\n",
       "    </tr>\n",
       "    <tr>\n",
       "      <th>687</th>\n",
       "      <td>-0.857300</td>\n",
       "      <td>0.86250</td>\n",
       "      <td>17</td>\n",
       "      <td>-0.032742</td>\n",
       "      <td>0.045617</td>\n",
       "      <td>0.710248</td>\n",
       "      <td>0.075936</td>\n",
       "    </tr>\n",
       "  </tbody>\n",
       "</table>\n",
       "</div>"
      ],
      "text/plain": [
       "       unchanged  final score  thread ncom  ...      last     model   xgb-mse\n",
       "4001   -0.064500      0.87575            2  ...  0.102640  0.738646  0.214676\n",
       "6195   -0.069314      0.84765            2  ...  0.217417  0.670065  0.344125\n",
       "11413   0.077006      0.86020            2  ...  0.381800  0.675269  0.274277\n",
       "6468   -0.881900      0.76500            3  ... -0.116650  0.881442  0.075356\n",
       "4296    0.238200      0.91360            4  ... -0.050111  0.667807  0.249140\n",
       "6265   -0.189891      0.84810            4  ...  0.075833  0.623283  0.187164\n",
       "1095   -0.081675      0.97360            6  ...  0.784500  0.759454  0.303918\n",
       "4046    0.080025      0.87200            8  ...  0.678867  0.771944  0.220229\n",
       "11193   0.067716      0.91180           10  ...  0.063900  0.685611  0.344369\n",
       "10024  -0.251600      0.90420           13  ...  0.119744  0.701972  0.189217\n",
       "687    -0.857300      0.86250           17  ...  0.045617  0.710248  0.075936\n",
       "\n",
       "[11 rows x 7 columns]"
      ]
     },
     "execution_count": 63,
     "metadata": {
      "tags": []
     },
     "output_type": "execute_result"
    }
   ],
   "source": [
    "# 40001\n",
    "z = tmp_df.loc[subreddit2range2['Anxiety']]\n",
    "z[(z['final score'] > 0.75) & (z['model'] > 0.6)].sort_values('thread ncom',ascending=True).head(20)"
   ]
  },
  {
   "cell_type": "code",
   "execution_count": null,
   "metadata": {
    "colab": {
     "base_uri": "https://localhost:8080/"
    },
    "id": "JToAeaHz0C21",
    "outputId": "af5691f8-e648-438c-d8da-f08d0581a0fe"
   },
   "outputs": [
    {
     "name": "stdout",
     "output_type": "stream",
     "text": [
      "author                                                   CPisJamesC\n",
      "created_utc       [2017-09-19 11:35:57, 2017-09-19 11:46:25, 201...\n",
      "text              Today my supervisor told me my last day at wor...\n",
      "title                          Today I found out I'd be laid off...\n",
      "comments          [dn7klsg, dn7ktef, dn7kvmi, dn7l1zb, dn8cpw1, ...\n",
      "score             [-0.8004, -0.1909, 0.25, 0.07773333333333333, ...\n",
      "parent_id         [712ctw, dn7klsg, 712ctw, dn7kvmi, 712ctw, dn8...\n",
      "is_post_author    [True, False, True, False, True, False, True, ...\n",
      "features          [[tensor(0.0878), tensor(0.2792), tensor(0.061...\n",
      "seq_len                                                           8\n",
      "Name: (SuicideWatch, 712ctw), dtype: object\n",
      "unchanged     -0.800400\n",
      "final score    0.875000\n",
      "thread ncom    7.000000\n",
      "mean          -0.252438\n",
      "last          -0.176100\n",
      "model         -0.924048\n",
      "xgb-mse        0.020039\n",
      "Name: 58762, dtype: float64\n",
      "Post id: 712ctw\n",
      "Author (score -2.6008):\n",
      "('Today my supervisor told me my last day at work is on sept 30, im super down '\n",
      " \"right now i just wanna hang myself I don't know how to put in words what im \"\n",
      " 'feeling ugghh, very disappointed i dunno what to do and it was so far the '\n",
      " \"best job i've had...i feel so tired right now i dont know, just thinking \"\n",
      " 'about my debt everything i dont know what to do, i wanna choke my self to '\n",
      " 'death')\n",
      "Commenter (score -0.1909):\n",
      "('Breathe, just take deep, slow breaths and think only about breathing. Losing '\n",
      " 'a job is rough, real rough. ')\n",
      "Author (score 0.25):\n",
      "('Yeah, im just super down right now because i just found out about it '\n",
      " 'earlier...what i worry is my future i have no funds and really dont know '\n",
      " 'whats next')\n",
      "Commenter (score 0.07773333333333333):\n",
      "(\"That's tough bro. Don't they give you a layoff payment or anything like \"\n",
      " 'that. They  still could give you a job in a different area. ')\n",
      "Author (score -0.9274):\n",
      "(\"I'll get paid up until my last day but that money will just go to debt, my \"\n",
      " 'supervisor was nice enough to try to convince our manager to let me go to a '\n",
      " 'different department but alas, no slot for me as they recently hired new '\n",
      " 'people... it just suck because the timing is just terrible the office as a '\n",
      " 'whole are going thru a major employment overhaul and i was unfortunately the '\n",
      " 'only one that got laid off from our section')\n",
      "Commenter (score 0.0):\n",
      "'There will always be another job.. just think about that. '\n",
      "Author (score -0.1761):\n",
      "('Its just tiring, you know the whole process of applying for a job, and its '\n",
      " 'really hard to get in the just that i got so im really dissapointed ryt now')\n",
      "Author (score 0.875):\n",
      "('Thanks to everyone here im still on the edge, im still depressed and im '\n",
      " 'still thibking about hanging my self but i can guarantee that im a bit '\n",
      " 'better now thanks everyone')\n"
     ]
    }
   ],
   "source": [
    "# TODO: remove for in all cells below, just set ind to each value\n",
    "for ind in [58762]:\n",
    "  print(post_df.iloc[ind])\n",
    "  print(tmp_df.loc[ind])\n",
    "  print_post_and_comments(ind)"
   ]
  },
  {
   "cell_type": "code",
   "execution_count": null,
   "metadata": {
    "colab": {
     "base_uri": "https://localhost:8080/",
     "height": 111
    },
    "id": "LKxnE2XKp2uv",
    "outputId": "85c8e635-9a41-4dfa-fa53-3218a94fa09f"
   },
   "outputs": [
    {
     "data": {
      "text/html": [
       "<div>\n",
       "<style scoped>\n",
       "    .dataframe tbody tr th:only-of-type {\n",
       "        vertical-align: middle;\n",
       "    }\n",
       "\n",
       "    .dataframe tbody tr th {\n",
       "        vertical-align: top;\n",
       "    }\n",
       "\n",
       "    .dataframe thead th {\n",
       "        text-align: right;\n",
       "    }\n",
       "</style>\n",
       "<table border=\"1\" class=\"dataframe\">\n",
       "  <thead>\n",
       "    <tr style=\"text-align: right;\">\n",
       "      <th></th>\n",
       "      <th>unchanged</th>\n",
       "      <th>final score</th>\n",
       "      <th>thread ncom</th>\n",
       "      <th>mean</th>\n",
       "      <th>last</th>\n",
       "      <th>model</th>\n",
       "      <th>xgb-mse</th>\n",
       "    </tr>\n",
       "  </thead>\n",
       "  <tbody>\n",
       "    <tr>\n",
       "      <th>13443</th>\n",
       "      <td>-0.11470</td>\n",
       "      <td>-0.8481</td>\n",
       "      <td>8</td>\n",
       "      <td>0.355956</td>\n",
       "      <td>0.63690</td>\n",
       "      <td>0.012588</td>\n",
       "      <td>0.253376</td>\n",
       "    </tr>\n",
       "    <tr>\n",
       "      <th>17101</th>\n",
       "      <td>-0.17295</td>\n",
       "      <td>-0.7501</td>\n",
       "      <td>3</td>\n",
       "      <td>-0.078944</td>\n",
       "      <td>0.18315</td>\n",
       "      <td>0.053429</td>\n",
       "      <td>0.128533</td>\n",
       "    </tr>\n",
       "  </tbody>\n",
       "</table>\n",
       "</div>"
      ],
      "text/plain": [
       "       unchanged  final score  thread ncom  ...     last     model   xgb-mse\n",
       "13443   -0.11470      -0.8481            8  ...  0.63690  0.012588  0.253376\n",
       "17101   -0.17295      -0.7501            3  ...  0.18315  0.053429  0.128533\n",
       "\n",
       "[2 rows x 7 columns]"
      ]
     },
     "execution_count": 53,
     "metadata": {
      "tags": []
     },
     "output_type": "execute_result"
    }
   ],
   "source": [
    "# 13443\n",
    "z = tmp_df.loc[subreddit2range2['bipolar']]\n",
    "z[(z['final score'] < -0.75) & (z['model'] < 0.1) & (z['model'] > 0)].sort_values('thread ncom',ascending=False).head(20)"
   ]
  },
  {
   "cell_type": "code",
   "execution_count": null,
   "metadata": {
    "id": "L8_trjzesdY8"
   },
   "outputs": [],
   "source": [
    "# 14183\n",
    "z[(z['final score'] > -0.5) & (z['model'] < -0.5)].sort_values('thread ncom',ascending=False).head(20)"
   ]
  },
  {
   "cell_type": "code",
   "execution_count": null,
   "metadata": {
    "colab": {
     "base_uri": "https://localhost:8080/",
     "height": 173
    },
    "id": "5TCslO_M8Vtv",
    "outputId": "18c68189-03f8-4b1e-84d8-dbc88c478df4"
   },
   "outputs": [
    {
     "data": {
      "text/html": [
       "<div>\n",
       "<style scoped>\n",
       "    .dataframe tbody tr th:only-of-type {\n",
       "        vertical-align: middle;\n",
       "    }\n",
       "\n",
       "    .dataframe tbody tr th {\n",
       "        vertical-align: top;\n",
       "    }\n",
       "\n",
       "    .dataframe thead th {\n",
       "        text-align: right;\n",
       "    }\n",
       "</style>\n",
       "<table border=\"1\" class=\"dataframe\">\n",
       "  <thead>\n",
       "    <tr style=\"text-align: right;\">\n",
       "      <th></th>\n",
       "      <th>unchanged</th>\n",
       "      <th>final score</th>\n",
       "      <th>thread ncom</th>\n",
       "      <th>mean</th>\n",
       "      <th>last</th>\n",
       "      <th>model</th>\n",
       "      <th>xgb-mse</th>\n",
       "    </tr>\n",
       "  </thead>\n",
       "  <tbody>\n",
       "    <tr>\n",
       "      <th>62296</th>\n",
       "      <td>0.182973</td>\n",
       "      <td>0.6952</td>\n",
       "      <td>36</td>\n",
       "      <td>0.138060</td>\n",
       "      <td>0.335200</td>\n",
       "      <td>0.720109</td>\n",
       "      <td>0.108002</td>\n",
       "    </tr>\n",
       "    <tr>\n",
       "      <th>50549</th>\n",
       "      <td>0.078227</td>\n",
       "      <td>0.7345</td>\n",
       "      <td>9</td>\n",
       "      <td>0.130760</td>\n",
       "      <td>0.044433</td>\n",
       "      <td>0.688784</td>\n",
       "      <td>0.234148</td>\n",
       "    </tr>\n",
       "    <tr>\n",
       "      <th>53131</th>\n",
       "      <td>0.059129</td>\n",
       "      <td>0.6990</td>\n",
       "      <td>8</td>\n",
       "      <td>0.196700</td>\n",
       "      <td>-0.065364</td>\n",
       "      <td>0.621237</td>\n",
       "      <td>0.234585</td>\n",
       "    </tr>\n",
       "    <tr>\n",
       "      <th>58800</th>\n",
       "      <td>-0.144948</td>\n",
       "      <td>0.7096</td>\n",
       "      <td>4</td>\n",
       "      <td>0.233559</td>\n",
       "      <td>0.542340</td>\n",
       "      <td>0.719088</td>\n",
       "      <td>0.323608</td>\n",
       "    </tr>\n",
       "  </tbody>\n",
       "</table>\n",
       "</div>"
      ],
      "text/plain": [
       "       unchanged  final score  thread ncom  ...      last     model   xgb-mse\n",
       "62296   0.182973       0.6952           36  ...  0.335200  0.720109  0.108002\n",
       "50549   0.078227       0.7345            9  ...  0.044433  0.688784  0.234148\n",
       "53131   0.059129       0.6990            8  ... -0.065364  0.621237  0.234585\n",
       "58800  -0.144948       0.7096            4  ...  0.542340  0.719088  0.323608\n",
       "\n",
       "[4 rows x 7 columns]"
      ]
     },
     "execution_count": 60,
     "metadata": {
      "tags": []
     },
     "output_type": "execute_result"
    }
   ],
   "source": [
    "# 50549\n",
    "z = tmp_df.loc[subreddit2range2['SuicideWatch']]\n",
    "z[(z['final score'] > .6) & (z['final score'] < .75)  & (z['model'] > .6) & (z['model'] < .75)].sort_values('thread ncom',ascending=False)\n"
   ]
  },
  {
   "cell_type": "code",
   "execution_count": null,
   "metadata": {
    "colab": {
     "base_uri": "https://localhost:8080/"
    },
    "id": "pzPzTgplycrV",
    "outputId": "476d96cf-1957-48b0-a856-ba75931ceab5"
   },
   "outputs": [
    {
     "name": "stdout",
     "output_type": "stream",
     "text": [
      "author                                                  MainlyMax97\n",
      "created_utc       [2017-01-13 15:36:22, 2017-01-13 16:11:41, 201...\n",
      "text              So here's my story... There is a little backgr...\n",
      "title                                             LGBT mentally ill\n",
      "comments          [dcdoywz, dcdpebc, dcdrv91, dcdrypd, dcdsat3, ...\n",
      "score             [0.07822692307692306, -0.033574999999999994, 0...\n",
      "parent_id         [5nr93y, 5nr93y, dcdoywz, dcdpebc, dcdrypd, dc...\n",
      "is_post_author    [True, False, False, True, False, False, False...\n",
      "features          [[tensor(0.0893), tensor(-0.2627), tensor(-0.0...\n",
      "seq_len                                                          10\n",
      "Name: (SuicideWatch, 5nr93y), dtype: object\n",
      "unchanged      0.078227\n",
      "final score    0.734500\n",
      "thread ncom    9.000000\n",
      "mean           0.130760\n",
      "last           0.044433\n",
      "model          0.688784\n",
      "xgb-mse        0.234148\n",
      "Name: 50549, dtype: float64\n",
      "Post id: 5nr93y\n",
      "Author (score -0.843546153846154):\n",
      "(\"So here's my story... There is a little background story to it (you can find \"\n",
      " 'it here if you really are simply looking to kill time: '\n",
      " 'https://www.reddit.com/r/relationship_advice/comments/5jqxtx/19m_closeted_gay_looking_for_advice_about_other/) '\n",
      " \"to keep things short here's what happened: I'm a 19 y.o. gay closeted eng. \"\n",
      " 'student and fell for someone pretty hard..who like many of the guys gays '\n",
      " \"fall for, aren't gay. It never happened throughout my life but it did end up \"\n",
      " 'happening. \\n'\n",
      " '\\n'\n",
      " 'I suffer from a condition called dependent personality disorder... Short '\n",
      " 'for: you obsess (hard) different people, one at the time. This time it was '\n",
      " 'very harsh because it was an obsession that later on became a very good '\n",
      " \"friend that stuck by me for years.. So this wasn't just a phase ... I made \"\n",
      " 'good money for a while, now quite a bit less.. I used to invite my friends '\n",
      " 'for lunch (especially him) and gave everything I could to him. I spent the '\n",
      " 'last of my savings to buy him a very expensive citizen watch.\\n'\n",
      " '\\n'\n",
      " 'I used to answer posts on another forum trying to help people feel better '\n",
      " 'telling them that things get better and that gays do eventually find others '\n",
      " \"but I kinda stopped believing it myself and so I don't really give that \"\n",
      " \"advice anymore. I'm very exhausted of keeping everything inside me, being \"\n",
      " 'gay in a repressed entourage is probably the worst and most depressing thing '\n",
      " 'that can happen to a gay person... Over the past 2 years I felt like crap, '\n",
      " 'got diagnosed with depression and bipolar 1 (I briefly worked in a mental '\n",
      " 'institute for a while and am really not interested in taking meds. I saw '\n",
      " 'what it did and I am really not interested into turning into a zombie) made '\n",
      " 'plans and got fully prepared to move on to an after life. \\n'\n",
      " '\\n'\n",
      " 'Now I am done. You get over people, true. But you feel like crap thinking '\n",
      " \"about it constantly. I want this to stop. I don't want to die but I have \"\n",
      " 'been so down lately that it seems like it may not be that bad. People get '\n",
      " 'over deaths, whether families or friends: People move on so I know that the '\n",
      " \"world won't stop spinning if I go. \\n\"\n",
      " '\\n'\n",
      " \"I have to be honest, I don't know why I'm writing this because it's an \"\n",
      " \"opinion that really won't change ... But I guess I don't want my story to go \"\n",
      " '\"in vain\" ...whatever that means... Would like someone to read my story and '\n",
      " \"know what I went through. I'm not planning on bleeding out in the bathtub \"\n",
      " \"tonight but I've made up mind solid about this. \\n\"\n",
      " '\\n'\n",
      " 'Thank you, whoever you are, for taking the time to read this. You definitely '\n",
      " 'get extra karma points in life. \\n'\n",
      " '\\n'\n",
      " 'PS: The thread I opened yesterday was a mistake of mine because my stupid '\n",
      " \"Lumia phone didn't copy the text I wanted to write...\")\n",
      "Commenter (score -0.033574999999999994):\n",
      "('You need to find the root of your problem.\\n'\n",
      " 'Do you have any idea where these obsessions come from ?\\n'\n",
      " \"How did you realise you are gay ? Maybe you're straight with a serious \"\n",
      " 'mindfuck you need to resolve. ')\n",
      "Commenter (score 0.1993):\n",
      "(\"Hey there. Man, reading your post makes it clear that you're dealing with so \"\n",
      " 'much, especially having to keep things like your sexuality inside.\\n'\n",
      " '\\n'\n",
      " 'I would love to hear more of your story if you want to share. This guy '\n",
      " \"you've fallen for, are you still obsessing over him? \\n\"\n",
      " '\\n')\n",
      "Author (score 0.6431):\n",
      "(\"Nah man, I am gay, it's always been like that and it has never changed, \"\n",
      " 'never had a doubt. DPD only happens if your parents are overprotective and '\n",
      " 'may parents up to this day still are like this...  and thank you for your '\n",
      " 'time :)')\n",
      "Commenter (score 0.0):\n",
      "'[removed]'\n",
      "Commenter (score 0.0):\n",
      "'[removed]'\n",
      "Commenter (score 0.20092500000000002):\n",
      "('So maybe you need to detach from your parents, learn to live your life on '\n",
      " 'your own thinking about yourself before other people.\\n'\n",
      " 'You need to be able to enjoy solitude, maybe have a hobby or something to '\n",
      " 'kick that dependance you have to other humans. You need to work on letting '\n",
      " 'some air in your relationships in order to not suffocate if you get what I '\n",
      " 'mean.\\n'\n",
      " \"I'm sure you can work out your problem and find solutions, the situation is \"\n",
      " 'not desperate.')\n",
      "Author (score 0.044433333333333346):\n",
      "('Well I completely understand what you mean but I fell on the perfect pray '\n",
      " 'unfortunately..lonely, geeky and completely shy and introverted.. We spent '\n",
      " 'loads of time together; we still do but what hurts me the most is that the '\n",
      " \"friendship I am in is something that I can't get rid of just like \"\n",
      " 'that...families are close to each other... I guess its just not having him '\n",
      " 'for myself is what hurts the most.\\n'\n",
      " '\\n'\n",
      " 'I don\\'t want to start with the whole \"you don\\'t understand\" bullshit but '\n",
      " 'living with DPD is emotionally consuming and exhausting...the problem is '\n",
      " 'hobbies and free time dont cut it and my parents already did the '\n",
      " 'damage...imagine obsessing over your ex all the time non stop, then after '\n",
      " \"getting over it, you can't get over someone else.. *Repeat until you die*\")\n",
      "Author (score 0.044433333333333346):\n",
      "('Well I completely understand what you mean but I fell on the perfect pray '\n",
      " 'unfortunately..lonely, geeky and completely shy and introverted.. We spent '\n",
      " 'loads of time together; we still do but what hurts me the most is that the '\n",
      " \"friendship I am in is something that I can't get rid of just like \"\n",
      " 'that...families are close to each other... I guess its just not having him '\n",
      " 'for myself is what hurts the most.\\n'\n",
      " '\\n'\n",
      " 'I don\\'t want to start with the whole \"you don\\'t understand\" bullshit but '\n",
      " 'living with DPD is emotionally consuming and exhausting...the problem is '\n",
      " 'hobbies and free time dont cut it and my parents already did the '\n",
      " 'damage...imagine obsessing over your ex all the time non stop, then after '\n",
      " \"getting over it, you can't get over someone else.. *Repeat until you die*\")\n",
      "Author (score 0.7345):\n",
      "'...and of course, thank you for taking the time to reply kind sir! '\n",
      "------------------------------------------------------\n"
     ]
    }
   ],
   "source": [
    "for ind in [50549]:\n",
    "  print(post_df.iloc[ind])\n",
    "  print(tmp_df.loc[ind])\n",
    "  print_post_and_comments(ind)"
   ]
  },
  {
   "cell_type": "code",
   "execution_count": null,
   "metadata": {
    "colab": {
     "base_uri": "https://localhost:8080/"
    },
    "id": "NTbhpa51aoW3",
    "outputId": "4e8757e0-aef2-47b4-fc1d-c549719e279b"
   },
   "outputs": [
    {
     "name": "stdout",
     "output_type": "stream",
     "text": [
      "author                                                CosmicFallacy\n",
      "created_utc       [2017-03-02 06:04:53, 2017-03-02 10:53:50, 201...\n",
      "text              It is irritating me so much how I am not movin...\n",
      "title             Do you feel like you aren't able to move as fa...\n",
      "comments          [deepur5, deeq6xp, def2sk2, defcqc4, defekvp, ...\n",
      "score             [-0.1147, 0.1939, 0.49095, 0.1691, 0.9196, 0.2...\n",
      "parent_id         [5x1ll5, 5x1ll5, deepur5, 5x1ll5, 5x1ll5, 5x1l...\n",
      "is_post_author    [True, False, False, True, False, False, False...\n",
      "features          [[tensor(-0.0108), tensor(0.1373), tensor(0.00...\n",
      "seq_len                                                           9\n",
      "Name: (bipolar, 5x1ll5), dtype: object\n",
      "unchanged     -0.114700\n",
      "final score   -0.848100\n",
      "thread ncom    8.000000\n",
      "mean           0.355956\n",
      "last           0.636900\n",
      "model          0.012588\n",
      "xgb-mse        0.253376\n",
      "Name: 13443, dtype: float64\n",
      "Post id: 5x1ll5\n",
      "Author (score -1.2294):\n",
      "('It is irritating me so much how I am not moving faster. I need to move '\n",
      " \"faster than this, but I physically can't. The world is so slow. Anyone \"\n",
      " 'relate?')\n",
      "Commenter (score 0.1939):\n",
      "('Yes! I totally get this. I also feel like music is slowed down somehow, like '\n",
      " 'I genuinely thought there was a problem with the spotify app on my phone. '\n",
      " 'Checked with my roommate and nope, just my brain messing around with my '\n",
      " 'perception of time. ')\n",
      "Commenter (score 0.49095):\n",
      "('I constantly am like, THIS NEEDS TO BE HAPPENING SO MUCH FASTER!!!1 \\n'\n",
      " '\\n'\n",
      " 'So, yes.')\n",
      "Author (score 0.1691):\n",
      "'Oh my god! So relatable!'\n",
      "Commenter (score 0.9196):\n",
      "(\"Yeah, It's like there is this energy in my and I want to move faster and \"\n",
      " \"talk faster and I can't so it builds up and I feel like I am going to go \"\n",
      " 'into super saiyan mode!')\n",
      "Commenter (score 0.25220000000000004):\n",
      "('I was under the impression that my phone was completely broken, only to find '\n",
      " 'out that when I came out of my mania it was working just fine lol. Whenever '\n",
      " 'I would pick friends up, I would text them multiple times and call them - it '\n",
      " 'felt like I was waiting for 10 minutes. Only to find out when they got in '\n",
      " 'the car it had been like 2 haha. I had a general impatience for people. I '\n",
      " 'also felt like I was waiting at red lights forever, and it felt like it '\n",
      " 'would take ages to get to my destinations. Driving sucked lol. Totally get '\n",
      " 'where you are coming from.')\n",
      "Commenter (score 0.2997):\n",
      "('Wait till you have arthritis in all your joints.  Feels like someone hooked '\n",
      " \"50lb weights to each foot, and you're determined to run anyway.\")\n",
      "Author (score 0.6369):\n",
      "'Perfectly describes me'\n",
      "Author (score -0.8481):\n",
      "'God damn sounds irritating as hell'\n",
      "------------------------------------------------------\n"
     ]
    }
   ],
   "source": [
    "for ind in [13443]:\n",
    "  print(post_df.iloc[ind])\n",
    "  print(tmp_df.loc[ind])\n",
    "  print_post_and_comments(ind)\n",
    "  print('------------------------------------------------------')"
   ]
  },
  {
   "cell_type": "code",
   "execution_count": null,
   "metadata": {
    "id": "ZljwAGxcxhiG"
   },
   "outputs": [],
   "source": [
    "# loader  = DataLoader(Subset(dataset, [4834,4835]), batch_size=2, shuffle=False, num_workers=1)\n",
    "# test_loss, outputs = evaluate(model, iter(loader), criterion=criterion, device=device, return_predictions=True)\n",
    "# model_yhat = outputs[0][0].cpu().numpy() # extract data from outputs\n",
    "# ilocs = outputs[0][2].cpu().numpy()\n",
    "# model_series = pd.Series(model_yhat.ravel(),index=ilocs)\n",
    "# model_series"
   ]
  },
  {
   "cell_type": "code",
   "execution_count": null,
   "metadata": {
    "colab": {
     "base_uri": "https://localhost:8080/"
    },
    "id": "BDUDAgJkUlUb",
    "outputId": "3a863c7a-c855-45e1-ef74-aa156a41e6f6"
   },
   "outputs": [
    {
     "data": {
      "text/plain": [
       "unchanged     -0.141150\n",
       "final score    0.421300\n",
       "thread ncom    5.000000\n",
       "mean           0.307873\n",
       "last           0.605850\n",
       "model          0.509338\n",
       "Name: 47832, dtype: float64"
      ]
     },
     "execution_count": 47,
     "metadata": {
      "tags": []
     },
     "output_type": "execute_result"
    }
   ],
   "source": [
    "# print sample results\n",
    "tmp_df.loc[47832].drop(columns=['thread ncom'])"
   ]
  },
  {
   "cell_type": "code",
   "execution_count": null,
   "metadata": {
    "colab": {
     "base_uri": "https://localhost:8080/"
    },
    "id": "qohXsGxu7sBg",
    "outputId": "0794ee2e-6ba2-49e3-a3a6-d77e2727080b"
   },
   "outputs": [
    {
     "data": {
      "text/plain": [
       "author                                                   katnam1510\n",
       "created_utc       [2017-12-09 10:40:13, 2017-12-09 10:47:47, 201...\n",
       "text              Can somebody drag me out of this depression? S...\n",
       "title                                                I’m dying here\n",
       "comments          [dqzqhb4, dqzqjf4, dqzqkie, dqzqmx1, dqzqoz4, ...\n",
       "score             [-0.14115, 0.7717, 0.3659666666666667, -0.063,...\n",
       "parent_id         [7im4c6, dqzqhb4, dqzqjf4, 7im4c6, dqzqmx1, 7i...\n",
       "is_post_author       [True, False, True, False, False, True, False]\n",
       "features          [[tensor(0.2144), tensor(0.0317), tensor(-0.13...\n",
       "seq_len                                                           6\n",
       "Name: (depression, 7im4c6), dtype: object"
      ]
     },
     "execution_count": 45,
     "metadata": {
      "tags": []
     },
     "output_type": "execute_result"
    }
   ],
   "source": [
    "# (depression, 7im4c6)\n",
    "post_df.iloc[47832]\n",
    "tmp_df.loc[47832]\n",
    "#print_post_and_comments(47832)"
   ]
  },
  {
   "cell_type": "code",
   "execution_count": null,
   "metadata": {
    "colab": {
     "base_uri": "https://localhost:8080/"
    },
    "id": "VuHv_AMPY_JI",
    "outputId": "34087fb5-25ea-4d83-f62f-b08b453cfe6f"
   },
   "outputs": [
    {
     "name": "stdout",
     "output_type": "stream",
     "text": [
      "author                                                   CecilOtter\n",
      "created_utc       [2017-02-17 05:01:07, 2017-02-17 05:06:36, 201...\n",
      "text              It seems like everyone I meet with Bipolar Dis...\n",
      "title                                  How many of you are artists?\n",
      "comments          [dduow1c, ddupc6v, dduph1o, dduq74e, dduqn6r, ...\n",
      "score             [0.21423333333333336, 0.296, 0.5975, 0.0983999...\n",
      "parent_id         [5ukczo, 5ukczo, 5ukczo, 5ukczo, 5ukczo, 5ukcz...\n",
      "is_post_author    [True, False, False, False, False, False, Fals...\n",
      "features          [[tensor(0.1116), tensor(0.0271), tensor(-0.18...\n",
      "seq_len                                                          35\n",
      "Name: (bipolar, 5ukczo), dtype: object\n"
     ]
    },
    {
     "data": {
      "text/plain": [
       "unchanged       0.214233\n",
       "final score     0.570050\n",
       "thread ncom    34.000000\n",
       "mean            0.181779\n",
       "last            0.000000\n",
       "model           0.278749\n",
       "Name: 13149, dtype: float64"
      ]
     },
     "execution_count": 62,
     "metadata": {
      "tags": []
     },
     "output_type": "execute_result"
    }
   ],
   "source": [
    "# (bipolar, 5ukczo)\n",
    "print(post_df.iloc[13149])\n",
    "tmp_df.loc[13149]\n",
    "#print_post_and_comments(13149)"
   ]
  },
  {
   "cell_type": "code",
   "execution_count": null,
   "metadata": {
    "id": "ceTPXvaRh5e5"
   },
   "outputs": [],
   "source": [
    "def print_post_and_comments(index, suffix='', infile_extension='.p'):\n",
    "  post = post_df.iloc[index]\n",
    "\n",
    "  print(f'Post id: {post.name[1]}')\n",
    "  print(f'Author (score {(post[\"score\"][0]-0.5)*2}):')\n",
    "\n",
    "  subreddit = post.name[0]\n",
    "  with open(f'{DATADIR}{subreddit}_comment2data{suffix}{infile_extension}','rb') as infile:\n",
    "    comment2data = pickle.load(infile)\n",
    "\n",
    "  comment_ids = post.comments\n",
    "  pprint.pprint(post.text)\n",
    "  for cx in range(max(0,post.seq_len-10),post.seq_len-1):\n",
    "    print('Author' if post.is_post_author[cx+1] else 'Commenter', end='')\n",
    "    print(f' (score {(post[\"score\"][cx+1])}):')\n",
    "    if 'body' in comment2data[comment_ids[cx]]:\n",
    "      pprint.pprint(comment2data[comment_ids[cx]]['body'])\n",
    "    else:\n",
    "      pprint.pprint(comment2data[comment_ids[cx]]['text'])"
   ]
  },
  {
   "cell_type": "code",
   "execution_count": null,
   "metadata": {
    "colab": {
     "base_uri": "https://localhost:8080/"
    },
    "id": "KeLQEhHpVgiW",
    "outputId": "c2d2f870-9d8b-4aa5-c230-6efa150e894b"
   },
   "outputs": [
    {
     "data": {
      "text/plain": [
       "47832"
      ]
     },
     "execution_count": 42,
     "metadata": {
      "tags": []
     },
     "output_type": "execute_result"
    }
   ],
   "source": [
    "post_df.index.get_loc(('depression', '7im4c6'))"
   ]
  },
  {
   "cell_type": "code",
   "execution_count": null,
   "metadata": {
    "colab": {
     "base_uri": "https://localhost:8080/"
    },
    "id": "lzAaBbV7tN2H",
    "outputId": "ccc5c65b-ad44-4789-e6db-0045d61fb417"
   },
   "outputs": [
    {
     "name": "stdout",
     "output_type": "stream",
     "text": [
      "Post id: 6fwwqe\n",
      "Author (score -1.3827333333333334):\n",
      "(\"I really hate this. So today I got my crush's snapchat, and I was really \"\n",
      " 'happy about that. So I get home and snapchat her, and I guess I really am '\n",
      " 'fucked up. Anytime she responds to me I start getting really nervous, I '\n",
      " \"don't know what to reply with and I'm afraid I'm gonna mess up my responses \"\n",
      " 'to the point where it hurts my chest and makes me feel like puking, and I '\n",
      " 'overthink every response I get and its all fucking me up, I wish I could '\n",
      " 'just be normal and do this kind of shit. I rely on relationships/love etc. '\n",
      " \"for my happiness so I can't just not do this, I'm not sure what to do.\")\n",
      "Commenter (score -0.7827714285714286):\n",
      "('Hey dude, I just got out of a 4 year relationship and I get that feeling of '\n",
      " 'needing a relationship to be happy. Its kind of scary being alone but you '\n",
      " 'know what you want. When my crush snapchats me I get the same way. I wait a '\n",
      " \"few minutes before answering because I'm scared. I've asked her to hang out \"\n",
      " 'twice and she said yes both times. Sometimes you just gotta take a leap, I '\n",
      " \"know its hard it took me 6 hours to ask her to hang. It'll get better, stay \"\n",
      " 'strong.')\n",
      "Commenter (score -1.0):\n",
      "'Ever heard about co-dependency?'\n",
      "Author (score 0.3877999999999999):\n",
      "(\"Idk if you mean't that in a sarcastic way but I actually didn't know there \"\n",
      " 'was a word for this, thanks I guess')\n",
      "Commenter (score -0.42667999999999995):\n",
      "(\"Na I was serious, I just didnt knew if you would relate to it and I haven't \"\n",
      " \"read alot on it so I didn't write more than that.\\n\"\n",
      " 'I came across the term recently while trying to understand more about NPD '\n",
      " '(watch out for those).  \\n'\n",
      " 'Reading your post, I tought: Hey, mabye this person could relate to that!\\n'\n",
      " '\\n'\n",
      " \"Also, It's really a relief when you come across a logical explanation for \"\n",
      " \"what you are feeling! So I'm glad I could help a bit with that =D\\n\")\n",
      "Author (score 0.7567999999999999):\n",
      "('I read an article, and it makes me feel better knowing that my biggest issue '\n",
      " 'in life has an actual name, means that theres probably a way to fix or '\n",
      " 'maintain it so thanks (:')\n"
     ]
    }
   ],
   "source": [
    "print_post_and_comments(4834)"
   ]
  },
  {
   "cell_type": "code",
   "execution_count": null,
   "metadata": {
    "colab": {
     "base_uri": "https://localhost:8080/",
     "height": 324
    },
    "id": "XMrW0HJutkmb",
    "outputId": "ed5a5a4d-07fa-47e9-d905-4454b1afc29e"
   },
   "outputs": [
    {
     "ename": "IndexError",
     "evalue": "ignored",
     "output_type": "error",
     "traceback": [
      "\u001b[0;31m---------------------------------------------------------------------------\u001b[0m",
      "\u001b[0;31mIndexError\u001b[0m                                Traceback (most recent call last)",
      "\u001b[0;32m<ipython-input-72-da6930956fa1>\u001b[0m in \u001b[0;36m<module>\u001b[0;34m()\u001b[0m\n\u001b[1;32m      1\u001b[0m \u001b[0;31m# adicionei este erro de propósito para que o \"Run All\" pare de executar aqui\u001b[0m\u001b[0;34m\u001b[0m\u001b[0;34m\u001b[0m\u001b[0;34m\u001b[0m\u001b[0m\n\u001b[0;32m----> 2\u001b[0;31m \u001b[0mprint_post_and_comments\u001b[0m\u001b[0;34m(\u001b[0m\u001b[0;36m1293918201273\u001b[0m\u001b[0;34m)\u001b[0m\u001b[0;34m\u001b[0m\u001b[0;34m\u001b[0m\u001b[0m\n\u001b[0m",
      "\u001b[0;32m<ipython-input-70-8508ca663798>\u001b[0m in \u001b[0;36mprint_post_and_comments\u001b[0;34m(index, suffix, infile_extension)\u001b[0m\n\u001b[1;32m      1\u001b[0m \u001b[0;32mdef\u001b[0m \u001b[0mprint_post_and_comments\u001b[0m\u001b[0;34m(\u001b[0m\u001b[0mindex\u001b[0m\u001b[0;34m,\u001b[0m \u001b[0msuffix\u001b[0m\u001b[0;34m=\u001b[0m\u001b[0;34m''\u001b[0m\u001b[0;34m,\u001b[0m \u001b[0minfile_extension\u001b[0m\u001b[0;34m=\u001b[0m\u001b[0;34m'.p'\u001b[0m\u001b[0;34m)\u001b[0m\u001b[0;34m:\u001b[0m\u001b[0;34m\u001b[0m\u001b[0;34m\u001b[0m\u001b[0m\n\u001b[0;32m----> 2\u001b[0;31m   \u001b[0mpost\u001b[0m \u001b[0;34m=\u001b[0m \u001b[0mpost_df\u001b[0m\u001b[0;34m.\u001b[0m\u001b[0miloc\u001b[0m\u001b[0;34m[\u001b[0m\u001b[0mindex\u001b[0m\u001b[0;34m]\u001b[0m\u001b[0;34m\u001b[0m\u001b[0;34m\u001b[0m\u001b[0m\n\u001b[0m\u001b[1;32m      3\u001b[0m \u001b[0;34m\u001b[0m\u001b[0m\n\u001b[1;32m      4\u001b[0m   \u001b[0mprint\u001b[0m\u001b[0;34m(\u001b[0m\u001b[0;34mf'Post id: {post.name[1]}'\u001b[0m\u001b[0;34m)\u001b[0m\u001b[0;34m\u001b[0m\u001b[0;34m\u001b[0m\u001b[0m\n\u001b[1;32m      5\u001b[0m   \u001b[0mprint\u001b[0m\u001b[0;34m(\u001b[0m\u001b[0;34mf'Author (score {post.score[0]}):'\u001b[0m\u001b[0;34m)\u001b[0m\u001b[0;34m\u001b[0m\u001b[0;34m\u001b[0m\u001b[0m\n",
      "\u001b[0;32m/usr/local/lib/python3.6/dist-packages/pandas/core/indexing.py\u001b[0m in \u001b[0;36m__getitem__\u001b[0;34m(self, key)\u001b[0m\n\u001b[1;32m   1766\u001b[0m \u001b[0;34m\u001b[0m\u001b[0m\n\u001b[1;32m   1767\u001b[0m             \u001b[0mmaybe_callable\u001b[0m \u001b[0;34m=\u001b[0m \u001b[0mcom\u001b[0m\u001b[0;34m.\u001b[0m\u001b[0mapply_if_callable\u001b[0m\u001b[0;34m(\u001b[0m\u001b[0mkey\u001b[0m\u001b[0;34m,\u001b[0m \u001b[0mself\u001b[0m\u001b[0;34m.\u001b[0m\u001b[0mobj\u001b[0m\u001b[0;34m)\u001b[0m\u001b[0;34m\u001b[0m\u001b[0;34m\u001b[0m\u001b[0m\n\u001b[0;32m-> 1768\u001b[0;31m             \u001b[0;32mreturn\u001b[0m \u001b[0mself\u001b[0m\u001b[0;34m.\u001b[0m\u001b[0m_getitem_axis\u001b[0m\u001b[0;34m(\u001b[0m\u001b[0mmaybe_callable\u001b[0m\u001b[0;34m,\u001b[0m \u001b[0maxis\u001b[0m\u001b[0;34m=\u001b[0m\u001b[0maxis\u001b[0m\u001b[0;34m)\u001b[0m\u001b[0;34m\u001b[0m\u001b[0;34m\u001b[0m\u001b[0m\n\u001b[0m\u001b[1;32m   1769\u001b[0m \u001b[0;34m\u001b[0m\u001b[0m\n\u001b[1;32m   1770\u001b[0m     \u001b[0;32mdef\u001b[0m \u001b[0m_is_scalar_access\u001b[0m\u001b[0;34m(\u001b[0m\u001b[0mself\u001b[0m\u001b[0;34m,\u001b[0m \u001b[0mkey\u001b[0m\u001b[0;34m:\u001b[0m \u001b[0mTuple\u001b[0m\u001b[0;34m)\u001b[0m\u001b[0;34m:\u001b[0m\u001b[0;34m\u001b[0m\u001b[0;34m\u001b[0m\u001b[0m\n",
      "\u001b[0;32m/usr/local/lib/python3.6/dist-packages/pandas/core/indexing.py\u001b[0m in \u001b[0;36m_getitem_axis\u001b[0;34m(self, key, axis)\u001b[0m\n\u001b[1;32m   2136\u001b[0m \u001b[0;34m\u001b[0m\u001b[0m\n\u001b[1;32m   2137\u001b[0m             \u001b[0;31m# validate the location\u001b[0m\u001b[0;34m\u001b[0m\u001b[0;34m\u001b[0m\u001b[0;34m\u001b[0m\u001b[0m\n\u001b[0;32m-> 2138\u001b[0;31m             \u001b[0mself\u001b[0m\u001b[0;34m.\u001b[0m\u001b[0m_validate_integer\u001b[0m\u001b[0;34m(\u001b[0m\u001b[0mkey\u001b[0m\u001b[0;34m,\u001b[0m \u001b[0maxis\u001b[0m\u001b[0;34m)\u001b[0m\u001b[0;34m\u001b[0m\u001b[0;34m\u001b[0m\u001b[0m\n\u001b[0m\u001b[1;32m   2139\u001b[0m \u001b[0;34m\u001b[0m\u001b[0m\n\u001b[1;32m   2140\u001b[0m             \u001b[0;32mreturn\u001b[0m \u001b[0mself\u001b[0m\u001b[0;34m.\u001b[0m\u001b[0m_get_loc\u001b[0m\u001b[0;34m(\u001b[0m\u001b[0mkey\u001b[0m\u001b[0;34m,\u001b[0m \u001b[0maxis\u001b[0m\u001b[0;34m=\u001b[0m\u001b[0maxis\u001b[0m\u001b[0;34m)\u001b[0m\u001b[0;34m\u001b[0m\u001b[0;34m\u001b[0m\u001b[0m\n",
      "\u001b[0;32m/usr/local/lib/python3.6/dist-packages/pandas/core/indexing.py\u001b[0m in \u001b[0;36m_validate_integer\u001b[0;34m(self, key, axis)\u001b[0m\n\u001b[1;32m   2061\u001b[0m         \u001b[0mlen_axis\u001b[0m \u001b[0;34m=\u001b[0m \u001b[0mlen\u001b[0m\u001b[0;34m(\u001b[0m\u001b[0mself\u001b[0m\u001b[0;34m.\u001b[0m\u001b[0mobj\u001b[0m\u001b[0;34m.\u001b[0m\u001b[0m_get_axis\u001b[0m\u001b[0;34m(\u001b[0m\u001b[0maxis\u001b[0m\u001b[0;34m)\u001b[0m\u001b[0;34m)\u001b[0m\u001b[0;34m\u001b[0m\u001b[0;34m\u001b[0m\u001b[0m\n\u001b[1;32m   2062\u001b[0m         \u001b[0;32mif\u001b[0m \u001b[0mkey\u001b[0m \u001b[0;34m>=\u001b[0m \u001b[0mlen_axis\u001b[0m \u001b[0;32mor\u001b[0m \u001b[0mkey\u001b[0m \u001b[0;34m<\u001b[0m \u001b[0;34m-\u001b[0m\u001b[0mlen_axis\u001b[0m\u001b[0;34m:\u001b[0m\u001b[0;34m\u001b[0m\u001b[0;34m\u001b[0m\u001b[0m\n\u001b[0;32m-> 2063\u001b[0;31m             \u001b[0;32mraise\u001b[0m \u001b[0mIndexError\u001b[0m\u001b[0;34m(\u001b[0m\u001b[0;34m\"single positional indexer is out-of-bounds\"\u001b[0m\u001b[0;34m)\u001b[0m\u001b[0;34m\u001b[0m\u001b[0;34m\u001b[0m\u001b[0m\n\u001b[0m\u001b[1;32m   2064\u001b[0m \u001b[0;34m\u001b[0m\u001b[0m\n\u001b[1;32m   2065\u001b[0m     \u001b[0;32mdef\u001b[0m \u001b[0m_getitem_tuple\u001b[0m\u001b[0;34m(\u001b[0m\u001b[0mself\u001b[0m\u001b[0;34m,\u001b[0m \u001b[0mtup\u001b[0m\u001b[0;34m:\u001b[0m \u001b[0mTuple\u001b[0m\u001b[0;34m)\u001b[0m\u001b[0;34m:\u001b[0m\u001b[0;34m\u001b[0m\u001b[0;34m\u001b[0m\u001b[0m\n",
      "\u001b[0;31mIndexError\u001b[0m: single positional indexer is out-of-bounds"
     ]
    }
   ],
   "source": [
    "# adicionei este erro de propósito para que o \"Run All\" pare de executar aqui\n",
    "print_post_and_comments(1293918201273)"
   ]
  },
  {
   "cell_type": "code",
   "execution_count": null,
   "metadata": {
    "id": "n-0gzgMOi0SM"
   },
   "outputs": [],
   "source": [
    "# print_post_and_comments(1846, '_after_Dec2019', '.pkl')"
   ]
  },
  {
   "cell_type": "code",
   "execution_count": null,
   "metadata": {
    "id": "rPt_x3mLPlMX"
   },
   "outputs": [],
   "source": [
    "# print_post_and_comments(4917, '_after_Dec2019', '.pkl')"
   ]
  },
  {
   "cell_type": "code",
   "execution_count": null,
   "metadata": {
    "id": "6gpyig57WAxC"
   },
   "outputs": [],
   "source": [
    "# print_post_and_comments(6201, '_after_Dec2019', '.pkl')"
   ]
  },
  {
   "cell_type": "code",
   "execution_count": null,
   "metadata": {
    "id": "coVlxHWmaYcm"
   },
   "outputs": [],
   "source": [
    "# print_post_and_comments(10881, '_after_Dec2019', '.pkl')"
   ]
  },
  {
   "cell_type": "markdown",
   "metadata": {
    "id": "Vmj4PJ5IpGPm"
   },
   "source": [
    "#**7**. Can we predict large fluctuations from one author comment to the next?\n",
    "\n",
    "1. Plot the distribution of changes from one comment to the next.\n",
    "2. Take the largest fluctuations and see how well we predict those. Is this large or small? Are the baselines predicting those better?\n",
    "3. For those that we do well, inspect content of the post, \"last checkpoint of author\", following comment and last comment of author."
   ]
  },
  {
   "cell_type": "code",
   "execution_count": null,
   "metadata": {
    "colab": {
     "base_uri": "https://localhost:8080/",
     "height": 282
    },
    "id": "OnaALYi9pD4V",
    "outputId": "76f6d845-cac8-42c8-e00f-b99b0140d8c9"
   },
   "outputs": [
    {
     "data": {
      "text/plain": [
       "<matplotlib.axes._subplots.AxesSubplot at 0x7f0c69cdd0b8>"
      ]
     },
     "execution_count": 37,
     "metadata": {
      "tags": []
     },
     "output_type": "execute_result"
    },
    {
     "data": {
      "image/png": "[encoded data removed]",
      "text/plain": [
       "<Figure size 432x288 with 1 Axes>"
      ]
     },
     "metadata": {
      "tags": []
     },
     "output_type": "display_data"
    }
   ],
   "source": [
    "#TODO: alternate the cells with the descriptions 1,2,3 above\n",
    "fluctuations = []\n",
    "\n",
    "\n",
    "for batch in test_loader:\n",
    "  is_author_value = batch[0][0][0,-1] # this has to be retrieved because the feature was z-normalized\n",
    "  batch_size = batch[0].size(0)\n",
    "\n",
    "for ix in range(batch_size):\n",
    "    ncom = batch[1][ix]\n",
    "    for jx in range(ncom-1,-1,-1):\n",
    "      if batch[0][ix][jx,-1] == is_author_value:\n",
    "          fluctuations.append(batch[2][ix]-(batch[0][ix][jx,-2]*score_s+score_m))\n",
    "          break   \n",
    "\n",
    "fluctuations = np.array(fluctuations)\n",
    "# fluctuation_series = pd.Series(fluctuations, index=test_locs)\n",
    "fluctuation_series = pd.Series(fluctuations)\n",
    "fluctuation_series.hist()"
   ]
  },
  {
   "cell_type": "code",
   "execution_count": null,
   "metadata": {
    "colab": {
     "base_uri": "https://localhost:8080/"
    },
    "id": "6kJuH9vCvw1m",
    "outputId": "1dc4a534-66fc-4822-bb2a-4ad86c2e6049"
   },
   "outputs": [
    {
     "data": {
      "text/plain": [
       "10   -0.337558\n",
       "17   -0.450236\n",
       "20   -0.159093\n",
       "34    0.163850\n",
       "46   -0.132921\n",
       "dtype: float64"
      ]
     },
     "execution_count": 38,
     "metadata": {
      "tags": []
     },
     "output_type": "execute_result"
    }
   ],
   "source": [
    "fluctuation_series = tmp_df['final score']-tmp_df['unchanged']\n",
    "fluctuation_series.head()"
   ]
  },
  {
   "cell_type": "code",
   "execution_count": null,
   "metadata": {
    "colab": {
     "base_uri": "https://localhost:8080/"
    },
    "id": "qxR8FoaLUV35",
    "outputId": "abd2f179-342c-4a8a-ce8a-68cd70b869c7"
   },
   "outputs": [
    {
     "name": "stdout",
     "output_type": "stream",
     "text": [
      "XXXX Fluctuation from previous comment: <5-th and >95-th percentile\n",
      "[Lower bound: 0.867] \n",
      "Model outperforms mean in 71.1% of all cases\n",
      "Model error: 0.522\t Baseline error: 0.676\n",
      "Model outperforms last in 50.8% of all cases\n",
      "Model error: 0.522\t Baseline error: 0.521\n",
      "Model outperforms xgb-mse in 51.4% of all cases\n",
      "Model error: 0.522\t Baseline error: 0.499\n",
      "Cases: 315\n",
      "\n",
      "\n",
      "[Lower bound: 1.000] \n",
      "Model outperforms mean in 68.7% of all cases\n",
      "Model error: 0.583\t Baseline error: 0.743\n",
      "Model outperforms last in 46.4% of all cases\n",
      "Model error: 0.583\t Baseline error: 0.544\n",
      "Model outperforms xgb-mse in 48.8% of all cases\n",
      "Model error: 0.583\t Baseline error: 0.536\n",
      "Cases: 166\n",
      "\n",
      "\n",
      "[Lower bound: 0.800] \n",
      "Model outperforms mean in 89.1% of all cases\n",
      "Model error: 0.469\t Baseline error: 0.788\n",
      "Model outperforms last in 73.1% of all cases\n",
      "Model error: 0.469\t Baseline error: 0.668\n",
      "Model outperforms xgb-mse in 78.2% of all cases\n",
      "Model error: 0.469\t Baseline error: 0.685\n",
      "Cases: 119\n",
      "\n",
      "\n",
      "[Upper bound: -0.434] \n",
      "Model outperforms mean in 61.3% of all cases\n",
      "Model error: 0.426\t Baseline error: 0.558\n",
      "Model outperforms last in 60.6% of all cases\n",
      "Model error: 0.426\t Baseline error: 0.563\n",
      "Model outperforms xgb-mse in 65.4% of all cases\n",
      "Model error: 0.426\t Baseline error: 0.610\n",
      "Cases: 315\n",
      "\n",
      "\n",
      "[Upper bound: -1.000] \n",
      "Model outperforms mean in 84.6% of all cases\n",
      "Model error: 0.440\t Baseline error: 0.835\n",
      "Model outperforms last in 76.9% of all cases\n",
      "Model error: 0.440\t Baseline error: 0.806\n",
      "Model outperforms xgb-mse in 84.6% of all cases\n",
      "Model error: 0.440\t Baseline error: 0.825\n",
      "Cases: 26\n",
      "\n",
      "\n",
      "[Upper bound: -0.800] \n",
      "Model outperforms mean in 88.9% of all cases\n",
      "Model error: 0.403\t Baseline error: 0.819\n",
      "Model outperforms last in 88.9% of all cases\n",
      "Model error: 0.403\t Baseline error: 0.887\n",
      "Model outperforms xgb-mse in 93.3% of all cases\n",
      "Model error: 0.403\t Baseline error: 0.956\n",
      "Cases: 45\n",
      "\n",
      "\n",
      "XXX Fluctuation from previous comment: <-0.5 and >0.5\n",
      "XXX Final score: <0.1 and >0.9\n"
     ]
    }
   ],
   "source": [
    "# positive variation\n",
    "\n",
    "\n",
    "\n",
    "def get_error_stats(series, lower_bound=None,upper_bound=None):\n",
    "  assert (lower_bound is not None) ^ (upper_bound is not None)\n",
    "  if upper_bound is not None:\n",
    "    selected_inds = series[series < upper_bound].index\n",
    "    print(f'[Upper bound: {upper_bound:.3f}] ',sep='')\n",
    "  if lower_bound is not None:\n",
    "    selected_inds = series[series > lower_bound].index\n",
    "    print(f'[Lower bound: {lower_bound:.3f}] ',sep='')\n",
    "\n",
    "  sub_df = tmp_df.loc[selected_inds]\n",
    "\n",
    "  model_error = (sub_df['final score']-sub_df['model']).abs()\n",
    "  results = {'MODEL L1':model_error.mean()}\n",
    "  for baseline in ['mean','last','xgb']:\n",
    "    baseline_error = (sub_df['final score']-sub_df[baseline]).abs()\n",
    "    succ_fraction = (model_error < baseline_error).mean()\n",
    "    print( f\"Model outperforms {baseline} in {succ_fraction*100:.1f}% of all cases\")\n",
    "    print( f\"Model error: {model_error.mean():.3f}\\t Baseline error: {baseline_error.mean():.3f}\")\n",
    "    results[baseline] = {f'M outp. {baseline.upper()} (%)': succ_fraction,\n",
    "                         f'{baseline.upper()} L1': baseline_error.mean() }\n",
    "\n",
    "  print(f\"Cases: {len(selected_inds)}\\n\\n\")\n",
    "  return results\n",
    "\n",
    "n=len(fluctuation_series)\n",
    "upper_bound=fluctuation_series.sort_values().iloc[int(0.05*n)]\n",
    "lower_bound=fluctuation_series.sort_values().iloc[int(0.95*n)]\n",
    "\n",
    "extreme_stats = {}\n",
    "\n",
    "print('XXXX Fluctuation from previous comment: <5-th and >95-th percentile')\n",
    "extreme_stats['EmT shift $>$ 95th perc.'] = get_error_stats(fluctuation_series, lower_bound=lower_bound)\n",
    "extreme_stats['EmT shift $>$ +1.0'] = get_error_stats(fluctuation_series, lower_bound=1.)\n",
    "extreme_stats['Final EmT $>$ +0.8'] = get_error_stats(tmp_df['final score'], lower_bound=.8)\n",
    "\n",
    "extreme_stats['EmT shift $<$  5th perc.'] = get_error_stats(fluctuation_series, upper_bound=upper_bound)\n",
    "extreme_stats['EmT shift $<$ -1.0'] = get_error_stats(fluctuation_series, upper_bound=-1.)\n",
    "extreme_stats['Final EmT $<$ -0.8'] = get_error_stats(tmp_df['final score'], upper_bound=-.8)\n",
    "\n",
    "print('XXX Fluctuation from previous comment: <-0.5 and >0.5')\n",
    "\n",
    "print('XXX Final score: <0.1 and >0.9')\n"
   ]
  },
  {
   "cell_type": "code",
   "execution_count": null,
   "metadata": {
    "colab": {
     "base_uri": "https://localhost:8080/",
     "height": 227
    },
    "id": "iQAmJYNOkJow",
    "outputId": "794b53ac-3c4e-497a-916b-92ce91a75b4a"
   },
   "outputs": [
    {
     "data": {
      "text/html": [
       "<div>\n",
       "<style scoped>\n",
       "    .dataframe tbody tr th:only-of-type {\n",
       "        vertical-align: middle;\n",
       "    }\n",
       "\n",
       "    .dataframe tbody tr th {\n",
       "        vertical-align: top;\n",
       "    }\n",
       "\n",
       "    .dataframe thead th {\n",
       "        text-align: right;\n",
       "    }\n",
       "</style>\n",
       "<table border=\"1\" class=\"dataframe\">\n",
       "  <thead>\n",
       "    <tr style=\"text-align: right;\">\n",
       "      <th></th>\n",
       "      <th>MODEL L1</th>\n",
       "      <th>MEAN L1</th>\n",
       "      <th>LAST L1</th>\n",
       "      <th>XGB-MSE L1</th>\n",
       "      <th>M outp. MEAN (%)</th>\n",
       "      <th>M outp. LAST (%)</th>\n",
       "      <th>M outp. XGB-MSE (%)</th>\n",
       "    </tr>\n",
       "  </thead>\n",
       "  <tbody>\n",
       "    <tr>\n",
       "      <th>EmT shift $&gt;$ 95th perc.</th>\n",
       "      <td>0.522</td>\n",
       "      <td>0.676</td>\n",
       "      <td>0.521</td>\n",
       "      <td>0.499</td>\n",
       "      <td>71.1</td>\n",
       "      <td>50.8</td>\n",
       "      <td>51.4</td>\n",
       "    </tr>\n",
       "    <tr>\n",
       "      <th>EmT shift $&gt;$ +1.0</th>\n",
       "      <td>0.583</td>\n",
       "      <td>0.743</td>\n",
       "      <td>0.544</td>\n",
       "      <td>0.536</td>\n",
       "      <td>68.7</td>\n",
       "      <td>46.4</td>\n",
       "      <td>48.8</td>\n",
       "    </tr>\n",
       "    <tr>\n",
       "      <th>Final EmT $&gt;$ +0.8</th>\n",
       "      <td>0.469</td>\n",
       "      <td>0.788</td>\n",
       "      <td>0.668</td>\n",
       "      <td>0.685</td>\n",
       "      <td>89.1</td>\n",
       "      <td>73.1</td>\n",
       "      <td>78.2</td>\n",
       "    </tr>\n",
       "    <tr>\n",
       "      <th>EmT shift $&lt;$  5th perc.</th>\n",
       "      <td>0.426</td>\n",
       "      <td>0.558</td>\n",
       "      <td>0.563</td>\n",
       "      <td>0.610</td>\n",
       "      <td>61.3</td>\n",
       "      <td>60.6</td>\n",
       "      <td>65.4</td>\n",
       "    </tr>\n",
       "    <tr>\n",
       "      <th>EmT shift $&lt;$ -1.0</th>\n",
       "      <td>0.440</td>\n",
       "      <td>0.835</td>\n",
       "      <td>0.806</td>\n",
       "      <td>0.825</td>\n",
       "      <td>84.6</td>\n",
       "      <td>76.9</td>\n",
       "      <td>84.6</td>\n",
       "    </tr>\n",
       "    <tr>\n",
       "      <th>Final EmT $&lt;$ -0.8</th>\n",
       "      <td>0.403</td>\n",
       "      <td>0.819</td>\n",
       "      <td>0.887</td>\n",
       "      <td>0.956</td>\n",
       "      <td>88.9</td>\n",
       "      <td>88.9</td>\n",
       "      <td>93.3</td>\n",
       "    </tr>\n",
       "  </tbody>\n",
       "</table>\n",
       "</div>"
      ],
      "text/plain": [
       "                          MODEL L1  ...  M outp. XGB-MSE (%)\n",
       "EmT shift $>$ 95th perc.     0.522  ...                 51.4\n",
       "EmT shift $>$ +1.0           0.583  ...                 48.8\n",
       "Final EmT $>$ +0.8           0.469  ...                 78.2\n",
       "EmT shift $<$  5th perc.     0.426  ...                 65.4\n",
       "EmT shift $<$ -1.0           0.440  ...                 84.6\n",
       "Final EmT $<$ -0.8           0.403  ...                 93.3\n",
       "\n",
       "[6 rows x 7 columns]"
      ]
     },
     "execution_count": 40,
     "metadata": {
      "tags": []
     },
     "output_type": "execute_result"
    }
   ],
   "source": [
    "extreme_df = pd.DataFrame.from_dict(extreme_stats, orient='index')\n",
    "extreme_df = pd.concat((extreme_df,extreme_df['mean'].apply(pd.Series),extreme_df['last'].apply(pd.Series),extreme_df['xgb'].apply(pd.Series)), axis=1).drop(columns=['last','mean','xgb'])\n",
    "#extreme_df[['MEAN L1','MODEL L1','LAST L1','XGB L1']] = extreme_df[['MEAN L1','MODEL L1','LAST L1']].multiply(2)\n",
    "extreme_df = extreme_df.round(3)\n",
    "extreme_df['M outp. MEAN (%)'] = extreme_df['M outp. MEAN (%)']*100\n",
    "extreme_df['M outp. LAST (%)'] = extreme_df['M outp. LAST (%)']*100\n",
    "extreme_df['M outp. XGB (%)'] = extreme_df['M outp. XGB (%)']*100\n",
    "\n",
    "new_columns = [extreme_df.columns[ix] for ix in [0,2,4,6,1,3,5]] \n",
    "extreme_df = extreme_df[new_columns]\n",
    "extreme_df"
   ]
  },
  {
   "cell_type": "code",
   "execution_count": null,
   "metadata": {
    "colab": {
     "base_uri": "https://localhost:8080/"
    },
    "id": "fFmXodVuxbd6",
    "outputId": "4d2d3515-d885-4dc2-be50-05d9853a42d6"
   },
   "outputs": [
    {
     "data": {
      "text/plain": [
       "[<function __main__.<lambda>>,\n",
       " <function __main__.<lambda>>,\n",
       " <function __main__.<lambda>>,\n",
       " <function __main__.<lambda>>,\n",
       " <function __main__.<lambda>>,\n",
       " <function __main__.<lambda>>,\n",
       " <function __main__.<lambda>>]"
      ]
     },
     "execution_count": 89,
     "metadata": {
      "tags": []
     },
     "output_type": "execute_result"
    }
   ],
   "source": [
    "formatters = []\n",
    "for ix, column in enumerate(extreme_df.columns):\n",
    "  formatters.append(lambda x, column_ix=ix: '\\\\textbf{%s}'%( ('%.1f' % float(x)).lstrip('0') ) if (column_ix >=3 and x > 50) else ('%.3f'% float(x)).lstrip('0') )\n",
    "formatters"
   ]
  },
  {
   "cell_type": "code",
   "execution_count": null,
   "metadata": {
    "colab": {
     "base_uri": "https://localhost:8080/"
    },
    "id": "axdxkJRsp8NR",
    "outputId": "58f9b969-ea73-418a-8d32-5f65449bf3df"
   },
   "outputs": [
    {
     "name": "stdout",
     "output_type": "stream",
     "text": [
      "\\begin{table}\n",
      "\\centering\n",
      "\\caption{Performance on extreme values. Central columns show L1 error for \\textsc{Mean}, \\textsc{Model} and \\textsc{Last}. First (last) column show fraction of cases (selected from test set according to row description) where \\textsc{Model} outperforms \\textsc{Mean} (\\textsc{Last}). For extremely positive shifts, \\textsc{Last} performs best because a large improvement is often preceded by a very positive comment. For extremely negative shifts, \\textsc{Model} performs best.}\n",
      "\\label{tab:extreme_values}\n",
      "\\begin{tabular}{l|rrrr|ccc}\n",
      "\\toprule\n",
      "{} & MODEL L1 & MEAN L1 & LAST L1 & XGB-MSE L1 & M outp. MEAN (%) & M outp. LAST (%) & M outp. XGB-MSE (%) \\\\\n",
      "\\midrule\n",
      "EmT shift $>$ 95th perc. &     .522 &    .676 &    .521 &       .497 &    \\textbf{71.1} &    \\textbf{50.8} &       \\textbf{51.7} \\\\\n",
      "EmT shift $>$ +1.0       &     .583 &    .743 &    .544 &       .531 &    \\textbf{68.7} &           46.400 &              48.800 \\\\\n",
      "Final EmT $>$ +0.8       &     .469 &    .788 &    .668 &       .685 &    \\textbf{89.1} &    \\textbf{73.1} &       \\textbf{77.3} \\\\\n",
      "EmT shift $<$  5th perc. &     .426 &    .558 &    .563 &       .614 &    \\textbf{61.3} &    \\textbf{60.6} &       \\textbf{66.3} \\\\\n",
      "EmT shift $<$ -1.0       &     .440 &    .835 &    .806 &       .825 &    \\textbf{84.6} &    \\textbf{76.9} &       \\textbf{84.6} \\\\\n",
      "Final EmT $<$ -0.8       &     .403 &    .819 &    .887 &       .960 &    \\textbf{88.9} &    \\textbf{88.9} &       \\textbf{93.3} \\\\\n",
      "\\bottomrule\n",
      "\\end{tabular}\n",
      "\\end{table}\n",
      "\n"
     ]
    }
   ],
   "source": [
    "print(extreme_df.to_latex(\n",
    "    column_format='l|rrrr|ccc',  escape=False, label='tab:extreme_values', formatters=formatters,\n",
    "    caption='Performance on extreme values. Central columns show L1 error for \\\\textsc{Mean}, \\\\textsc{Model} and \\\\textsc{Last}. '+\n",
    "    'First (last) column show fraction of cases (selected from test set according to row description) where \\\\textsc{Model} outperforms '+\n",
    "    '\\\\textsc{Mean} (\\\\textsc{Last}). For extremely positive shifts, \\\\textsc{Last} performs best because a large improvement is often '+\n",
    "    'preceded by a very positive comment. For extremely negative shifts, \\\\textsc{Model} performs best.'))"
   ]
  },
  {
   "cell_type": "code",
   "execution_count": null,
   "metadata": {
    "id": "9huinO6ZwFzK"
   },
   "outputs": [],
   "source": [
    "for ind in large_change_inds:\n",
    "  print(ind, branch_data[ind])\n",
    "  index, _, bx = branch_data[ind]\n",
    "  b = post_df.loc[index].valid_branches[bx]\n",
    "  print(index, bx, b)\n",
    "  print(post_df.loc[index].features[b,-2])\n",
    "  print(post_df.loc[index].features[b,-1])\n"
   ]
  },
  {
   "cell_type": "code",
   "execution_count": null,
   "metadata": {
    "id": "wLxXDy4duJaY"
   },
   "outputs": [],
   "source": [
    "for pred_column_name in pred_column_names:\n",
    "  test_loss[pred_column_name] = compute_error(tmp_df.iloc[large_change_inds], pred_column_name, criteria)\n",
    "pd.DataFrame.from_dict(test_loss, orient='index').round(3)"
   ]
  },
  {
   "cell_type": "code",
   "execution_count": null,
   "metadata": {
    "id": "aqPcSjZ4OP3r"
   },
   "outputs": [],
   "source": [
    "attn_weights = attn_weights.squeeze(1).cpu().numpy()"
   ]
  },
  {
   "cell_type": "code",
   "execution_count": null,
   "metadata": {
    "id": "fnvgR6XjPJs5"
   },
   "outputs": [],
   "source": [
    "count_nz = np.count_nonzero( attn_weights,  axis=1)"
   ]
  },
  {
   "cell_type": "code",
   "execution_count": null,
   "metadata": {
    "id": "h1fkn23wCbfH"
   },
   "outputs": [],
   "source": [
    "attn_weights_sorted = -np.sort(-attn_weights, axis=1)\n",
    "imbalance = (attn_weights_sorted[:,0]-attn_weights_sorted[:,1])\n",
    "imbalance_index = np.argsort(-imbalance)\n",
    "imbalance_index[0]"
   ]
  },
  {
   "cell_type": "code",
   "execution_count": null,
   "metadata": {
    "id": "s96tEQ1cQb4f"
   },
   "outputs": [],
   "source": [
    "X = np.vstack((pred_error,imbalance,initial_scores,y,yhat,te_diff, count_nz))\n",
    "X = X.T\n",
    "tmp_df = pd.DataFrame(X, columns=['pred_error','imbalance','initial_score','final_score','prediction','te_diff', 'count_nz'], index=post_ids)\n",
    "tmp_df.tail()"
   ]
  },
  {
   "cell_type": "code",
   "execution_count": null,
   "metadata": {
    "id": "Z3N8Vsgk0yON"
   },
   "outputs": [],
   "source": [
    "pred_error = np.absolute(z[:,0]-z[:,1])\n",
    "cost = pred_error-2*imbalance.cpu().numpy()-0.6*np.absolute(z[:,1])-0.1*(attn_weights[:,0,2].cpu().numpy()>0)\n",
    "index_array = np.argsort(cost)\n",
    "index_array[:10]"
   ]
  },
  {
   "cell_type": "code",
   "execution_count": null,
   "metadata": {
    "id": "Bw2bZTtWDwpk"
   },
   "outputs": [],
   "source": [
    "index = index_array[2]\n",
    "print(z[index])\n",
    "attn_weights[index]"
   ]
  },
  {
   "cell_type": "code",
   "execution_count": null,
   "metadata": {
    "id": "OYnM5XNmBk5e"
   },
   "outputs": [],
   "source": [
    "post_id = post_ids[index]\n",
    "post=post_df.loc[post_id]\n",
    "print(post)\n",
    "#pprint.pprint(post['text'])"
   ]
  },
  {
   "cell_type": "code",
   "execution_count": null,
   "metadata": {
    "id": "HeHcA6DXK9Xt"
   },
   "outputs": [],
   "source": [
    "comment = comment_df.loc[post_df.loc[post_id,'comments'][7]]\n",
    "print(comment) \n",
    "pprint.pprint(comment['text'])"
   ]
  },
  {
   "cell_type": "markdown",
   "metadata": {
    "id": "8B3WB_yOr20w"
   },
   "source": [
    "## **8**. No Thanks!"
   ]
  },
  {
   "cell_type": "markdown",
   "metadata": {
    "id": "W7mF3ORElR7b"
   },
   "source": [
    "## Plotting functions\n"
   ]
  },
  {
   "cell_type": "code",
   "execution_count": null,
   "metadata": {
    "colab": {
     "base_uri": "https://localhost:8080/",
     "height": 419
    },
    "executionInfo": {
     "elapsed": 774,
     "status": "ok",
     "timestamp": 1617889625802,
     "user": {
      "displayName": "Henrique Silva",
      "photoUrl": "https://lh3.googleusercontent.com/a-/AOh14Gh0sTZzx8mKsKV9-j3HdK09d6njRJoJnyBA8jbau1I=s64",
      "userId": "15429421149160718308"
     },
     "user_tz": 180
    },
    "id": "BHt8saMdvHXS",
    "outputId": "374056ce-f404-44b7-d860-6ce9aeb5013c"
   },
   "outputs": [
    {
     "data": {
      "text/html": [
       "<div>\n",
       "<style scoped>\n",
       "    .dataframe tbody tr th:only-of-type {\n",
       "        vertical-align: middle;\n",
       "    }\n",
       "\n",
       "    .dataframe tbody tr th {\n",
       "        vertical-align: top;\n",
       "    }\n",
       "\n",
       "    .dataframe thead th {\n",
       "        text-align: right;\n",
       "    }\n",
       "</style>\n",
       "<table border=\"1\" class=\"dataframe\">\n",
       "  <thead>\n",
       "    <tr style=\"text-align: right;\">\n",
       "      <th></th>\n",
       "      <th>unchanged</th>\n",
       "      <th>final score</th>\n",
       "      <th>thread ncom</th>\n",
       "      <th>mean</th>\n",
       "      <th>last</th>\n",
       "      <th>model</th>\n",
       "      <th>xgb-mse</th>\n",
       "      <th>xgb</th>\n",
       "    </tr>\n",
       "  </thead>\n",
       "  <tbody>\n",
       "    <tr>\n",
       "      <th>10</th>\n",
       "      <td>-0.130042</td>\n",
       "      <td>-0.467600</td>\n",
       "      <td>2</td>\n",
       "      <td>0.090412</td>\n",
       "      <td>0.154450</td>\n",
       "      <td>0.341191</td>\n",
       "      <td>0.177147</td>\n",
       "      <td>0.177147</td>\n",
       "    </tr>\n",
       "    <tr>\n",
       "      <th>17</th>\n",
       "      <td>0.523211</td>\n",
       "      <td>0.072975</td>\n",
       "      <td>5</td>\n",
       "      <td>0.504602</td>\n",
       "      <td>0.137519</td>\n",
       "      <td>0.533828</td>\n",
       "      <td>0.526253</td>\n",
       "      <td>0.526253</td>\n",
       "    </tr>\n",
       "    <tr>\n",
       "      <th>20</th>\n",
       "      <td>0.058143</td>\n",
       "      <td>-0.100950</td>\n",
       "      <td>3</td>\n",
       "      <td>0.193499</td>\n",
       "      <td>0.130650</td>\n",
       "      <td>0.427484</td>\n",
       "      <td>0.381440</td>\n",
       "      <td>0.381440</td>\n",
       "    </tr>\n",
       "    <tr>\n",
       "      <th>34</th>\n",
       "      <td>-0.126900</td>\n",
       "      <td>0.036950</td>\n",
       "      <td>5</td>\n",
       "      <td>0.013639</td>\n",
       "      <td>0.036950</td>\n",
       "      <td>0.241738</td>\n",
       "      <td>-0.100567</td>\n",
       "      <td>-0.100567</td>\n",
       "    </tr>\n",
       "    <tr>\n",
       "      <th>46</th>\n",
       "      <td>-0.142029</td>\n",
       "      <td>-0.274950</td>\n",
       "      <td>4</td>\n",
       "      <td>0.107043</td>\n",
       "      <td>-0.136600</td>\n",
       "      <td>0.383980</td>\n",
       "      <td>0.390274</td>\n",
       "      <td>0.390274</td>\n",
       "    </tr>\n",
       "    <tr>\n",
       "      <th>...</th>\n",
       "      <td>...</td>\n",
       "      <td>...</td>\n",
       "      <td>...</td>\n",
       "      <td>...</td>\n",
       "      <td>...</td>\n",
       "      <td>...</td>\n",
       "      <td>...</td>\n",
       "      <td>...</td>\n",
       "    </tr>\n",
       "    <tr>\n",
       "      <th>63083</th>\n",
       "      <td>0.088600</td>\n",
       "      <td>-0.076933</td>\n",
       "      <td>6</td>\n",
       "      <td>0.078371</td>\n",
       "      <td>-0.294600</td>\n",
       "      <td>-0.222280</td>\n",
       "      <td>-0.129750</td>\n",
       "      <td>-0.129750</td>\n",
       "    </tr>\n",
       "    <tr>\n",
       "      <th>63093</th>\n",
       "      <td>0.154550</td>\n",
       "      <td>0.000000</td>\n",
       "      <td>8</td>\n",
       "      <td>0.041031</td>\n",
       "      <td>-0.002800</td>\n",
       "      <td>-0.477948</td>\n",
       "      <td>-0.540553</td>\n",
       "      <td>-0.540553</td>\n",
       "    </tr>\n",
       "    <tr>\n",
       "      <th>63099</th>\n",
       "      <td>-0.190156</td>\n",
       "      <td>0.560600</td>\n",
       "      <td>3</td>\n",
       "      <td>0.374593</td>\n",
       "      <td>0.185833</td>\n",
       "      <td>-0.041443</td>\n",
       "      <td>0.199567</td>\n",
       "      <td>0.199567</td>\n",
       "    </tr>\n",
       "    <tr>\n",
       "      <th>63102</th>\n",
       "      <td>-0.275480</td>\n",
       "      <td>-0.284600</td>\n",
       "      <td>5</td>\n",
       "      <td>0.211514</td>\n",
       "      <td>0.202300</td>\n",
       "      <td>-0.512492</td>\n",
       "      <td>0.055188</td>\n",
       "      <td>0.055188</td>\n",
       "    </tr>\n",
       "    <tr>\n",
       "      <th>63104</th>\n",
       "      <td>-0.947600</td>\n",
       "      <td>-0.083638</td>\n",
       "      <td>16</td>\n",
       "      <td>-0.366783</td>\n",
       "      <td>-0.251340</td>\n",
       "      <td>0.050531</td>\n",
       "      <td>-0.542484</td>\n",
       "      <td>-0.542484</td>\n",
       "    </tr>\n",
       "  </tbody>\n",
       "</table>\n",
       "<p>6311 rows × 8 columns</p>\n",
       "</div>"
      ],
      "text/plain": [
       "       unchanged  final score  thread ncom  ...     model   xgb-mse       xgb\n",
       "10     -0.130042    -0.467600            2  ...  0.341191  0.177147  0.177147\n",
       "17      0.523211     0.072975            5  ...  0.533828  0.526253  0.526253\n",
       "20      0.058143    -0.100950            3  ...  0.427484  0.381440  0.381440\n",
       "34     -0.126900     0.036950            5  ...  0.241738 -0.100567 -0.100567\n",
       "46     -0.142029    -0.274950            4  ...  0.383980  0.390274  0.390274\n",
       "...          ...          ...          ...  ...       ...       ...       ...\n",
       "63083   0.088600    -0.076933            6  ... -0.222280 -0.129750 -0.129750\n",
       "63093   0.154550     0.000000            8  ... -0.477948 -0.540553 -0.540553\n",
       "63099  -0.190156     0.560600            3  ... -0.041443  0.199567  0.199567\n",
       "63102  -0.275480    -0.284600            5  ... -0.512492  0.055188  0.055188\n",
       "63104  -0.947600    -0.083638           16  ...  0.050531 -0.542484 -0.542484\n",
       "\n",
       "[6311 rows x 8 columns]"
      ]
     },
     "execution_count": 49,
     "metadata": {
      "tags": []
     },
     "output_type": "execute_result"
    }
   ],
   "source": [
    "tmp_df"
   ]
  },
  {
   "cell_type": "code",
   "execution_count": null,
   "metadata": {
    "id": "7SKOtQxZs7hs"
   },
   "outputs": [],
   "source": [
    "from matplotlib import colors\n",
    "from matplotlib.ticker import PercentFormatter"
   ]
  },
  {
   "cell_type": "code",
   "execution_count": null,
   "metadata": {
    "id": "0dIXmXSWklQc"
   },
   "outputs": [],
   "source": [
    "def calculate_KDF(fluctuations_df):\n",
    "\n",
    "    x = fluctuations_df['score_before'].to_numpy(dtype=float)\n",
    "    y = fluctuations_df['score_after'].to_numpy(dtype=float)\n",
    "    xmin = x.min()\n",
    "    xmax = x.max()\n",
    "    ymin = y.min()\n",
    "    ymax = y.max() \n",
    "    # X, Y = np.mgrid[xmin:xmax:100j, ymin:ymax:100j]\n",
    "    X, Y = np.mgrid[xmin:xmax:40j, ymin:ymax:40j]\n",
    "    positions = np.vstack([X.ravel(), Y.ravel()])\n",
    "    values = np.vstack([x, y])\n",
    "    kernel = stats.gaussian_kde(values)\n",
    "    Z = np.reshape(kernel(positions).T, X.shape)\n",
    "    return Z"
   ]
  },
  {
   "cell_type": "code",
   "execution_count": null,
   "metadata": {
    "id": "F72xvLTPsGn-"
   },
   "outputs": [],
   "source": [
    "def plot_score_dist(scores,title,n_bins=20,log_y=False):\n",
    "    N = len(scores)\n",
    "    fig, axs = plt.subplots(1,N, tight_layout=True,figsize=(5 * N,3),sharey=True)\n",
    "\n",
    "    # N, bins, patches = axs[0].hist(scores, bins=n_bins)\n",
    "\n",
    "    # axs[0].set_title(f\"Emotional Tone Histogram ({title})\")\n",
    "    # axs[0].set_xlabel(\"EmT\")\n",
    "    # axs[0].set_ylabel(f\"Number of posts and comments\")\n",
    "    # axs[0].axvline(color='k',linestyle='dashed')\n",
    "    # axs[1].set_title(f\"Emotional Tone Histogram ({title})\")\n",
    "    # axs[1].set_xlabel(\"EmT\")\n",
    "    # axs[1].set_ylabel(f\"Number of posts and comments\")\n",
    "    # axs[1].axvline(color='k',linestyle='dashed')\n",
    "    if type(axs) != type(np.array(0)):\n",
    "        axs = [axs]\n",
    "    for ind,ax in enumerate(axs):\n",
    "        N, bins, patches = ax.hist(scores[ind], bins=n_bins)\n",
    "        ax.set_title(f\"Emotional Tone Histogram ({title[ind]})\")\n",
    "        ax.set_xlabel(r\"$\\Delta EmT$\")\n",
    "        if ind == 0:\n",
    "            ax.set_ylabel(f\"Number of posts\")\n",
    "        ax.axvline(color='k',linestyle='dashed')\n",
    "        if (log_y):\n",
    "            ax.set_yscale(\"log\")\n",
    "\n",
    "\n"
   ]
  },
  {
   "cell_type": "code",
   "execution_count": null,
   "metadata": {
    "id": "RDew2nE8bLia"
   },
   "outputs": [],
   "source": [
    "def plot_fluctuations(fluctuations_df,Z,explanation='w.r.t comments and posts that deviate'):\n",
    "    x = fluctuations_df['score_before_x'].to_numpy(dtype=float)\n",
    "    y = fluctuations_df['score_after_y'].to_numpy(dtype=float)\n",
    "    xmin = x.min()\n",
    "    xmax = x.max()\n",
    "    ymin = y.min()\n",
    "    ymax = y.max() \n",
    "    fig, ax = plt.subplots(1,1,figsize=(5,5))\n",
    "    ax.imshow(np.rot90(Z), cmap=plt.cm.gist_earth_r,\n",
    "            extent=[xmin, xmax, ymin, ymax])\n",
    "    #ax.plot(x, y, 'k.', markersize=2)\n",
    "    ax.set_xlim([xmin, xmax])\n",
    "\n",
    "    ax.set_ylim([ymin, ymax])\n",
    "\n",
    "    plt.plot([0,0],[-1,1],'dimgray',linestyle='dotted')\n",
    "    plt.plot([-1,1],[0,0],'dimgray',linestyle='dotted')\n",
    "    plt.plot([-1,1],[-1,1],'dimgray',label='y = x',linestyle='dashed')\n",
    "    legend = ax.legend(loc='upper left', shadow=True, fontsize='medium')\n",
    "    # ax.scatter(x[:50], y[:50], c='k', s=5, edgecolor='')\n",
    "    # legend.get_frame().set_facecolor('C0')\n",
    "    plt.xlabel(\"EmT before removing Etiquette words\")\n",
    "    plt.ylabel(\"EmT after removing Etiquette words\")\n",
    "    plt.title(f\"Distribution of EmT before vs after ({explanation})\")\n",
    "    plt.show()"
   ]
  },
  {
   "cell_type": "markdown",
   "metadata": {
    "id": "-o3aK1_zlUbi"
   },
   "source": [
    "## Data Analysis"
   ]
  },
  {
   "cell_type": "code",
   "execution_count": null,
   "metadata": {
    "id": "tPe8Q9V_hRjZ"
   },
   "outputs": [],
   "source": [
    "def get_fluct_df(post_df,scores,suffix,save_files=True):\n",
    "    score_fluctuations_df = pd.DataFrame(index=list(range(len(scores))),columns=['id','score_before','score_after'])\n",
    "    curr_idx = 0\n",
    "    for post in tqdm(range(post_df.shape[0])):\n",
    "        curr_iloc = post_df.iloc[post]\n",
    "        if suffix == \"_before\":\n",
    "            score_fluctuations_df.iloc[curr_idx] = [curr_iloc.name[1],curr_iloc.score[0],0]\n",
    "        else:\n",
    "             score_fluctuations_df.iloc[curr_idx] = [curr_iloc.name[1],0,curr_iloc.score[0]]\n",
    "        comment_idx = 1\n",
    "        for comment in curr_iloc.comments[:(curr_iloc.seq_len - 1)]:\n",
    "            score_fluctuations_df.iloc[curr_idx + comment_idx] = [comment,0,curr_iloc.score[comment_idx]]\n",
    "            comment_idx += 1\n",
    "        curr_idx += comment_idx\n",
    "\n",
    "    post_only_df = pd.DataFrame(index=list(range(len(post_df))),columns=['id','post_score_before','post_score_after'])\n",
    "    if suffix == \"_before\":\n",
    "        for post in tqdm(range(len(post_df))):\n",
    "            post_only_df.iloc[post] = [post_df.iloc[post].name[1],post_df.iloc[post].score[0],0]\n",
    "    else:\n",
    "        for post in tqdm(range(len(post_df))):\n",
    "            post_only_df.iloc[post] = [post_df.iloc[post].name[1],0,post_df.iloc[post].score[0]]\n",
    "\n",
    "    if save_files:\n",
    "        post_only_df.to_pickle(DATADIR + f\"post_only_fluct{suffix}.pkl\")\n",
    "        score_fluctuations_df.to_pickle(DATADIR + f\"score_fluct{suffix}.pkl\")\n",
    "    return score_fluctuations_df,post_only_df"
   ]
  },
  {
   "cell_type": "code",
   "execution_count": null,
   "metadata": {
    "id": "ih32JuUQsb_O"
   },
   "outputs": [],
   "source": [
    "CREATE_NO_THX_SCORES = False\n",
    "CREATE_THX_SCORES = False"
   ]
  },
  {
   "cell_type": "code",
   "execution_count": null,
   "metadata": {
    "id": "ZNyCIkp1r-OA"
   },
   "outputs": [],
   "source": [
    "if CREATE_NO_THX_SCORES:  \n",
    "    no_thx_scores = []\n",
    "    for post in tqdm(range(post_df.shape[0])):\n",
    "        no_thx_scores.append(post_df.iloc[post].score[:post_df.iloc[post].seq_len])\n",
    "    no_thx_scores = list(itertools.chain.from_iterable(no_thx_scores))\n",
    "    pickle.dump(no_thx_scores,open(DATADIR  + 'no_thx_scores.pkl','wb'))\n",
    "else:\n",
    "    no_thx_scores = pickle.load(open(DATADIR  + 'no_thx_scores.pkl','rb'))\n"
   ]
  },
  {
   "cell_type": "code",
   "execution_count": null,
   "metadata": {
    "id": "xm9vSvvps-ic"
   },
   "outputs": [],
   "source": [
    "if CREATE_THX_SCORES:  \n",
    "    thx_scores = []\n",
    "    for post in range(post_df.shape[0]):\n",
    "        thx_scores.append(post_df.iloc[post].score[:post_df.iloc[post].seq_len])\n",
    "    thx_scores = list(itertools.chain.from_iterable(thx_scores))\n",
    "    pickle.dump(thx_scores,open(DATADIR + \"no_thx_2017/\" 'thx_scores.pkl','wb'))\n",
    "else:\n",
    "    thx_scores = pickle.load(open(DATADIR  + 'thx_scores.pkl','rb'))"
   ]
  },
  {
   "cell_type": "code",
   "execution_count": null,
   "metadata": {
    "colab": {
     "base_uri": "https://localhost:8080/",
     "height": 225
    },
    "executionInfo": {
     "elapsed": 1009,
     "status": "ok",
     "timestamp": 1617652598905,
     "user": {
      "displayName": "Henrique Silva",
      "photoUrl": "https://lh3.googleusercontent.com/a-/AOh14Gh0sTZzx8mKsKV9-j3HdK09d6njRJoJnyBA8jbau1I=s64",
      "userId": "15429421149160718308"
     },
     "user_tz": 180
    },
    "id": "3WlsXBQ_sSxi",
    "outputId": "edd7d148-0333-4cb8-a2c7-5b162a2fcb1d"
   },
   "outputs": [
    {
     "data": {
      "image/png": "[encoded data removed]",
      "text/plain": [
       "<Figure size 360x216 with 1 Axes>"
      ]
     },
     "metadata": {
      "tags": []
     },
     "output_type": "display_data"
    }
   ],
   "source": [
    "plot_score_dist([thx_scores],title=['filtered','unfiltered'],n_bins=20)"
   ]
  },
  {
   "cell_type": "code",
   "execution_count": null,
   "metadata": {
    "id": "v4n9TdpeHW9a"
   },
   "outputs": [],
   "source": [
    "# POSTS + COMMENTS\n",
    "STEP_1 = False\n",
    "STEP_2 = True\n",
    "if STEP_1:\n",
    "    CREATE_FLUCTUATIONS_DF = False\n",
    "    if DATADIR == BASEDIR+'data/':\n",
    "        suffix = \"_before\"\n",
    "        scores = thx_scores\n",
    "    else:\n",
    "        suffix = \"_after\"\n",
    "        scores = no_thx_scores\n",
    "\n",
    "    if CREATE_FLUCTUATIONS_DF:\n",
    "        score_df,post_only_df = get_fluct_df(post_df,scores,suffix)\n",
    "    else:\n",
    "        score_df_after = pickle.load(open(DATADIR  + f\"score_fluct_after.pkl\",'rb'))\n",
    "        score_df_before = pickle.load(open(DATADIR  + f\"score_fluct_before.pkl\",'rb'))\n",
    "        post_only_df_after = pickle.load(open(DATADIR  + f\"post_only_fluct_after.pkl\",'rb'))\n",
    "        post_only_df_before = pickle.load(open(DATADIR  + f\"post_only_fluct_before.pkl\",'rb'))\n",
    "if STEP_2:\n",
    "    CONCATENATE_DFS = False\n",
    "    if CONCATENATE_DFS:\n",
    "        final_score_df = pd.merge(score_df_before,score_df_after,how='inner',on=['id'])\n",
    "        final_score_df.drop(['score_after_x'],axis=1,inplace=True)\n",
    "        final_score_df.drop(['score_before_y'],axis=1,inplace=True)\n",
    "\n",
    "        final_post_only_df = pd.merge(post_only_df_before,post_only_df_after,how='inner',on=['id'])\n",
    "        final_post_only_df.drop(['post_score_after_x'],axis=1,inplace=True)\n",
    "        final_post_only_df.drop(['post_score_before_y'],axis=1,inplace=True)\n",
    "\n",
    "        final_score_df.to_pickle(DATADIR + \"final_score_fluct_df.pkl\")\n",
    "        final_post_only_df.to_pickle(DATADIR + \"final_post_fluct_df.pkl\")\n",
    "    else:\n",
    "        post_only_df = pd.read_pickle(DATADIR + \"final_post_fluct_df.pkl\")\n",
    "        score_fluct_df = pd.read_pickle(DATADIR + \"final_score_fluct_df.pkl\")"
   ]
  },
  {
   "cell_type": "code",
   "execution_count": null,
   "metadata": {
    "id": "V_EJ1oKTaDkr"
   },
   "outputs": [],
   "source": [
    "#sanity check\n",
    "post_counter = 0\n",
    "for i in tqdm(range(len(score_fluct_df))):\n",
    "    if score_fluct_df.iloc[i].id[0] != 'd': # 'd' indicates that the author is a commenter\n",
    "        try:\n",
    "            assert (post_only_df.iloc[post_counter].post_score_before_x == score_fluct_df.iloc[i].score_before_x)\n",
    "            assert (post_only_df.iloc[post_counter].post_score_after_y == score_fluct_df.iloc[i].score_after_y)\n",
    "        except AssertionError:\n",
    "            print(post_only_df.iloc[post_counter])\n",
    "            print(score_fluct_df.iloc[i])\n",
    "        post_counter += 1\n"
   ]
  },
  {
   "cell_type": "code",
   "execution_count": null,
   "metadata": {
    "id": "7JiTp-h8Zs97"
   },
   "outputs": [],
   "source": [
    "diff_df = score_fluct_df['score_after_y'] - score_fluct_df['score_before_x']\n",
    "post_diff_df = post_only_df['post_score_after_y'] - post_only_df['post_score_before_x']"
   ]
  },
  {
   "cell_type": "code",
   "execution_count": null,
   "metadata": {
    "colab": {
     "base_uri": "https://localhost:8080/"
    },
    "executionInfo": {
     "elapsed": 966,
     "status": "ok",
     "timestamp": 1617716163114,
     "user": {
      "displayName": "Henrique Silva",
      "photoUrl": "https://lh3.googleusercontent.com/a-/AOh14Gh0sTZzx8mKsKV9-j3HdK09d6njRJoJnyBA8jbau1I=s64",
      "userId": "15429421149160718308"
     },
     "user_tz": 180
    },
    "id": "S0Ogdih4XKoW",
    "outputId": "2b8a14b7-5bdf-406c-e6cf-9563577974c8"
   },
   "outputs": [
    {
     "name": "stdout",
     "output_type": "stream",
     "text": [
      "Average deviation from original score w.r.t. to all posts/comments: -0.014846666883737956\n",
      "Percentage of posts/comments that deviated from the original score: 11.166241198651852%\n",
      "Average deviation from original score w.r.t. to posts/comments that deviate: -0.13296029182613806\n"
     ]
    }
   ],
   "source": [
    "diff_df = score_fluct_df['score_after_y'] - score_fluct_df['score_before_x']\n",
    "print(f\"Average deviation from original score w.r.t. to all posts/comments: {diff_df.sum()/diff_df.shape[0]}\")\n",
    "print(f\"Percentage of posts/comments that deviated from the original score: {(sum(diff_df != 0)/diff_df.shape[0])*100}%\")\n",
    "posts_that_deviate = diff_df[diff_df.index[diff_df != 0]]\n",
    "print(f\"Average deviation from original score w.r.t. to posts/comments that deviate: {posts_that_deviate.sum()/posts_that_deviate.shape[0]}\")"
   ]
  },
  {
   "cell_type": "code",
   "execution_count": null,
   "metadata": {
    "colab": {
     "base_uri": "https://localhost:8080/",
     "height": 225
    },
    "executionInfo": {
     "elapsed": 1338,
     "status": "ok",
     "timestamp": 1616082281956,
     "user": {
      "displayName": "Henrique Silva",
      "photoUrl": "https://lh3.googleusercontent.com/a-/AOh14Gh0sTZzx8mKsKV9-j3HdK09d6njRJoJnyBA8jbau1I=s64",
      "userId": "15429421149160718308"
     },
     "user_tz": 180
    },
    "id": "8yifYOp4gf0t",
    "outputId": "3e314bef-fc20-4cbc-8241-e18d3ca30b50"
   },
   "outputs": [
    {
     "data": {
      "image/png": "[encoded data removed]",
      "text/plain": [
       "<Figure size 360x216 with 1 Axes>"
      ]
     },
     "metadata": {
      "tags": []
     },
     "output_type": "display_data"
    }
   ],
   "source": [
    "plot_score_dist([diff_df.to_list()],title=['fluctuations'],n_bins=20)"
   ]
  },
  {
   "cell_type": "code",
   "execution_count": null,
   "metadata": {
    "id": "Kdg62dYPnUoH"
   },
   "outputs": [],
   "source": [
    "z_values_total = calculate_KDF(score_fluct_df)\n",
    "z_values_deviate = calculate_KDF(score_fluct_df.iloc[posts_that_deviate.index])"
   ]
  },
  {
   "cell_type": "code",
   "execution_count": null,
   "metadata": {
    "colab": {
     "base_uri": "https://localhost:8080/",
     "height": 685
    },
    "executionInfo": {
     "elapsed": 1373,
     "status": "ok",
     "timestamp": 1616082147019,
     "user": {
      "displayName": "Henrique Silva",
      "photoUrl": "https://lh3.googleusercontent.com/a-/AOh14Gh0sTZzx8mKsKV9-j3HdK09d6njRJoJnyBA8jbau1I=s64",
      "userId": "15429421149160718308"
     },
     "user_tz": 180
    },
    "id": "eAieuMCpVOvN",
    "outputId": "f51dfa3f-65ab-4970-cb91-f17c3b1408f9"
   },
   "outputs": [
    {
     "data": {
      "image/png": "[encoded data removed]",
      "text/plain": [
       "<Figure size 360x360 with 1 Axes>"
      ]
     },
     "metadata": {
      "tags": []
     },
     "output_type": "display_data"
    },
    {
     "data": {
      "image/png": "[encoded data removed]",
      "text/plain": [
       "<Figure size 360x360 with 1 Axes>"
      ]
     },
     "metadata": {
      "tags": []
     },
     "output_type": "display_data"
    }
   ],
   "source": [
    "plot_fluctuations(score_fluct_df,z_values_total,explanation='all comments + posts')\n",
    "plot_fluctuations(score_fluct_df.iloc[posts_that_deviate.index],z_values_deviate,explanation=r'posts + comments w/ $\\Delta EmT \\neq 0$')"
   ]
  },
  {
   "cell_type": "code",
   "execution_count": null,
   "metadata": {
    "colab": {
     "base_uri": "https://localhost:8080/"
    },
    "executionInfo": {
     "elapsed": 905,
     "status": "ok",
     "timestamp": 1616082294516,
     "user": {
      "displayName": "Henrique Silva",
      "photoUrl": "https://lh3.googleusercontent.com/a-/AOh14Gh0sTZzx8mKsKV9-j3HdK09d6njRJoJnyBA8jbau1I=s64",
      "userId": "15429421149160718308"
     },
     "user_tz": 180
    },
    "id": "45osseaIfY2i",
    "outputId": "a58de920-ed8c-4eca-9cd4-da411ab8e880"
   },
   "outputs": [
    {
     "name": "stdout",
     "output_type": "stream",
     "text": [
      "Average deviation from original score w.r.t. to all posts: -0.003976670625136681\n",
      "Percentage of posts that deviated from the original score: 10.520903628008613%\n",
      "Average deviation from original score w.r.t. to posts that deviate: -0.0377978048819879\n"
     ]
    }
   ],
   "source": [
    "post_diff_df = post_only_df['post_score_after_y'] - post_only_df['post_score_before_x']\n",
    "print(f\"Average deviation from original score w.r.t. to all posts: {post_diff_df.sum()/post_diff_df.shape[0]}\")\n",
    "print(f\"Percentage of posts that deviated from the original score: {(sum(post_diff_df != 0)/post_diff_df.shape[0])*100}%\")\n",
    "posts_only_that_deviate = post_diff_df[post_diff_df.index[post_diff_df != 0]]\n",
    "print(f\"Average deviation from original score w.r.t. to posts that deviate: {posts_only_that_deviate.sum()/posts_only_that_deviate.shape[0]}\")"
   ]
  },
  {
   "cell_type": "code",
   "execution_count": null,
   "metadata": {
    "id": "tX-YC2NFePig"
   },
   "outputs": [],
   "source": [
    "post_only_df.columns = ['id','score_before_x','score_after_y']\n",
    "post_z_values_total = calculate_KDF(post_only_df)\n",
    "post_z_values_deviate = calculate_KDF(post_only_df.iloc[posts_only_that_deviate.index])"
   ]
  },
  {
   "cell_type": "code",
   "execution_count": null,
   "metadata": {
    "colab": {
     "base_uri": "https://localhost:8080/",
     "height": 225
    },
    "executionInfo": {
     "elapsed": 1411,
     "status": "ok",
     "timestamp": 1616082334683,
     "user": {
      "displayName": "Henrique Silva",
      "photoUrl": "https://lh3.googleusercontent.com/a-/AOh14Gh0sTZzx8mKsKV9-j3HdK09d6njRJoJnyBA8jbau1I=s64",
      "userId": "15429421149160718308"
     },
     "user_tz": 180
    },
    "id": "r9L3QK-_oIMP",
    "outputId": "bca56ee9-df4f-4d88-8e09-89ca3f289cac"
   },
   "outputs": [
    {
     "data": {
      "image/png": "[encoded data removed]",
      "text/plain": [
       "<Figure size 360x216 with 1 Axes>"
      ]
     },
     "metadata": {
      "tags": []
     },
     "output_type": "display_data"
    }
   ],
   "source": [
    "plot_score_dist([post_diff_df.to_list()],n_bins=20,title=[r'fluctuations'])"
   ]
  },
  {
   "cell_type": "code",
   "execution_count": null,
   "metadata": {
    "colab": {
     "base_uri": "https://localhost:8080/",
     "height": 685
    },
    "executionInfo": {
     "elapsed": 1070,
     "status": "ok",
     "timestamp": 1616076935220,
     "user": {
      "displayName": "Henrique Silva",
      "photoUrl": "https://lh3.googleusercontent.com/a-/AOh14Gh0sTZzx8mKsKV9-j3HdK09d6njRJoJnyBA8jbau1I=s64",
      "userId": "15429421149160718308"
     },
     "user_tz": 180
    },
    "id": "a0iGop98hyaP",
    "outputId": "def7c59a-f2c8-4613-8fb2-1e056dcb2b63"
   },
   "outputs": [
    {
     "data": {
      "image/png": "[encoded data removed]",
      "text/plain": [
       "<Figure size 360x360 with 1 Axes>"
      ]
     },
     "metadata": {
      "tags": []
     },
     "output_type": "display_data"
    },
    {
     "data": {
      "image/png": "[encoded data removed]",
      "text/plain": [
       "<Figure size 360x360 with 1 Axes>"
      ]
     },
     "metadata": {
      "tags": []
     },
     "output_type": "display_data"
    }
   ],
   "source": [
    "plot_fluctuations(post_only_df,post_z_values_total,explanation='all posts')\n",
    "plot_fluctuations(post_only_df.iloc[posts_only_that_deviate.index],post_z_values_deviate,explanation=r'posts w/ $\\Delta EmT \\neq 0$')\n",
    "# plot_score_dist(post_diff_df.to_list(),n_bins=20)"
   ]
  },
  {
   "cell_type": "code",
   "execution_count": null,
   "metadata": {
    "id": "xNlXb_hW5N9i"
   },
   "outputs": [],
   "source": [
    "def plot_fluctuations(fluctuations_df,Z,df_x,df_y,title,xlabel,ylabel,explanation='w.r.t comments and posts that deviate'):\n",
    "    x = fluctuations_df[df_x].to_numpy(dtype=float)\n",
    "    y = fluctuations_df[df_y].to_numpy(dtype=float)\n",
    "    xmin = x.min()\n",
    "    xmax = x.max()\n",
    "    ymin = y.min()\n",
    "    ymax = y.max() \n",
    "    fig, ax = plt.subplots(1,1,figsize=(5,5))\n",
    "    ax.imshow(np.rot90(Z), cmap=plt.cm.gist_earth_r,\n",
    "            extent=[xmin, xmax, ymin, ymax])\n",
    "    #ax.plot(x, y, 'k.', markersize=2)\n",
    "    ax.set_xlim([xmin, xmax])\n",
    "\n",
    "    ax.set_ylim([ymin, ymax])\n",
    "\n",
    "    plt.plot([0,0],[-1,1],'dimgray',linestyle='dotted')\n",
    "    plt.plot([-1,1],[0,0],'dimgray',linestyle='dotted')\n",
    "    #plt.plot([-1,1],[-1,1],'dimgray',label='y = x',linestyle='dashed')\n",
    "    #legend = ax.legend(loc='upper left', shadow=True, fontsize='medium')\n",
    "    # ax.scatter(x[:50], y[:50], c='k', s=5, edgecolor='')\n",
    "    # legend.get_frame().set_facecolor('C0')\n",
    "    plt.xlabel(xlabel)\n",
    "    plt.ylabel(ylabel)\n",
    "    plt.title(title)\n",
    "    plt.show()"
   ]
  },
  {
   "cell_type": "code",
   "execution_count": null,
   "metadata": {
    "id": "zgvLAhbm3OAl"
   },
   "outputs": [],
   "source": [
    "score_fluct_df = pd.DataFrame(index=list(range(post_df.shape[0])),columns=['score_before','score_after'])"
   ]
  },
  {
   "cell_type": "code",
   "execution_count": null,
   "metadata": {
    "id": "taSI8PXp33ze"
   },
   "outputs": [],
   "source": [
    "for post in range(post_df.shape[0]):\n",
    "    score_fluct_df.iloc[post]['score_before'] = post_df.iloc[post].score[0]\n",
    "    score_fluct_df.iloc[post]['score_after'] = post_df.iloc[post].score[post_df.iloc[post].seq_len - 1]\n"
   ]
  },
  {
   "cell_type": "code",
   "execution_count": null,
   "metadata": {
    "id": "vBM9LhHH48el"
   },
   "outputs": [],
   "source": [
    "z_values_fluct = calculate_KDF(score_fluct_df)"
   ]
  },
  {
   "cell_type": "code",
   "execution_count": null,
   "metadata": {
    "colab": {
     "base_uri": "https://localhost:8080/",
     "height": 350
    },
    "executionInfo": {
     "elapsed": 620,
     "status": "ok",
     "timestamp": 1616634298134,
     "user": {
      "displayName": "Henrique Silva",
      "photoUrl": "https://lh3.googleusercontent.com/a-/AOh14Gh0sTZzx8mKsKV9-j3HdK09d6njRJoJnyBA8jbau1I=s64",
      "userId": "15429421149160718308"
     },
     "user_tz": 180
    },
    "id": "4xxv4S1W5Hxm",
    "outputId": "6e020072-1a3c-4130-c0cd-4f24368d2d93"
   },
   "outputs": [
    {
     "data": {
      "image/png": "[encoded data removed]",
      "text/plain": [
       "<Figure size 360x360 with 1 Axes>"
      ]
     },
     "metadata": {
      "tags": []
     },
     "output_type": "display_data"
    }
   ],
   "source": [
    "plot_fluctuations(score_fluct_df,z_values_fluct)"
   ]
  },
  {
   "cell_type": "markdown",
   "metadata": {
    "id": "9ypor_4Dr0md"
   },
   "source": [
    "# Experiments for FGCS review"
   ]
  },
  {
   "cell_type": "markdown",
   "metadata": {
    "id": "6TxnnCrcsAcx"
   },
   "source": [
    "## Normalizing MEAN and XGB w.r.t. real scores"
   ]
  },
  {
   "cell_type": "code",
   "execution_count": null,
   "metadata": {
    "colab": {
     "base_uri": "https://localhost:8080/",
     "height": 204
    },
    "executionInfo": {
     "elapsed": 720,
     "status": "ok",
     "timestamp": 1617888751039,
     "user": {
      "displayName": "Henrique Silva",
      "photoUrl": "https://lh3.googleusercontent.com/a-/AOh14Gh0sTZzx8mKsKV9-j3HdK09d6njRJoJnyBA8jbau1I=s64",
      "userId": "15429421149160718308"
     },
     "user_tz": 180
    },
    "id": "KRYsRmU2r9Na",
    "outputId": "fe6e3283-3871-48a0-bc0e-f8b838e1c623"
   },
   "outputs": [
    {
     "data": {
      "text/html": [
       "<div>\n",
       "<style scoped>\n",
       "    .dataframe tbody tr th:only-of-type {\n",
       "        vertical-align: middle;\n",
       "    }\n",
       "\n",
       "    .dataframe tbody tr th {\n",
       "        vertical-align: top;\n",
       "    }\n",
       "\n",
       "    .dataframe thead th {\n",
       "        text-align: right;\n",
       "    }\n",
       "</style>\n",
       "<table border=\"1\" class=\"dataframe\">\n",
       "  <thead>\n",
       "    <tr style=\"text-align: right;\">\n",
       "      <th></th>\n",
       "      <th>unchanged</th>\n",
       "      <th>final score</th>\n",
       "      <th>thread ncom</th>\n",
       "      <th>mean</th>\n",
       "      <th>last</th>\n",
       "      <th>model</th>\n",
       "      <th>xgb-mse</th>\n",
       "    </tr>\n",
       "  </thead>\n",
       "  <tbody>\n",
       "    <tr>\n",
       "      <th>10</th>\n",
       "      <td>-0.130042</td>\n",
       "      <td>-0.467600</td>\n",
       "      <td>2</td>\n",
       "      <td>0.012204</td>\n",
       "      <td>0.154450</td>\n",
       "      <td>0.341191</td>\n",
       "      <td>0.149213</td>\n",
       "    </tr>\n",
       "    <tr>\n",
       "      <th>17</th>\n",
       "      <td>0.523211</td>\n",
       "      <td>0.072975</td>\n",
       "      <td>5</td>\n",
       "      <td>0.216017</td>\n",
       "      <td>0.137519</td>\n",
       "      <td>0.533828</td>\n",
       "      <td>0.235764</td>\n",
       "    </tr>\n",
       "    <tr>\n",
       "      <th>20</th>\n",
       "      <td>0.058143</td>\n",
       "      <td>-0.100950</td>\n",
       "      <td>3</td>\n",
       "      <td>0.062931</td>\n",
       "      <td>0.130650</td>\n",
       "      <td>0.427484</td>\n",
       "      <td>0.199862</td>\n",
       "    </tr>\n",
       "    <tr>\n",
       "      <th>34</th>\n",
       "      <td>-0.126900</td>\n",
       "      <td>0.036950</td>\n",
       "      <td>5</td>\n",
       "      <td>-0.025573</td>\n",
       "      <td>0.036950</td>\n",
       "      <td>0.241738</td>\n",
       "      <td>0.080362</td>\n",
       "    </tr>\n",
       "    <tr>\n",
       "      <th>46</th>\n",
       "      <td>-0.142029</td>\n",
       "      <td>-0.274950</td>\n",
       "      <td>4</td>\n",
       "      <td>0.020388</td>\n",
       "      <td>-0.136600</td>\n",
       "      <td>0.383980</td>\n",
       "      <td>0.202052</td>\n",
       "    </tr>\n",
       "  </tbody>\n",
       "</table>\n",
       "</div>"
      ],
      "text/plain": [
       "    unchanged  final score  thread ncom      mean      last     model   xgb-mse\n",
       "10  -0.130042    -0.467600            2  0.012204  0.154450  0.341191  0.149213\n",
       "17   0.523211     0.072975            5  0.216017  0.137519  0.533828  0.235764\n",
       "20   0.058143    -0.100950            3  0.062931  0.130650  0.427484  0.199862\n",
       "34  -0.126900     0.036950            5 -0.025573  0.036950  0.241738  0.080362\n",
       "46  -0.142029    -0.274950            4  0.020388 -0.136600  0.383980  0.202052"
      ]
     },
     "execution_count": 30,
     "metadata": {
      "tags": []
     },
     "output_type": "execute_result"
    }
   ],
   "source": [
    "tmp_df = pd.read_csv(f'{RESULTSDIR}{PREFIX}_{SRC_DATASET}_predictions.csv',index_col=0)\n",
    "tmp_df.head()\n"
   ]
  },
  {
   "cell_type": "code",
   "execution_count": null,
   "metadata": {
    "colab": {
     "base_uri": "https://localhost:8080/"
    },
    "executionInfo": {
     "elapsed": 876,
     "status": "ok",
     "timestamp": 1617888753079,
     "user": {
      "displayName": "Henrique Silva",
      "photoUrl": "https://lh3.googleusercontent.com/a-/AOh14Gh0sTZzx8mKsKV9-j3HdK09d6njRJoJnyBA8jbau1I=s64",
      "userId": "15429421149160718308"
     },
     "user_tz": 180
    },
    "id": "BiGqd9Vsr9Nb",
    "outputId": "2b136f2e-0c28-49df-864a-8cc159e308f4"
   },
   "outputs": [
    {
     "name": "stdout",
     "output_type": "stream",
     "text": [
      "XGB UNNORMALIZED L1 LOSS: 0.25071632889529616\n",
      "MEAN UNNORMALIZED L1 LOSS: 0.27632694264958596\n"
     ]
    }
   ],
   "source": [
    "l1_loss_unnormalized_xgb = (tmp_df['xgb-mse'] - tmp_df['final score']).abs().mean()\n",
    "l1_loss_unnormalized_mean = (tmp_df['mean'] - tmp_df['final score']).abs().mean()\n",
    "print(f\"XGB UNNORMALIZED L1 LOSS: {l1_loss_unnormalized_xgb}\")\n",
    "print(f\"MEAN UNNORMALIZED L1 LOSS: {l1_loss_unnormalized_mean}\")"
   ]
  },
  {
   "cell_type": "code",
   "execution_count": null,
   "metadata": {
    "id": "NDcJCGaMr9Nc"
   },
   "outputs": [],
   "source": [
    "mu_true,std_true = tmp_df['final score'].describe().loc[['mean','std']]\n",
    "mu_pred_xgb,std_pred_xgb = tmp_df['xgb-mse'].describe().loc[['mean','std']]\n",
    "mu_pred_mean,std_pred_mean = tmp_df['mean'].describe().loc[['mean','std']]"
   ]
  },
  {
   "cell_type": "code",
   "execution_count": null,
   "metadata": {
    "id": "3lOFEQdar9Nc"
   },
   "outputs": [],
   "source": [
    "tmp_df['xgb-mse'] = (tmp_df['xgb-mse'] - mu_pred_xgb)/std_pred_xgb * std_true + mu_true\n",
    "tmp_df['mean'] = (tmp_df['mean'] - mu_pred_mean)/std_pred_mean * std_true + mu_true"
   ]
  },
  {
   "cell_type": "code",
   "execution_count": null,
   "metadata": {
    "colab": {
     "base_uri": "https://localhost:8080/"
    },
    "executionInfo": {
     "elapsed": 659,
     "status": "ok",
     "timestamp": 1617888757244,
     "user": {
      "displayName": "Henrique Silva",
      "photoUrl": "https://lh3.googleusercontent.com/a-/AOh14Gh0sTZzx8mKsKV9-j3HdK09d6njRJoJnyBA8jbau1I=s64",
      "userId": "15429421149160718308"
     },
     "user_tz": 180
    },
    "id": "yCrtbphSr9Nc",
    "outputId": "b994aa51-59b8-47a6-888a-e58afd286dd3"
   },
   "outputs": [
    {
     "name": "stdout",
     "output_type": "stream",
     "text": [
      "XGB NORMALIZED L1 LOSS: 0.31494926066284057\n",
      "MEAN NORMALIZED L1 LOSS: 0.32675626053834467\n"
     ]
    }
   ],
   "source": [
    "l1_loss_normalized_xgb = (tmp_df['xgb-mse'] - tmp_df['final score']).abs().mean()\n",
    "l1_loss_normalized_mean = (tmp_df['mean'] - tmp_df['final score']).abs().mean()\n",
    "print(f\"XGB NORMALIZED L1 LOSS: {l1_loss_normalized_xgb}\")\n",
    "print(f\"MEAN NORMALIZED L1 LOSS: {l1_loss_normalized_mean}\")"
   ]
  },
  {
   "cell_type": "code",
   "execution_count": null,
   "metadata": {
    "id": "9tTQIiyV30N2"
   },
   "outputs": [],
   "source": [
    "def calculate_KDF(fluctuations_df,df_y):\n",
    "\n",
    "    x = fluctuations_df['final score'].to_numpy(dtype=float)\n",
    "    y = fluctuations_df[df_y].to_numpy(dtype=float)\n",
    "    xmin = x.min()\n",
    "    xmax = x.max()\n",
    "    ymin = y.min()\n",
    "    ymax = y.max() \n",
    "    # X, Y = np.mgrid[xmin:xmax:100j, ymin:ymax:100j]\n",
    "    X, Y = np.mgrid[xmin:xmax:40j, ymin:ymax:40j]\n",
    "    positions = np.vstack([X.ravel(), Y.ravel()])\n",
    "    values = np.vstack([x, y])\n",
    "    kernel = stats.gaussian_kde(values)\n",
    "    Z = np.reshape(kernel(positions).T, X.shape)\n",
    "    return Z"
   ]
  },
  {
   "cell_type": "code",
   "execution_count": null,
   "metadata": {
    "id": "mNGoSwsPx8z-"
   },
   "outputs": [],
   "source": [
    "def plot_dist(fluctuations_df,subreddits,axs_list):\n",
    "    fig, axsl = plt.subplots(4,2,figsize=(4,8),sharey=True,tight_layout=True)\n",
    "    fig.text(0.6 , -0.01, r'EmT($c_n$) (true value)', ha='center', fontsize='medium')\n",
    "    fig.text(-0.01, 0.5 , 'prediction', va='center', rotation='vertical', fontsize='medium')\n",
    "    for ax, col in zip(axsl[0], axs_list[:]):\n",
    "        ax.set_title(col.upper(), size='large')\n",
    "    for ax, row in zip(axsl[:,0], subreddits):\n",
    "    # ax.yaxis.set_label_position(\"right\")\n",
    "        ax.set_ylabel(subreddit2title[row.lower()], rotation=0, size='large', horizontalalignment='right')\n",
    "    for indx,axs in enumerate(axsl):\n",
    "        for ind,ax in enumerate(axs):  \n",
    "            x = fluctuations_df[axs_list[ind]].to_numpy(dtype=float)\n",
    "            y = fluctuations_df['final score'].to_numpy(dtype=float)\n",
    "            Z = calculate_KDF(tmp_df.loc[subreddit2range[subreddits[indx]]],axs_list[ind])\n",
    "            xmin = x.min()\n",
    "            xmax = x.max()\n",
    "            ymin = y.min()\n",
    "            ymax = y.max() \n",
    "            ax.imshow(np.rot90(Z), cmap=plt.cm.gist_earth_r,\n",
    "                    extent=[xmin, xmax, ymin, ymax],aspect='auto')\n",
    "\n",
    "            #ax.plot(x, y, 'k.', markersize=2)\n",
    "            ax.set_xlim([xmin, xmax])\n",
    "            ax.set_ylim([ymin, ymax])\n",
    "            # ax.plot([0,0],[xmin,ymax],'dimgray',linestyle='dotted')\n",
    "            # ax.plot([xmin,ymax],[0,0],'dimgray',linestyle='dotted')\n",
    "            ax.axvline(color='dimgray',linestyle='dashed')\n",
    "            ax.axhline(color='dimgray',linestyle='dashed')\n",
    "            # ax.set_xlabel(r'$EmT(c_n)$')\n",
    "            # ax.set_ylabel('predictions')\n",
    "    cb = plt.colorbar(            ax.imshow(np.rot90(Z), cmap=plt.cm.gist_earth_r,\n",
    "                    extent=[xmin, xmax, ymin, ymax],aspect='auto'), cax = fig.add_axes([0.3, 1.01, .6, 0.01]), orientation='horizontal')\n",
    "    cb.ax.set_title('density', size='large')\n",
    "    plt.show()"
   ]
  },
  {
   "cell_type": "code",
   "execution_count": null,
   "metadata": {
    "colab": {
     "base_uri": "https://localhost:8080/",
     "height": 678
    },
    "executionInfo": {
     "elapsed": 2912,
     "status": "ok",
     "timestamp": 1617894510871,
     "user": {
      "displayName": "Henrique Silva",
      "photoUrl": "https://lh3.googleusercontent.com/a-/AOh14Gh0sTZzx8mKsKV9-j3HdK09d6njRJoJnyBA8jbau1I=s64",
      "userId": "15429421149160718308"
     },
     "user_tz": 180
    },
    "id": "WfJ410xWz4Ks",
    "outputId": "2cee0abc-3560-44ba-d8b7-feec2bef1d7b"
   },
   "outputs": [
    {
     "name": "stderr",
     "output_type": "stream",
     "text": [
      "/usr/local/lib/python3.7/dist-packages/IPython/core/pylabtools.py:125: UserWarning: This figure includes Axes that are not compatible with tight_layout, so results might be incorrect.\n",
      "  fig.canvas.print_figure(bytes_io, **kw)\n"
     ]
    },
    {
     "data": {
      "image/png": "[encoded data removed]",
      "text/plain": [
       "<Figure size 288x576 with 9 Axes>"
      ]
     },
     "metadata": {
      "tags": []
     },
     "output_type": "display_data"
    }
   ],
   "source": [
    "plot_dist(tmp_df,SUBREDDITS,['mean','xgb'])"
   ]
  },
  {
   "cell_type": "markdown",
   "metadata": {
    "id": "4G38Q1gAxRsl"
   },
   "source": [
    "## Robustness tests"
   ]
  },
  {
   "cell_type": "markdown",
   "metadata": {
    "id": "2czO5jXl1gEP"
   },
   "source": [
    "### Generating 5 different splits"
   ]
  },
  {
   "cell_type": "code",
   "execution_count": 16,
   "metadata": {
    "executionInfo": {
     "elapsed": 401,
     "status": "ok",
     "timestamp": 1619043236336,
     "user": {
      "displayName": "Henrique Silva",
      "photoUrl": "https://lh3.googleusercontent.com/a-/AOh14Gh0sTZzx8mKsKV9-j3HdK09d6njRJoJnyBA8jbau1I=s64",
      "userId": "15429421149160718308"
     },
     "user_tz": 180
    },
    "id": "Y6D-_TQNy-DL"
   },
   "outputs": [],
   "source": [
    "def reset_seeds_test(SEED):\n",
    "  random.seed(SEED)\n",
    "  np.random.seed(SEED)\n",
    "  torch.manual_seed(SEED)\n",
    "  torch.backends.cudnn.deterministic = True\n",
    "  torch.cuda.manual_seed(SEED)\n",
    "  torch.backends.cudnn.deterministic = True"
   ]
  },
  {
   "cell_type": "code",
   "execution_count": 17,
   "metadata": {
    "executionInfo": {
     "elapsed": 339,
     "status": "ok",
     "timestamp": 1619043237344,
     "user": {
      "displayName": "Henrique Silva",
      "photoUrl": "https://lh3.googleusercontent.com/a-/AOh14Gh0sTZzx8mKsKV9-j3HdK09d6njRJoJnyBA8jbau1I=s64",
      "userId": "15429421149160718308"
     },
     "user_tz": 180
    },
    "id": "mHQFa-npyLhy"
   },
   "outputs": [],
   "source": [
    "def split_indices_test(post_df,seed):\n",
    "  \n",
    "    nthreads = len(post_df)     # number of threads\n",
    "    if STRATIFIED:\n",
    "        y = post_df.apply(lambda p: p.score[p.seq_len-1], axis=1).values\n",
    "        bins = np.floor((y - MIN_VALUE)/BIN_WIDTH).astype(int)\n",
    "\n",
    "        reset_seeds_test(seed)\n",
    "        fold_size = int(0.1*len(y))\n",
    "        remaining_inds,valid_inds,_,_ = train_test_split(np.arange(nthreads),y,test_size=fold_size,stratify=bins)\n",
    "        train_inds,test_inds,_,_ = train_test_split(remaining_inds,y[remaining_inds],test_size=fold_size,stratify=bins[remaining_inds])\n",
    "\n",
    "        train_inds = np.sort(train_inds).tolist()\n",
    "        valid_inds = np.sort(valid_inds).tolist()\n",
    "        test_inds  = np.sort(test_inds).tolist()\n",
    "\n",
    "    else:\n",
    "        # divide randomly\n",
    "        reset_seeds_test(seed)\n",
    "        assigned_set = np.random.multinomial(1,[.8,.1,.1],nthreads)\n",
    "        \n",
    "        train_inds = list(np.argwhere(assigned_set[:,0]).ravel())\n",
    "        valid_inds = list(np.argwhere(assigned_set[:,1]).ravel())\n",
    "        test_inds  = list(np.argwhere(assigned_set[:,2]).ravel())\n",
    "\n",
    "    print(f\"Number of training examples: {len(train_inds)}\")\n",
    "    print(f\"Number of validation examples: {len(valid_inds)}\")\n",
    "    print(f\"Number of testing examples: {len(test_inds)}\")\n",
    "\n",
    "    return train_inds, valid_inds, test_inds"
   ]
  },
  {
   "cell_type": "code",
   "execution_count": 18,
   "metadata": {
    "executionInfo": {
     "elapsed": 399,
     "status": "ok",
     "timestamp": 1619043239724,
     "user": {
      "displayName": "Henrique Silva",
      "photoUrl": "https://lh3.googleusercontent.com/a-/AOh14Gh0sTZzx8mKsKV9-j3HdK09d6njRJoJnyBA8jbau1I=s64",
      "userId": "15429421149160718308"
     },
     "user_tz": 180
    },
    "id": "UvHT559XxxE0"
   },
   "outputs": [],
   "source": [
    "seeds = [124,125,126,127,128]\n",
    "test_errors = []"
   ]
  },
  {
   "cell_type": "code",
   "execution_count": 21,
   "metadata": {
    "colab": {
     "base_uri": "https://localhost:8080/"
    },
    "executionInfo": {
     "elapsed": 110123,
     "status": "ok",
     "timestamp": 1619043457467,
     "user": {
      "displayName": "Henrique Silva",
      "photoUrl": "https://lh3.googleusercontent.com/a-/AOh14Gh0sTZzx8mKsKV9-j3HdK09d6njRJoJnyBA8jbau1I=s64",
      "userId": "15429421149160718308"
     },
     "user_tz": 180
    },
    "id": "kci31_C2kCZ7",
    "outputId": "ec98f245-9f2c-41d3-dff0-12833e533031"
   },
   "outputs": [
    {
     "name": "stdout",
     "output_type": "stream",
     "text": [
      "Loading /content/drive/My Drive/MentalHealthShared/data/Anxiety_distilbert_filtered_posts.pkl...\n",
      "Loading /content/drive/My Drive/MentalHealthShared/data/bipolar_distilbert_filtered_posts.pkl...\n",
      "Loading /content/drive/My Drive/MentalHealthShared/data/depression_distilbert_filtered_posts.pkl...\n",
      "Loading /content/drive/My Drive/MentalHealthShared/data/SuicideWatch_distilbert_filtered_posts.pkl...\n",
      "Fraction of threads that had to be truncated: 0.004182708303626598\n"
     ]
    }
   ],
   "source": [
    "\n",
    "# TODO: all the constants should be defined or computed in the first cell\n",
    "suffix='_distilbert_filtered_posts.pkl'\n",
    "# if LOW_MEMORY:\n",
    "#     df_list = list()\n",
    "#     for subreddit in SUBREDDITS:\n",
    "#         curr_df = pd.read_pickle(DATADIR+subreddit+suffix)\n",
    "#         curr_df.drop(columns=['features'],inplace=True)\n",
    "#         df_list.append(curr_df)\n",
    "#     post_df = pd.concat((df_list[i]) \\ for i in range(len(SUBREDDITS)))\n",
    "# else:\n",
    "post_df = pd.concat((load_df(DATADIR+subreddit+suffix, MAX_THREAD_LEN) \\\n",
    "                        for subreddit in SUBREDDITS),keys=SUBREDDITS)\n",
    "\n",
    "# post_df = post_df.sample(10000)\n",
    "# print(post_df.loc[subreddit2post[SUBREDDITS[0]]])\n",
    "\n",
    "# TODO: it seems that we are keeping everything if KEEP_TEXT. is this really necessary?\n",
    "if not KEEP_TEXT:\n",
    "  post_df = post_df[['created_utc', 'seq_len','score', 'features', 'filtered_seqlen','valid_branches']]\n",
    "\n",
    "# new strategy to construct observations: follow branches of every discussion tree \n",
    "#post_df.drop(columns=['valid_branches'],inplace=True)\n",
    "\n",
    "if FILTERED:\n",
    "    # dropna on filtered_seqlen, then replace seq_len by filtered_seqlen\n",
    "    post_df.dropna(subset=['filtered_seqlen'], inplace=True)\n",
    "    post_df.filtered_seqlen = post_df.filtered_seqlen.astype(int)\n",
    "\n",
    "    post_df.drop(columns='seq_len',inplace=True)\n",
    "    post_df.rename(columns={'filtered_seqlen':'seq_len'},inplace=True)\n",
    "else:\n",
    "    post_df.drop(columns='filtered_seqlen',inplace=True)\n",
    "\n",
    "print(f'Fraction of threads that had to be truncated: {(post_df.seq_len>(MAX_THREAD_LEN+1)).mean()}')\n"
   ]
  },
  {
   "cell_type": "code",
   "execution_count": 22,
   "metadata": {
    "colab": {
     "base_uri": "https://localhost:8080/"
    },
    "executionInfo": {
     "elapsed": 17250,
     "status": "ok",
     "timestamp": 1619043908744,
     "user": {
      "displayName": "Henrique Silva",
      "photoUrl": "https://lh3.googleusercontent.com/a-/AOh14Gh0sTZzx8mKsKV9-j3HdK09d6njRJoJnyBA8jbau1I=s64",
      "userId": "15429421149160718308"
     },
     "user_tz": 180
    },
    "id": "sL6qwJt-jrXi",
    "outputId": "03deca02-f81d-46c3-ae5c-78d0ef0c3cf8"
   },
   "outputs": [
    {
     "name": "stdout",
     "output_type": "stream",
     "text": [
      "PART1\n",
      "Average score in dataset is 0.0\n",
      "slice(0, 11956, None)\n",
      "{'all': tensor([28.1145, 11.2911,  5.4015,  2.4045,  1.2764,  0.7067,  1.0117,  1.5064,\n",
      "         3.0316, 10.6168]), 'Anxiety': tensor([42.7000, 17.7126,  7.0123,  3.0040,  1.3743,  0.7531,  0.8850,  1.2454,\n",
      "         2.8535,  9.4514]), 'SuicideWatch': tensor([18.3787,  8.2006,  4.2482,  1.8874,  1.0884,  0.6727,  1.2003,  2.0198,\n",
      "         3.9991, 13.3577]), 'bipolar': tensor([77.7619, 17.3723,  7.3229,  2.8599,  1.2251,  0.6439,  0.9646,  1.4451,\n",
      "         3.5969, 14.8455]), 'depression': tensor([26.0078, 10.4848,  5.1658,  2.3935,  1.3543,  0.7238,  1.0143,  1.4845,\n",
      "         2.7013,  9.5060])}\n",
      "PART2\n",
      "Creating src\n",
      "Creating y\n",
      "Creating src_len_series\n",
      "GRU src tensor size: torch.Size([63117, 64, 770])\n",
      "y tensor size: torch.Size([63117])\n",
      "Creating dataset\n"
     ]
    }
   ],
   "source": [
    "#PART 1\n",
    "print(\"PART1\")\n",
    "prefix = 'unnorm_'\n",
    "shape = [1,post_df.iloc[0].features.shape[-1]]\n",
    "src_m = torch.zeros(shape)\n",
    "src_s = torch.ones(shape)\n",
    "score_m = float(src_m[0,-2])\n",
    "score_s = float(src_s[0,-2])\n",
    "\n",
    "print(f'Average score in dataset is {score_m}')\n",
    "\n",
    "subreddit2range = get_subreddit_range(post_df)\n",
    "print(subreddit2range[SUBREDDITS[0]])\n",
    "\n",
    "suffix = \"random\"\n",
    "if STRATIFIED:\n",
    "    suffix += '_strat'\n",
    "\n",
    "# compute weights for Weighted L1 Loss\n",
    "subreddit2weights = get_subreddit_weights(post_df, BIN_WIDTH,MIN_VALUE)\n",
    "print(subreddit2weights)\n",
    "\n",
    "#PART 2\n",
    "print(\"PART2\")\n",
    "\n",
    "print('Creating src')\n",
    "\n",
    "print('Creating y')\n",
    "y = torch.Tensor(post_df.apply(lambda p: p.score[p.seq_len-1], axis=1).values)\n",
    "\n",
    "print('Creating src_len_series')\n",
    "src_len_series = post_df.seq_len-1\n",
    "max_length=MAX_THREAD_LEN\n",
    "\n",
    "src = nn.utils.rnn.pad_sequence(\n",
    "[ (p.features[:min(MAX_THREAD_LEN,p.seq_len-1),:]-src_m)/src_s for index, p in post_df.iterrows()], batch_first=True)\n",
    "print(f\"GRU src tensor size: {src.size()}\")\n",
    "\n",
    "print(f'y tensor size: {y.size()}')\n",
    "tgt = None\n",
    "\n",
    "print('Creating dataset')\n",
    "if USE_GRU:\n",
    "    #dataset = createTensorDataset(src, src_len_series, y, tgt=tgt, max_length=max_length) # all threads, lim 63 comments\n",
    "    dataset = createTensorDataset(src, src_len_series, y, max_length=max_length) # all threads, lim 63 comments\n",
    "    del src\n",
    "\n",
    "del src_len_series, tgt, y"
   ]
  },
  {
   "cell_type": "code",
   "execution_count": null,
   "metadata": {
    "colab": {
     "base_uri": "https://localhost:8080/"
    },
    "id": "JNowQHuDxUcN",
    "outputId": "46b63163-537a-486d-ae97-08bf1aaecb16"
   },
   "outputs": [
    {
     "name": "stdout",
     "output_type": "stream",
     "text": [
      "Results file is /content/drive/My Drive/MentalHealthShared/results/random_strat_all_b10_fTrue_n20_p3_mGRUv1.pkl\n",
      "Number of training examples: 50495\n",
      "Number of validation examples: 6311\n",
      "Number of testing examples: 6311\n",
      "PART3\n",
      "PART4\n",
      "{'input_size': 770, 'output_size': 1, 'uses_two_series_as_input': False, 'dropout_out': 0.0, 'hidden_size': 64, 'num_layers': 2, 'dropout_rnn': 0.0, 'bidirectional': False}\n",
      "Test loss: 0.726\n",
      "Number of training examples: 50495\n",
      "Number of validation examples: 6311\n",
      "Number of testing examples: 6311\n",
      "PART3\n",
      "PART4\n",
      "{'input_size': 770, 'output_size': 1, 'uses_two_series_as_input': False, 'dropout_out': 0.0, 'hidden_size': 64, 'num_layers': 2, 'dropout_rnn': 0.0, 'bidirectional': False}\n",
      "Test loss: 0.720\n",
      "Number of training examples: 50495\n",
      "Number of validation examples: 6311\n",
      "Number of testing examples: 6311\n",
      "PART3\n",
      "PART4\n",
      "{'input_size': 770, 'output_size': 1, 'uses_two_series_as_input': False, 'dropout_out': 0.0, 'hidden_size': 64, 'num_layers': 2, 'dropout_rnn': 0.0, 'bidirectional': False}\n",
      "Test loss: 0.726\n",
      "Number of training examples: 50495\n",
      "Number of validation examples: 6311\n",
      "Number of testing examples: 6311\n",
      "PART3\n",
      "PART4\n"
     ]
    }
   ],
   "source": [
    "if type(SUBREDDITS) != list:\n",
    "    SUBREDDITS = list(SUBREDDITS)\n",
    "N_EPOCHS=20 # maximum number of epochs to train the model\n",
    "PATIENCE=3 # constant that controls the Early Stopping mechanism of the grid search for the GRU model\n",
    "SRC_DATASET='all'\n",
    "PREFIX ='random'\n",
    "if STRATIFIED:\n",
    "    PREFIX += '_strat'\n",
    "results_filename=f'{RESULTSDIR}{PREFIX}_{SRC_DATASET}_b{int(2./BIN_WIDTH):02}_f{FILTERED}_n{N_EPOCHS}_p{PATIENCE}_mGRUv1.pkl'\n",
    "print(f'Results file is {results_filename}')\n",
    "for curr_seed in seeds:\n",
    "    train_inds, valid_inds, test_inds  = split_indices_test(post_df,curr_seed)\n",
    "\n",
    "    #PART 3\n",
    "    print(\"PART3\")\n",
    "    train_loader = DataLoader(Subset(dataset,train_inds), batch_size=32, shuffle=True, num_workers=1)\n",
    "    valid_loader = DataLoader(Subset(dataset,valid_inds), batch_size=len(valid_inds), shuffle=False, num_workers=1)\n",
    "    test_loader  = DataLoader(Subset(dataset, test_inds), batch_size=len(test_inds), shuffle=False, num_workers=1)\n",
    "\n",
    "    #PART 4\n",
    "    print(\"PART4\")\n",
    "# load best model\n",
    "\n",
    "    RETRAIN = False\n",
    "    USE_LOSS_BEST = False\n",
    "    USE_BEST_VALIDATION = True\n",
    "    criterion = WeightedL1Loss(subreddit2weights['all'], BIN_WIDTH, MIN_VALUE)\n",
    "    #criterion = nn.MSELoss()\n",
    "    criterion_name = lambda x: x.__class__.__name__.split('.')[-1]\n",
    "\n",
    "\n",
    "    # see if the file with best params is available\n",
    "    # results_df = pd.read_pickle(results_filename)\n",
    "\n",
    "    if USE_LOSS_BEST:\n",
    "        best_result = results_df.loc[results_df[criterion_name(criterion)+'_best'].argmin()]\n",
    "    else:\n",
    "        best_result = results_df.loc[results_df[criterion_name(criterion)].argmin()]\n",
    "\n",
    "    # uncomment to load specific model instead\n",
    "    # best_result = results_df.iloc[0]\n",
    "    if RETRAIN:\n",
    "        reset_seeds()\n",
    "        model = models.GRUSentiment(best_result.params)\n",
    "        _, valid_loss, _ = train_over_nepochs( model, train_loader, valid_loader,\n",
    "                                            criterion=criterion, device=device,\n",
    "                                            patience=3, n_epochs=N_EPOCHS)\n",
    "\n",
    "        if USE_BEST_VALIDATION:\n",
    "            model.load_state_dict(torch.load('checkpoint.pt', map_location=lambda storage, loc: storage))\n",
    "\n",
    "    else:\n",
    "        model = models.GRUSentiment(best_result.params)\n",
    "        if USE_BEST_VALIDATION:\n",
    "            model.load_state_dict(best_result.para)\n",
    "        else:\n",
    "            model.load_state_dict(best_result.para_best)\n",
    "\n",
    "    model.to(device)\n",
    "\n",
    "    test_loss, outputs = evaluate(model, iter(test_loader), criterion=criterion, device=device, return_predictions=True)\n",
    "    model_yhat = outputs[0][0].cpu().numpy() # extract data from outputs\n",
    "    ilocs = outputs[0][2].cpu().numpy()\n",
    "    model_series = pd.Series(model_yhat.ravel(),index=ilocs)\n",
    "    del outputs\n",
    "\n",
    "    # print model params\n",
    "    print(best_result.params)\n",
    "    print(f'Test loss: {test_loss:.3f}')\n",
    "    test_errors.append(test_loss)"
   ]
  },
  {
   "cell_type": "code",
   "execution_count": null,
   "metadata": {
    "id": "06gQib0Bk6ml"
   },
   "outputs": [],
   "source": [
    "print(\"Results:\")\n",
    "print(f\"Test Errors mean: {np.mean(test_errors)}\")\n",
    "print(f\"Test Errors std: {np.std(test_errors)}\")"
   ]
  },
  {
   "cell_type": "markdown",
   "metadata": {
    "id": "e32afNzSkdm4"
   },
   "source": [
    "### Ramdomly initializing weights"
   ]
  },
  {
   "cell_type": "code",
   "execution_count": null,
   "metadata": {
    "id": "-XDYbIPmkkU0"
   },
   "outputs": [],
   "source": [
    "seeds = [124,125,126,127,128]\n",
    "test_errors2 = []"
   ]
  },
  {
   "cell_type": "code",
   "execution_count": null,
   "metadata": {
    "id": "Ky87NXIIkt_B"
   },
   "outputs": [],
   "source": [
    "\n",
    "train_inds, valid_inds, test_inds  = split_indices_test(post_df,1234)\n",
    "#PART 3\n",
    "print(\"PART3\")\n",
    "train_loader = DataLoader(Subset(dataset,train_inds), batch_size=32, shuffle=True, num_workers=1)\n",
    "valid_loader = DataLoader(Subset(dataset,valid_inds), batch_size=len(valid_inds), shuffle=False, num_workers=1)\n",
    "test_loader  = DataLoader(Subset(dataset, test_inds), batch_size=len(test_inds), shuffle=False, num_workers=1)\n",
    "for curr_seed in seeds:\n",
    "    #PART 4\n",
    "    print(\"PART4\")\n",
    "    # load best model\n",
    "    # RETRAIN = True\n",
    "    # USE_LOSS_BEST = False\n",
    "    # USE_BEST_VALIDATION = True\n",
    "    criterion = WeightedL1Loss(subreddit2weights['all'], BIN_WIDTH, MIN_VALUE)\n",
    "    #criterion = nn.MSELoss()\n",
    "    criterion_name = lambda x: x.__class__.__name__.split('.')[-1]\n",
    "    # see if the file with best params is available\n",
    "    results_df = pd.read_pickle(results_filename)\n",
    "    reset_seeds_test(curr_seed)\n",
    "    best_result = results_df.loc[results_df[criterion_name(criterion)].argmin()]\n",
    "    model = models.GRUSentiment(best_result.params)\n",
    "    _, valid_loss, _ = train_over_nepochs( model, train_loader, valid_loader,\n",
    "                                        criterion=criterion, device=device,\n",
    "                                        patience=3, n_epochs=N_EPOCHS)\n",
    "  \n",
    "\n",
    "    model.load_state_dict(torch.load('checkpoint.pt', map_location=lambda storage, loc: storage))\n",
    "    model.to(device)\n",
    "    test_loss, outputs = evaluate(model, iter(test_loader), criterion=criterion, device=device, return_predictions=True)\n",
    "    model_yhat = outputs[0][0].cpu().numpy() # extract data from outputs\n",
    "    ilocs = outputs[0][2].cpu().numpy()\n",
    "    model_series = pd.Series(model_yhat.ravel(),index=ilocs)\n",
    "    del outputs\n",
    "    # print model params\n",
    "    print(best_result.params)\n",
    "    print(f'Test loss: {test_loss:.3f}')\n",
    "    test_errors2.append(test_loss)"
   ]
  },
  {
   "cell_type": "code",
   "execution_count": null,
   "metadata": {
    "id": "bJYeMRzIlHMp"
   },
   "outputs": [],
   "source": [
    "print(\"Results:\")\n",
    "print(f\"Test Errors mean: {np.mean(test_errors2)}\")\n",
    "print(f\"Test Errors std: {np.std(test_errors2)}\")"
   ]
  }
 ],
 "metadata": {
  "accelerator": "TPU",
  "colab": {
   "collapsed_sections": [
    "OKpd9gQqT1Z-"
   ],
   "machine_shape": "hm",
   "name": "CLEAN_CODE.ipynb",
   "provenance": [],
   "toc_visible": true
  },
  "kernelspec": {
   "display_name": "Python 3",
   "language": "python",
   "name": "python3"
  },
  "language_info": {
   "codemirror_mode": {
    "name": "ipython",
    "version": 3
   },
   "file_extension": ".py",
   "mimetype": "text/x-python",
   "name": "python",
   "nbconvert_exporter": "python",
   "pygments_lexer": "ipython3",
   "version": "3.9.4"
  },
  "widgets": {
   "application/vnd.jupyter.widget-state+json": {
    "012c427cbd34484dbccfcc17859486b3": {
     "model_module": "@jupyter-widgets/controls",
     "model_name": "ProgressStyleModel",
     "state": {
      "_model_module": "@jupyter-widgets/controls",
      "_model_module_version": "1.5.0",
      "_model_name": "ProgressStyleModel",
      "_view_count": null,
      "_view_module": "@jupyter-widgets/base",
      "_view_module_version": "1.2.0",
      "_view_name": "StyleView",
      "bar_color": null,
      "description_width": "initial"
     }
    },
    "11fbf9e4df024e73957206c43984487d": {
     "model_module": "@jupyter-widgets/controls",
     "model_name": "DescriptionStyleModel",
     "state": {
      "_model_module": "@jupyter-widgets/controls",
      "_model_module_version": "1.5.0",
      "_model_name": "DescriptionStyleModel",
      "_view_count": null,
      "_view_module": "@jupyter-widgets/base",
      "_view_module_version": "1.2.0",
      "_view_name": "StyleView",
      "description_width": ""
     }
    },
    "1981e9b6e2b94fbbb706c0a106d642cd": {
     "model_module": "@jupyter-widgets/base",
     "model_name": "LayoutModel",
     "state": {
      "_model_module": "@jupyter-widgets/base",
      "_model_module_version": "1.2.0",
      "_model_name": "LayoutModel",
      "_view_count": null,
      "_view_module": "@jupyter-widgets/base",
      "_view_module_version": "1.2.0",
      "_view_name": "LayoutView",
      "align_content": null,
      "align_items": null,
      "align_self": null,
      "border": null,
      "bottom": null,
      "display": null,
      "flex": null,
      "flex_flow": null,
      "grid_area": null,
      "grid_auto_columns": null,
      "grid_auto_flow": null,
      "grid_auto_rows": null,
      "grid_column": null,
      "grid_gap": null,
      "grid_row": null,
      "grid_template_areas": null,
      "grid_template_columns": null,
      "grid_template_rows": null,
      "height": null,
      "justify_content": null,
      "justify_items": null,
      "left": null,
      "margin": null,
      "max_height": null,
      "max_width": null,
      "min_height": null,
      "min_width": null,
      "object_fit": null,
      "object_position": null,
      "order": null,
      "overflow": null,
      "overflow_x": null,
      "overflow_y": null,
      "padding": null,
      "right": null,
      "top": null,
      "visibility": null,
      "width": null
     }
    },
    "1ab015a4bab24295905e7762bc0c8e1a": {
     "model_module": "@jupyter-widgets/controls",
     "model_name": "DescriptionStyleModel",
     "state": {
      "_model_module": "@jupyter-widgets/controls",
      "_model_module_version": "1.5.0",
      "_model_name": "DescriptionStyleModel",
      "_view_count": null,
      "_view_module": "@jupyter-widgets/base",
      "_view_module_version": "1.2.0",
      "_view_name": "StyleView",
      "description_width": ""
     }
    },
    "2330c93336ee4093a3e5667247de5551": {
     "model_module": "@jupyter-widgets/controls",
     "model_name": "ProgressStyleModel",
     "state": {
      "_model_module": "@jupyter-widgets/controls",
      "_model_module_version": "1.5.0",
      "_model_name": "ProgressStyleModel",
      "_view_count": null,
      "_view_module": "@jupyter-widgets/base",
      "_view_module_version": "1.2.0",
      "_view_name": "StyleView",
      "bar_color": null,
      "description_width": "initial"
     }
    },
    "28d291d02eae48ce9db267d818f01643": {
     "model_module": "@jupyter-widgets/controls",
     "model_name": "HTMLModel",
     "state": {
      "_dom_classes": [],
      "_model_module": "@jupyter-widgets/controls",
      "_model_module_version": "1.5.0",
      "_model_name": "HTMLModel",
      "_view_count": null,
      "_view_module": "@jupyter-widgets/controls",
      "_view_module_version": "1.5.0",
      "_view_name": "HTMLView",
      "description": "",
      "description_tooltip": null,
      "layout": "IPY_MODEL_900d3201900e463e9359b01252a56821",
      "placeholder": "​",
      "style": "IPY_MODEL_1ab015a4bab24295905e7762bc0c8e1a",
      "value": " 2/? [00:00&lt;00:00, 29.51it/s]"
     }
    },
    "2c652df58ecf444aa8674b7d85bd22a1": {
     "model_module": "@jupyter-widgets/controls",
     "model_name": "HTMLModel",
     "state": {
      "_dom_classes": [],
      "_model_module": "@jupyter-widgets/controls",
      "_model_module_version": "1.5.0",
      "_model_name": "HTMLModel",
      "_view_count": null,
      "_view_module": "@jupyter-widgets/controls",
      "_view_module_version": "1.5.0",
      "_view_name": "HTMLView",
      "description": "",
      "description_tooltip": null,
      "layout": "IPY_MODEL_a78c0fe71c5c43149aea5054fcda6acc",
      "placeholder": "​",
      "style": "IPY_MODEL_e7678cf453504b2abbdc9248c2321eac",
      "value": " 3/? [00:00&lt;00:00, 13.57it/s]"
     }
    },
    "3316b0f32b55459b935d26e6c48e7ee4": {
     "model_module": "@jupyter-widgets/controls",
     "model_name": "FloatProgressModel",
     "state": {
      "_dom_classes": [],
      "_model_module": "@jupyter-widgets/controls",
      "_model_module_version": "1.5.0",
      "_model_name": "FloatProgressModel",
      "_view_count": null,
      "_view_module": "@jupyter-widgets/controls",
      "_view_module_version": "1.5.0",
      "_view_name": "ProgressView",
      "bar_style": "success",
      "description": "L0: criterion: ",
      "description_tooltip": null,
      "layout": "IPY_MODEL_85a7151619b24a2fab13311fa9aa9d9a",
      "max": 1,
      "min": 0,
      "orientation": "horizontal",
      "style": "IPY_MODEL_7795ad26f8ea41ffaa3c594368366f19",
      "value": 1
     }
    },
    "376b1768105e416fa0288d763c7e24c5": {
     "model_module": "@jupyter-widgets/base",
     "model_name": "LayoutModel",
     "state": {
      "_model_module": "@jupyter-widgets/base",
      "_model_module_version": "1.2.0",
      "_model_name": "LayoutModel",
      "_view_count": null,
      "_view_module": "@jupyter-widgets/base",
      "_view_module_version": "1.2.0",
      "_view_name": "LayoutView",
      "align_content": null,
      "align_items": null,
      "align_self": null,
      "border": null,
      "bottom": null,
      "display": null,
      "flex": null,
      "flex_flow": null,
      "grid_area": null,
      "grid_auto_columns": null,
      "grid_auto_flow": null,
      "grid_auto_rows": null,
      "grid_column": null,
      "grid_gap": null,
      "grid_row": null,
      "grid_template_areas": null,
      "grid_template_columns": null,
      "grid_template_rows": null,
      "height": null,
      "justify_content": null,
      "justify_items": null,
      "left": null,
      "margin": null,
      "max_height": null,
      "max_width": null,
      "min_height": null,
      "min_width": null,
      "object_fit": null,
      "object_position": null,
      "order": null,
      "overflow": null,
      "overflow_x": null,
      "overflow_y": null,
      "padding": null,
      "right": null,
      "top": null,
      "visibility": null,
      "width": null
     }
    },
    "39628f0a8a194d3a9ee3444855cb6f74": {
     "model_module": "@jupyter-widgets/base",
     "model_name": "LayoutModel",
     "state": {
      "_model_module": "@jupyter-widgets/base",
      "_model_module_version": "1.2.0",
      "_model_name": "LayoutModel",
      "_view_count": null,
      "_view_module": "@jupyter-widgets/base",
      "_view_module_version": "1.2.0",
      "_view_name": "LayoutView",
      "align_content": null,
      "align_items": null,
      "align_self": null,
      "border": null,
      "bottom": null,
      "display": null,
      "flex": null,
      "flex_flow": null,
      "grid_area": null,
      "grid_auto_columns": null,
      "grid_auto_flow": null,
      "grid_auto_rows": null,
      "grid_column": null,
      "grid_gap": null,
      "grid_row": null,
      "grid_template_areas": null,
      "grid_template_columns": null,
      "grid_template_rows": null,
      "height": null,
      "justify_content": null,
      "justify_items": null,
      "left": null,
      "margin": null,
      "max_height": null,
      "max_width": null,
      "min_height": null,
      "min_width": null,
      "object_fit": null,
      "object_position": null,
      "order": null,
      "overflow": null,
      "overflow_x": null,
      "overflow_y": null,
      "padding": null,
      "right": null,
      "top": null,
      "visibility": null,
      "width": null
     }
    },
    "3ba97b1cee714239adad8e2f2cd9bdf1": {
     "model_module": "@jupyter-widgets/base",
     "model_name": "LayoutModel",
     "state": {
      "_model_module": "@jupyter-widgets/base",
      "_model_module_version": "1.2.0",
      "_model_name": "LayoutModel",
      "_view_count": null,
      "_view_module": "@jupyter-widgets/base",
      "_view_module_version": "1.2.0",
      "_view_name": "LayoutView",
      "align_content": null,
      "align_items": null,
      "align_self": null,
      "border": null,
      "bottom": null,
      "display": null,
      "flex": null,
      "flex_flow": null,
      "grid_area": null,
      "grid_auto_columns": null,
      "grid_auto_flow": null,
      "grid_auto_rows": null,
      "grid_column": null,
      "grid_gap": null,
      "grid_row": null,
      "grid_template_areas": null,
      "grid_template_columns": null,
      "grid_template_rows": null,
      "height": null,
      "justify_content": null,
      "justify_items": null,
      "left": null,
      "margin": null,
      "max_height": null,
      "max_width": null,
      "min_height": null,
      "min_width": null,
      "object_fit": null,
      "object_position": null,
      "order": null,
      "overflow": null,
      "overflow_x": null,
      "overflow_y": null,
      "padding": null,
      "right": null,
      "top": null,
      "visibility": null,
      "width": null
     }
    },
    "3cc198966c94474f852cb61a1b8e5b19": {
     "model_module": "@jupyter-widgets/base",
     "model_name": "LayoutModel",
     "state": {
      "_model_module": "@jupyter-widgets/base",
      "_model_module_version": "1.2.0",
      "_model_name": "LayoutModel",
      "_view_count": null,
      "_view_module": "@jupyter-widgets/base",
      "_view_module_version": "1.2.0",
      "_view_name": "LayoutView",
      "align_content": null,
      "align_items": null,
      "align_self": null,
      "border": null,
      "bottom": null,
      "display": null,
      "flex": null,
      "flex_flow": null,
      "grid_area": null,
      "grid_auto_columns": null,
      "grid_auto_flow": null,
      "grid_auto_rows": null,
      "grid_column": null,
      "grid_gap": null,
      "grid_row": null,
      "grid_template_areas": null,
      "grid_template_columns": null,
      "grid_template_rows": null,
      "height": null,
      "justify_content": null,
      "justify_items": null,
      "left": null,
      "margin": null,
      "max_height": null,
      "max_width": null,
      "min_height": null,
      "min_width": null,
      "object_fit": null,
      "object_position": null,
      "order": null,
      "overflow": null,
      "overflow_x": null,
      "overflow_y": null,
      "padding": null,
      "right": null,
      "top": null,
      "visibility": null,
      "width": null
     }
    },
    "41759595873a4053b9989b65b87d9877": {
     "model_module": "@jupyter-widgets/base",
     "model_name": "LayoutModel",
     "state": {
      "_model_module": "@jupyter-widgets/base",
      "_model_module_version": "1.2.0",
      "_model_name": "LayoutModel",
      "_view_count": null,
      "_view_module": "@jupyter-widgets/base",
      "_view_module_version": "1.2.0",
      "_view_name": "LayoutView",
      "align_content": null,
      "align_items": null,
      "align_self": null,
      "border": null,
      "bottom": null,
      "display": null,
      "flex": null,
      "flex_flow": null,
      "grid_area": null,
      "grid_auto_columns": null,
      "grid_auto_flow": null,
      "grid_auto_rows": null,
      "grid_column": null,
      "grid_gap": null,
      "grid_row": null,
      "grid_template_areas": null,
      "grid_template_columns": null,
      "grid_template_rows": null,
      "height": null,
      "justify_content": null,
      "justify_items": null,
      "left": null,
      "margin": null,
      "max_height": null,
      "max_width": null,
      "min_height": null,
      "min_width": null,
      "object_fit": null,
      "object_position": null,
      "order": null,
      "overflow": null,
      "overflow_x": null,
      "overflow_y": null,
      "padding": null,
      "right": null,
      "top": null,
      "visibility": null,
      "width": null
     }
    },
    "52f51fa792864e0ea8e8e19ad305cc17": {
     "model_module": "@jupyter-widgets/base",
     "model_name": "LayoutModel",
     "state": {
      "_model_module": "@jupyter-widgets/base",
      "_model_module_version": "1.2.0",
      "_model_name": "LayoutModel",
      "_view_count": null,
      "_view_module": "@jupyter-widgets/base",
      "_view_module_version": "1.2.0",
      "_view_name": "LayoutView",
      "align_content": null,
      "align_items": null,
      "align_self": null,
      "border": null,
      "bottom": null,
      "display": null,
      "flex": null,
      "flex_flow": null,
      "grid_area": null,
      "grid_auto_columns": null,
      "grid_auto_flow": null,
      "grid_auto_rows": null,
      "grid_column": null,
      "grid_gap": null,
      "grid_row": null,
      "grid_template_areas": null,
      "grid_template_columns": null,
      "grid_template_rows": null,
      "height": null,
      "justify_content": null,
      "justify_items": null,
      "left": null,
      "margin": null,
      "max_height": null,
      "max_width": null,
      "min_height": null,
      "min_width": null,
      "object_fit": null,
      "object_position": null,
      "order": null,
      "overflow": null,
      "overflow_x": null,
      "overflow_y": null,
      "padding": null,
      "right": null,
      "top": null,
      "visibility": null,
      "width": null
     }
    },
    "55d1f3b86d8340569bae6a15b41aec03": {
     "model_module": "@jupyter-widgets/controls",
     "model_name": "HBoxModel",
     "state": {
      "_dom_classes": [],
      "_model_module": "@jupyter-widgets/controls",
      "_model_module_version": "1.5.0",
      "_model_name": "HBoxModel",
      "_view_count": null,
      "_view_module": "@jupyter-widgets/controls",
      "_view_module_version": "1.5.0",
      "_view_name": "HBoxView",
      "box_style": "",
      "children": [
       "IPY_MODEL_3316b0f32b55459b935d26e6c48e7ee4",
       "IPY_MODEL_c6c2f2e7d58b4dadb4f74634026258dd"
      ],
      "layout": "IPY_MODEL_39628f0a8a194d3a9ee3444855cb6f74"
     }
    },
    "629eb24f8c204a029a4af0b3ff2fe7aa": {
     "model_module": "@jupyter-widgets/controls",
     "model_name": "DescriptionStyleModel",
     "state": {
      "_model_module": "@jupyter-widgets/controls",
      "_model_module_version": "1.5.0",
      "_model_name": "DescriptionStyleModel",
      "_view_count": null,
      "_view_module": "@jupyter-widgets/base",
      "_view_module_version": "1.2.0",
      "_view_name": "StyleView",
      "description_width": ""
     }
    },
    "6502b37cbea84f7caa46809835f87df6": {
     "model_module": "@jupyter-widgets/controls",
     "model_name": "DescriptionStyleModel",
     "state": {
      "_model_module": "@jupyter-widgets/controls",
      "_model_module_version": "1.5.0",
      "_model_name": "DescriptionStyleModel",
      "_view_count": null,
      "_view_module": "@jupyter-widgets/base",
      "_view_module_version": "1.2.0",
      "_view_name": "StyleView",
      "description_width": ""
     }
    },
    "67dfec88be88456499b20bfe6e295a9f": {
     "model_module": "@jupyter-widgets/controls",
     "model_name": "FloatProgressModel",
     "state": {
      "_dom_classes": [],
      "_model_module": "@jupyter-widgets/controls",
      "_model_module_version": "1.5.0",
      "_model_name": "FloatProgressModel",
      "_view_count": null,
      "_view_module": "@jupyter-widgets/controls",
      "_view_module_version": "1.5.0",
      "_view_name": "ProgressView",
      "bar_style": "success",
      "description": "L2: bidirectional: ",
      "description_tooltip": null,
      "layout": "IPY_MODEL_3ba97b1cee714239adad8e2f2cd9bdf1",
      "max": 1,
      "min": 0,
      "orientation": "horizontal",
      "style": "IPY_MODEL_2330c93336ee4093a3e5667247de5551",
      "value": 1
     }
    },
    "6d298d1b1af4407897041958d2d7cdee": {
     "model_module": "@jupyter-widgets/base",
     "model_name": "LayoutModel",
     "state": {
      "_model_module": "@jupyter-widgets/base",
      "_model_module_version": "1.2.0",
      "_model_name": "LayoutModel",
      "_view_count": null,
      "_view_module": "@jupyter-widgets/base",
      "_view_module_version": "1.2.0",
      "_view_name": "LayoutView",
      "align_content": null,
      "align_items": null,
      "align_self": null,
      "border": null,
      "bottom": null,
      "display": null,
      "flex": null,
      "flex_flow": null,
      "grid_area": null,
      "grid_auto_columns": null,
      "grid_auto_flow": null,
      "grid_auto_rows": null,
      "grid_column": null,
      "grid_gap": null,
      "grid_row": null,
      "grid_template_areas": null,
      "grid_template_columns": null,
      "grid_template_rows": null,
      "height": null,
      "justify_content": null,
      "justify_items": null,
      "left": null,
      "margin": null,
      "max_height": null,
      "max_width": null,
      "min_height": null,
      "min_width": null,
      "object_fit": null,
      "object_position": null,
      "order": null,
      "overflow": null,
      "overflow_x": null,
      "overflow_y": null,
      "padding": null,
      "right": null,
      "top": null,
      "visibility": null,
      "width": null
     }
    },
    "723fd87edfa74e4299ae5078735d081e": {
     "model_module": "@jupyter-widgets/controls",
     "model_name": "HTMLModel",
     "state": {
      "_dom_classes": [],
      "_model_module": "@jupyter-widgets/controls",
      "_model_module_version": "1.5.0",
      "_model_name": "HTMLModel",
      "_view_count": null,
      "_view_module": "@jupyter-widgets/controls",
      "_view_module_version": "1.5.0",
      "_view_name": "HTMLView",
      "description": "",
      "description_tooltip": null,
      "layout": "IPY_MODEL_1981e9b6e2b94fbbb706c0a106d642cd",
      "placeholder": "​",
      "style": "IPY_MODEL_629eb24f8c204a029a4af0b3ff2fe7aa",
      "value": " 2/? [00:20&lt;00:00, 10.30s/it]"
     }
    },
    "7795ad26f8ea41ffaa3c594368366f19": {
     "model_module": "@jupyter-widgets/controls",
     "model_name": "ProgressStyleModel",
     "state": {
      "_model_module": "@jupyter-widgets/controls",
      "_model_module_version": "1.5.0",
      "_model_name": "ProgressStyleModel",
      "_view_count": null,
      "_view_module": "@jupyter-widgets/base",
      "_view_module_version": "1.2.0",
      "_view_name": "StyleView",
      "bar_color": null,
      "description_width": "initial"
     }
    },
    "7e14b73da03742599230d92cf1ec0ad4": {
     "model_module": "@jupyter-widgets/controls",
     "model_name": "HTMLModel",
     "state": {
      "_dom_classes": [],
      "_model_module": "@jupyter-widgets/controls",
      "_model_module_version": "1.5.0",
      "_model_name": "HTMLModel",
      "_view_count": null,
      "_view_module": "@jupyter-widgets/controls",
      "_view_module_version": "1.5.0",
      "_view_name": "HTMLView",
      "description": "",
      "description_tooltip": null,
      "layout": "IPY_MODEL_d9bb357dbd5f473983df2f4bad28ccc6",
      "placeholder": "​",
      "style": "IPY_MODEL_11fbf9e4df024e73957206c43984487d",
      "value": " 2/? [00:20&lt;00:00, 10.27s/it]"
     }
    },
    "7fb1a5b471974905946d1f95110600d1": {
     "model_module": "@jupyter-widgets/controls",
     "model_name": "HBoxModel",
     "state": {
      "_dom_classes": [],
      "_model_module": "@jupyter-widgets/controls",
      "_model_module_version": "1.5.0",
      "_model_name": "HBoxModel",
      "_view_count": null,
      "_view_module": "@jupyter-widgets/controls",
      "_view_module_version": "1.5.0",
      "_view_name": "HBoxView",
      "box_style": "",
      "children": [
       "IPY_MODEL_67dfec88be88456499b20bfe6e295a9f",
       "IPY_MODEL_7e14b73da03742599230d92cf1ec0ad4"
      ],
      "layout": "IPY_MODEL_df97ed292e8c4b70aee9b3632ec63a12"
     }
    },
    "807b5764492646ea9d85d1e1fcfae51e": {
     "model_module": "@jupyter-widgets/controls",
     "model_name": "ProgressStyleModel",
     "state": {
      "_model_module": "@jupyter-widgets/controls",
      "_model_module_version": "1.5.0",
      "_model_name": "ProgressStyleModel",
      "_view_count": null,
      "_view_module": "@jupyter-widgets/base",
      "_view_module_version": "1.2.0",
      "_view_name": "StyleView",
      "bar_color": null,
      "description_width": "initial"
     }
    },
    "85a7151619b24a2fab13311fa9aa9d9a": {
     "model_module": "@jupyter-widgets/base",
     "model_name": "LayoutModel",
     "state": {
      "_model_module": "@jupyter-widgets/base",
      "_model_module_version": "1.2.0",
      "_model_name": "LayoutModel",
      "_view_count": null,
      "_view_module": "@jupyter-widgets/base",
      "_view_module_version": "1.2.0",
      "_view_name": "LayoutView",
      "align_content": null,
      "align_items": null,
      "align_self": null,
      "border": null,
      "bottom": null,
      "display": null,
      "flex": null,
      "flex_flow": null,
      "grid_area": null,
      "grid_auto_columns": null,
      "grid_auto_flow": null,
      "grid_auto_rows": null,
      "grid_column": null,
      "grid_gap": null,
      "grid_row": null,
      "grid_template_areas": null,
      "grid_template_columns": null,
      "grid_template_rows": null,
      "height": null,
      "justify_content": null,
      "justify_items": null,
      "left": null,
      "margin": null,
      "max_height": null,
      "max_width": null,
      "min_height": null,
      "min_width": null,
      "object_fit": null,
      "object_position": null,
      "order": null,
      "overflow": null,
      "overflow_x": null,
      "overflow_y": null,
      "padding": null,
      "right": null,
      "top": null,
      "visibility": null,
      "width": null
     }
    },
    "8beb51b17bb34c80a8a494d1115a279b": {
     "model_module": "@jupyter-widgets/base",
     "model_name": "LayoutModel",
     "state": {
      "_model_module": "@jupyter-widgets/base",
      "_model_module_version": "1.2.0",
      "_model_name": "LayoutModel",
      "_view_count": null,
      "_view_module": "@jupyter-widgets/base",
      "_view_module_version": "1.2.0",
      "_view_name": "LayoutView",
      "align_content": null,
      "align_items": null,
      "align_self": null,
      "border": null,
      "bottom": null,
      "display": null,
      "flex": null,
      "flex_flow": null,
      "grid_area": null,
      "grid_auto_columns": null,
      "grid_auto_flow": null,
      "grid_auto_rows": null,
      "grid_column": null,
      "grid_gap": null,
      "grid_row": null,
      "grid_template_areas": null,
      "grid_template_columns": null,
      "grid_template_rows": null,
      "height": null,
      "justify_content": null,
      "justify_items": null,
      "left": null,
      "margin": null,
      "max_height": null,
      "max_width": null,
      "min_height": null,
      "min_width": null,
      "object_fit": null,
      "object_position": null,
      "order": null,
      "overflow": null,
      "overflow_x": null,
      "overflow_y": null,
      "padding": null,
      "right": null,
      "top": null,
      "visibility": null,
      "width": null
     }
    },
    "900d3201900e463e9359b01252a56821": {
     "model_module": "@jupyter-widgets/base",
     "model_name": "LayoutModel",
     "state": {
      "_model_module": "@jupyter-widgets/base",
      "_model_module_version": "1.2.0",
      "_model_name": "LayoutModel",
      "_view_count": null,
      "_view_module": "@jupyter-widgets/base",
      "_view_module_version": "1.2.0",
      "_view_name": "LayoutView",
      "align_content": null,
      "align_items": null,
      "align_self": null,
      "border": null,
      "bottom": null,
      "display": null,
      "flex": null,
      "flex_flow": null,
      "grid_area": null,
      "grid_auto_columns": null,
      "grid_auto_flow": null,
      "grid_auto_rows": null,
      "grid_column": null,
      "grid_gap": null,
      "grid_row": null,
      "grid_template_areas": null,
      "grid_template_columns": null,
      "grid_template_rows": null,
      "height": null,
      "justify_content": null,
      "justify_items": null,
      "left": null,
      "margin": null,
      "max_height": null,
      "max_width": null,
      "min_height": null,
      "min_width": null,
      "object_fit": null,
      "object_position": null,
      "order": null,
      "overflow": null,
      "overflow_x": null,
      "overflow_y": null,
      "padding": null,
      "right": null,
      "top": null,
      "visibility": null,
      "width": null
     }
    },
    "93481f22f8ef4f5dafb8163c10e8548a": {
     "model_module": "@jupyter-widgets/base",
     "model_name": "LayoutModel",
     "state": {
      "_model_module": "@jupyter-widgets/base",
      "_model_module_version": "1.2.0",
      "_model_name": "LayoutModel",
      "_view_count": null,
      "_view_module": "@jupyter-widgets/base",
      "_view_module_version": "1.2.0",
      "_view_name": "LayoutView",
      "align_content": null,
      "align_items": null,
      "align_self": null,
      "border": null,
      "bottom": null,
      "display": null,
      "flex": null,
      "flex_flow": null,
      "grid_area": null,
      "grid_auto_columns": null,
      "grid_auto_flow": null,
      "grid_auto_rows": null,
      "grid_column": null,
      "grid_gap": null,
      "grid_row": null,
      "grid_template_areas": null,
      "grid_template_columns": null,
      "grid_template_rows": null,
      "height": null,
      "justify_content": null,
      "justify_items": null,
      "left": null,
      "margin": null,
      "max_height": null,
      "max_width": null,
      "min_height": null,
      "min_width": null,
      "object_fit": null,
      "object_position": null,
      "order": null,
      "overflow": null,
      "overflow_x": null,
      "overflow_y": null,
      "padding": null,
      "right": null,
      "top": null,
      "visibility": null,
      "width": null
     }
    },
    "a68f26679c0243159d9233a2c38b6579": {
     "model_module": "@jupyter-widgets/controls",
     "model_name": "HBoxModel",
     "state": {
      "_dom_classes": [],
      "_model_module": "@jupyter-widgets/controls",
      "_model_module_version": "1.5.0",
      "_model_name": "HBoxModel",
      "_view_count": null,
      "_view_module": "@jupyter-widgets/controls",
      "_view_module_version": "1.5.0",
      "_view_name": "HBoxView",
      "box_style": "",
      "children": [
       "IPY_MODEL_ed9401335ebf482185b42d096dfcd665",
       "IPY_MODEL_723fd87edfa74e4299ae5078735d081e"
      ],
      "layout": "IPY_MODEL_8beb51b17bb34c80a8a494d1115a279b"
     }
    },
    "a78c0fe71c5c43149aea5054fcda6acc": {
     "model_module": "@jupyter-widgets/base",
     "model_name": "LayoutModel",
     "state": {
      "_model_module": "@jupyter-widgets/base",
      "_model_module_version": "1.2.0",
      "_model_name": "LayoutModel",
      "_view_count": null,
      "_view_module": "@jupyter-widgets/base",
      "_view_module_version": "1.2.0",
      "_view_name": "LayoutView",
      "align_content": null,
      "align_items": null,
      "align_self": null,
      "border": null,
      "bottom": null,
      "display": null,
      "flex": null,
      "flex_flow": null,
      "grid_area": null,
      "grid_auto_columns": null,
      "grid_auto_flow": null,
      "grid_auto_rows": null,
      "grid_column": null,
      "grid_gap": null,
      "grid_row": null,
      "grid_template_areas": null,
      "grid_template_columns": null,
      "grid_template_rows": null,
      "height": null,
      "justify_content": null,
      "justify_items": null,
      "left": null,
      "margin": null,
      "max_height": null,
      "max_width": null,
      "min_height": null,
      "min_width": null,
      "object_fit": null,
      "object_position": null,
      "order": null,
      "overflow": null,
      "overflow_x": null,
      "overflow_y": null,
      "padding": null,
      "right": null,
      "top": null,
      "visibility": null,
      "width": null
     }
    },
    "c00efd99693d493380ed14311ba9e60c": {
     "model_module": "@jupyter-widgets/controls",
     "model_name": "HBoxModel",
     "state": {
      "_dom_classes": [],
      "_model_module": "@jupyter-widgets/controls",
      "_model_module_version": "1.5.0",
      "_model_name": "HBoxModel",
      "_view_count": null,
      "_view_module": "@jupyter-widgets/controls",
      "_view_module_version": "1.5.0",
      "_view_name": "HBoxView",
      "box_style": "",
      "children": [
       "IPY_MODEL_ce7f42e2ebbb47c6a833373ca9cf3bc1",
       "IPY_MODEL_2c652df58ecf444aa8674b7d85bd22a1"
      ],
      "layout": "IPY_MODEL_52f51fa792864e0ea8e8e19ad305cc17"
     }
    },
    "c6c2f2e7d58b4dadb4f74634026258dd": {
     "model_module": "@jupyter-widgets/controls",
     "model_name": "HTMLModel",
     "state": {
      "_dom_classes": [],
      "_model_module": "@jupyter-widgets/controls",
      "_model_module_version": "1.5.0",
      "_model_name": "HTMLModel",
      "_view_count": null,
      "_view_module": "@jupyter-widgets/controls",
      "_view_module_version": "1.5.0",
      "_view_name": "HTMLView",
      "description": "",
      "description_tooltip": null,
      "layout": "IPY_MODEL_41759595873a4053b9989b65b87d9877",
      "placeholder": "​",
      "style": "IPY_MODEL_6502b37cbea84f7caa46809835f87df6",
      "value": " 1/? [00:00&lt;00:00,  4.06it/s]"
     }
    },
    "ce7f42e2ebbb47c6a833373ca9cf3bc1": {
     "model_module": "@jupyter-widgets/controls",
     "model_name": "FloatProgressModel",
     "state": {
      "_dom_classes": [],
      "_model_module": "@jupyter-widgets/controls",
      "_model_module_version": "1.5.0",
      "_model_name": "FloatProgressModel",
      "_view_count": null,
      "_view_module": "@jupyter-widgets/controls",
      "_view_module_version": "1.5.0",
      "_view_name": "ProgressView",
      "bar_style": "success",
      "description": "L1: hidden_size: ",
      "description_tooltip": null,
      "layout": "IPY_MODEL_93481f22f8ef4f5dafb8163c10e8548a",
      "max": 1,
      "min": 0,
      "orientation": "horizontal",
      "style": "IPY_MODEL_e68fdc498d36479fbc8eddc33072d2d1",
      "value": 1
     }
    },
    "d9bb357dbd5f473983df2f4bad28ccc6": {
     "model_module": "@jupyter-widgets/base",
     "model_name": "LayoutModel",
     "state": {
      "_model_module": "@jupyter-widgets/base",
      "_model_module_version": "1.2.0",
      "_model_name": "LayoutModel",
      "_view_count": null,
      "_view_module": "@jupyter-widgets/base",
      "_view_module_version": "1.2.0",
      "_view_name": "LayoutView",
      "align_content": null,
      "align_items": null,
      "align_self": null,
      "border": null,
      "bottom": null,
      "display": null,
      "flex": null,
      "flex_flow": null,
      "grid_area": null,
      "grid_auto_columns": null,
      "grid_auto_flow": null,
      "grid_auto_rows": null,
      "grid_column": null,
      "grid_gap": null,
      "grid_row": null,
      "grid_template_areas": null,
      "grid_template_columns": null,
      "grid_template_rows": null,
      "height": null,
      "justify_content": null,
      "justify_items": null,
      "left": null,
      "margin": null,
      "max_height": null,
      "max_width": null,
      "min_height": null,
      "min_width": null,
      "object_fit": null,
      "object_position": null,
      "order": null,
      "overflow": null,
      "overflow_x": null,
      "overflow_y": null,
      "padding": null,
      "right": null,
      "top": null,
      "visibility": null,
      "width": null
     }
    },
    "df97ed292e8c4b70aee9b3632ec63a12": {
     "model_module": "@jupyter-widgets/base",
     "model_name": "LayoutModel",
     "state": {
      "_model_module": "@jupyter-widgets/base",
      "_model_module_version": "1.2.0",
      "_model_name": "LayoutModel",
      "_view_count": null,
      "_view_module": "@jupyter-widgets/base",
      "_view_module_version": "1.2.0",
      "_view_name": "LayoutView",
      "align_content": null,
      "align_items": null,
      "align_self": null,
      "border": null,
      "bottom": null,
      "display": null,
      "flex": null,
      "flex_flow": null,
      "grid_area": null,
      "grid_auto_columns": null,
      "grid_auto_flow": null,
      "grid_auto_rows": null,
      "grid_column": null,
      "grid_gap": null,
      "grid_row": null,
      "grid_template_areas": null,
      "grid_template_columns": null,
      "grid_template_rows": null,
      "height": null,
      "justify_content": null,
      "justify_items": null,
      "left": null,
      "margin": null,
      "max_height": null,
      "max_width": null,
      "min_height": null,
      "min_width": null,
      "object_fit": null,
      "object_position": null,
      "order": null,
      "overflow": null,
      "overflow_x": null,
      "overflow_y": null,
      "padding": null,
      "right": null,
      "top": null,
      "visibility": null,
      "width": null
     }
    },
    "e68fdc498d36479fbc8eddc33072d2d1": {
     "model_module": "@jupyter-widgets/controls",
     "model_name": "ProgressStyleModel",
     "state": {
      "_model_module": "@jupyter-widgets/controls",
      "_model_module_version": "1.5.0",
      "_model_name": "ProgressStyleModel",
      "_view_count": null,
      "_view_module": "@jupyter-widgets/base",
      "_view_module_version": "1.2.0",
      "_view_name": "StyleView",
      "bar_color": null,
      "description_width": "initial"
     }
    },
    "e7678cf453504b2abbdc9248c2321eac": {
     "model_module": "@jupyter-widgets/controls",
     "model_name": "DescriptionStyleModel",
     "state": {
      "_model_module": "@jupyter-widgets/controls",
      "_model_module_version": "1.5.0",
      "_model_name": "DescriptionStyleModel",
      "_view_count": null,
      "_view_module": "@jupyter-widgets/base",
      "_view_module_version": "1.2.0",
      "_view_name": "StyleView",
      "description_width": ""
     }
    },
    "e933ea33c0794790bdd61898adca5f36": {
     "model_module": "@jupyter-widgets/controls",
     "model_name": "HBoxModel",
     "state": {
      "_dom_classes": [],
      "_model_module": "@jupyter-widgets/controls",
      "_model_module_version": "1.5.0",
      "_model_name": "HBoxModel",
      "_view_count": null,
      "_view_module": "@jupyter-widgets/controls",
      "_view_module_version": "1.5.0",
      "_view_name": "HBoxView",
      "box_style": "",
      "children": [
       "IPY_MODEL_ff25d80f657c420ab67b73a09e7c93aa",
       "IPY_MODEL_28d291d02eae48ce9db267d818f01643"
      ],
      "layout": "IPY_MODEL_376b1768105e416fa0288d763c7e24c5"
     }
    },
    "ed9401335ebf482185b42d096dfcd665": {
     "model_module": "@jupyter-widgets/controls",
     "model_name": "FloatProgressModel",
     "state": {
      "_dom_classes": [],
      "_model_module": "@jupyter-widgets/controls",
      "_model_module_version": "1.5.0",
      "_model_name": "FloatProgressModel",
      "_view_count": null,
      "_view_module": "@jupyter-widgets/controls",
      "_view_module_version": "1.5.0",
      "_view_name": "ProgressView",
      "bar_style": "success",
      "description": "L2: bidirectional: ",
      "description_tooltip": null,
      "layout": "IPY_MODEL_6d298d1b1af4407897041958d2d7cdee",
      "max": 1,
      "min": 0,
      "orientation": "horizontal",
      "style": "IPY_MODEL_012c427cbd34484dbccfcc17859486b3",
      "value": 1
     }
    },
    "ff25d80f657c420ab67b73a09e7c93aa": {
     "model_module": "@jupyter-widgets/controls",
     "model_name": "FloatProgressModel",
     "state": {
      "_dom_classes": [],
      "_model_module": "@jupyter-widgets/controls",
      "_model_module_version": "1.5.0",
      "_model_name": "FloatProgressModel",
      "_view_count": null,
      "_view_module": "@jupyter-widgets/controls",
      "_view_module_version": "1.5.0",
      "_view_name": "ProgressView",
      "bar_style": "success",
      "description": "L2: bidirectional: ",
      "description_tooltip": null,
      "layout": "IPY_MODEL_3cc198966c94474f852cb61a1b8e5b19",
      "max": 1,
      "min": 0,
      "orientation": "horizontal",
      "style": "IPY_MODEL_807b5764492646ea9d85d1e1fcfae51e",
      "value": 1
     }
    }
   }
  }
 },
 "nbformat": 4,
 "nbformat_minor": 1
}
